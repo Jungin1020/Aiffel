{
  "nbformat": 4,
  "nbformat_minor": 0,
  "metadata": {
    "colab": {
      "name": "2022.01.27_exp_8_news_2.ipynb",
      "provenance": [],
      "collapsed_sections": [],
      "mount_file_id": "15OWnmpqAkhoX_NFatrGNKEwPNgSXWIhV",
      "authorship_tag": "ABX9TyNtLWXiIS+geulE95xLRrre",
      "include_colab_link": true
    },
    "kernelspec": {
      "name": "python3",
      "display_name": "Python 3"
    },
    "language_info": {
      "name": "python"
    },
    "accelerator": "GPU"
  },
  "cells": [
    {
      "cell_type": "markdown",
      "metadata": {
        "id": "view-in-github",
        "colab_type": "text"
      },
      "source": [
        "<a href=\"https://colab.research.google.com/github/Jungin1020/Aiffel_exp/blob/main/2022_01_27_exp_8_news_2.ipynb\" target=\"_parent\"><img src=\"https://colab.research.google.com/assets/colab-badge.svg\" alt=\"Open In Colab\"/></a>"
      ]
    },
    {
      "cell_type": "markdown",
      "source": [
        "1. Extractive/Abstractive summarization\n",
        "2. text normalization\n",
        "3. Attention Mechanism"
      ],
      "metadata": {
        "id": "tYhjbzLqv1Ug"
      }
    },
    {
      "cell_type": "markdown",
      "source": [
        "#Text Summarization\n",
        "긴 길이의 문서 원문을 핵심 주제만으로 구성 된 짧은 문장들로 변환\n",
        "\n",
        "###1. Extractive Summarizatioin\n",
        "문장들을 추출해서 요약\n",
        "\n",
        "###2. Abstractive Summarization\n",
        "원문으로부터 내용이 요약된 새로운 문장 생성\n",
        "문장 분류(Text Classification) + 자연어 생성(NLG)"
      ],
      "metadata": {
        "id": "n2jPX8MywvNV"
      }
    },
    {
      "cell_type": "markdown",
      "source": [
        "seq2seq - 주로 뉴럴 기계번역에 사용\n",
        "\n",
        "원문을 요약문으로 번역한다고 생각"
      ],
      "metadata": {
        "id": "3a6ceSq-xQAm"
      }
    },
    {
      "cell_type": "markdown",
      "source": [
        "##LSTM\n",
        "hidden state 와 cell state도 사용"
      ],
      "metadata": {
        "id": "jcPtVNif4TSX"
      }
    },
    {
      "cell_type": "markdown",
      "source": [
        "##Attention Mechanism\n",
        "\n",
        "컨텍스트 정보에 많은 정보 손실이 일어나는 다른 RNN 계열 인공신경망(바닐라,LSTM,GRU)와 달리 인코더의 모든 step의 hidden state 정보가 컨텍스트에 전부 반영"
      ],
      "metadata": {
        "id": "sroOwWdI2-Bv"
      }
    },
    {
      "cell_type": "code",
      "source": [
        "'''\n",
        "from google.colab import drive\n",
        "drive.mount('/content/drive')\n",
        "'''"
      ],
      "metadata": {
        "colab": {
          "base_uri": "https://localhost:8080/",
          "height": 35
        },
        "id": "yUabG03129gi",
        "outputId": "89a7b232-2f56-4d6d-97a9-22aed9010a97"
      },
      "execution_count": null,
      "outputs": [
        {
          "output_type": "execute_result",
          "data": {
            "application/vnd.google.colaboratory.intrinsic+json": {
              "type": "string"
            },
            "text/plain": [
              "\"\\nfrom google.colab import drive\\ndrive.mount('/content/drive')\\n\""
            ]
          },
          "metadata": {},
          "execution_count": 1
        }
      ]
    },
    {
      "cell_type": "code",
      "execution_count": null,
      "metadata": {
        "id": "YTUheUJIvsfa"
      },
      "outputs": [],
      "source": [
        "#!mkdir -p /content/drive/MyDrive/aiffel/news_summarization/data"
      ]
    },
    {
      "cell_type": "code",
      "source": [
        "import nltk\n",
        "nltk.download('stopwords')"
      ],
      "metadata": {
        "colab": {
          "base_uri": "https://localhost:8080/"
        },
        "id": "gUml828u5iHY",
        "outputId": "6e7e94ac-9ea9-4444-df56-7fcd0ae5254c"
      },
      "execution_count": null,
      "outputs": [
        {
          "output_type": "stream",
          "name": "stdout",
          "text": [
            "[nltk_data] Downloading package stopwords to /root/nltk_data...\n",
            "[nltk_data]   Unzipping corpora/stopwords.zip.\n"
          ]
        },
        {
          "output_type": "execute_result",
          "data": {
            "text/plain": [
              "True"
            ]
          },
          "metadata": {},
          "execution_count": 3
        }
      ]
    },
    {
      "cell_type": "code",
      "source": [
        "import numpy as np\n",
        "import pandas as pd\n",
        "import os\n",
        "import re\n",
        "import matplotlib.pyplot as plt\n",
        "from nltk.corpus import stopwords\n",
        "from bs4 import BeautifulSoup \n",
        "from tensorflow.keras.preprocessing.text import Tokenizer \n",
        "from tensorflow.keras.preprocessing.sequence import pad_sequences\n",
        "import urllib.request\n",
        "import warnings\n",
        "warnings.filterwarnings(\"ignore\", category=UserWarning, module='bs4')"
      ],
      "metadata": {
        "id": "xFso4G8-6VFW"
      },
      "execution_count": null,
      "outputs": []
    },
    {
      "cell_type": "code",
      "source": [
        "import urllib.request\n",
        "urllib.request.urlretrieve('https://raw.githubusercontent.com/sunnysai12345/News_Summary/master/news_summary_more.csv', filename=\"news_summary_more.csv\")\n",
        "\n",
        "data = pd.read_csv(\"news_summary_more.csv\", encoding='iso-8859-1')\n",
        "print('num of samples: ',len(data))"
      ],
      "metadata": {
        "colab": {
          "base_uri": "https://localhost:8080/"
        },
        "id": "73_iIjaz6t53",
        "outputId": "90745e02-0dd0-4d02-e31b-9d0c11b8d0ca"
      },
      "execution_count": null,
      "outputs": [
        {
          "output_type": "stream",
          "name": "stdout",
          "text": [
            "num of samples:  98401\n"
          ]
        }
      ]
    },
    {
      "cell_type": "code",
      "source": [
        "data.sample(10)"
      ],
      "metadata": {
        "colab": {
          "base_uri": "https://localhost:8080/",
          "height": 362
        },
        "id": "Yiqu79Hj-bJc",
        "outputId": "31ac12e0-e62a-4598-d617-31fab444d245"
      },
      "execution_count": null,
      "outputs": [
        {
          "output_type": "execute_result",
          "data": {
            "text/html": [
              "\n",
              "  <div id=\"df-90288c07-1f3b-4a47-917d-e8fc395d2dec\">\n",
              "    <div class=\"colab-df-container\">\n",
              "      <div>\n",
              "<style scoped>\n",
              "    .dataframe tbody tr th:only-of-type {\n",
              "        vertical-align: middle;\n",
              "    }\n",
              "\n",
              "    .dataframe tbody tr th {\n",
              "        vertical-align: top;\n",
              "    }\n",
              "\n",
              "    .dataframe thead th {\n",
              "        text-align: right;\n",
              "    }\n",
              "</style>\n",
              "<table border=\"1\" class=\"dataframe\">\n",
              "  <thead>\n",
              "    <tr style=\"text-align: right;\">\n",
              "      <th></th>\n",
              "      <th>headlines</th>\n",
              "      <th>text</th>\n",
              "    </tr>\n",
              "  </thead>\n",
              "  <tbody>\n",
              "    <tr>\n",
              "      <th>8185</th>\n",
              "      <td>Chinese company unveils plan to provide free W...</td>\n",
              "      <td>Chinese internet technology company LinkSure N...</td>\n",
              "    </tr>\n",
              "    <tr>\n",
              "      <th>82419</th>\n",
              "      <td>Woman dies after falling off cliff while takin...</td>\n",
              "      <td>A 35-year-old woman named Sushma Jain died aft...</td>\n",
              "    </tr>\n",
              "    <tr>\n",
              "      <th>46003</th>\n",
              "      <td>Would have resigned if I was in Jaitley's posi...</td>\n",
              "      <td>Speaking at an interactive session on India's ...</td>\n",
              "    </tr>\n",
              "    <tr>\n",
              "      <th>22703</th>\n",
              "      <td>Shikhar simply doesn't want to change: Gavaska...</td>\n",
              "      <td>Slamming opener Shikhar Dhawan's approach in T...</td>\n",
              "    </tr>\n",
              "    <tr>\n",
              "      <th>14246</th>\n",
              "      <td>Cash-strapped Pakistan to approach IMF for bai...</td>\n",
              "      <td>The Pakistan government has decided to approac...</td>\n",
              "    </tr>\n",
              "    <tr>\n",
              "      <th>48954</th>\n",
              "      <td>Vietnam activist jailed for 14yrs for live-str...</td>\n",
              "      <td>A Vietnamese court has sentenced an activist t...</td>\n",
              "    </tr>\n",
              "    <tr>\n",
              "      <th>57351</th>\n",
              "      <td>26/11 mastermind leads rally against US' Jerus...</td>\n",
              "      <td>Mumbai attack mastermind and Jamaat-ud-Dawah (...</td>\n",
              "    </tr>\n",
              "    <tr>\n",
              "      <th>6199</th>\n",
              "      <td>I don't know what Shastri has achieved in his ...</td>\n",
              "      <td>Criticising coach Ravi Shastri for his stateme...</td>\n",
              "    </tr>\n",
              "    <tr>\n",
              "      <th>90182</th>\n",
              "      <td>India's Shiva Thapa wins silver at Asian Boxin...</td>\n",
              "      <td>Boxer Shiva Thapa won a silver medal at the As...</td>\n",
              "    </tr>\n",
              "    <tr>\n",
              "      <th>38050</th>\n",
              "      <td>Break-up with Sushant didn't affect my profess...</td>\n",
              "      <td>Opening up about her break-up with actor Susha...</td>\n",
              "    </tr>\n",
              "  </tbody>\n",
              "</table>\n",
              "</div>\n",
              "      <button class=\"colab-df-convert\" onclick=\"convertToInteractive('df-90288c07-1f3b-4a47-917d-e8fc395d2dec')\"\n",
              "              title=\"Convert this dataframe to an interactive table.\"\n",
              "              style=\"display:none;\">\n",
              "        \n",
              "  <svg xmlns=\"http://www.w3.org/2000/svg\" height=\"24px\"viewBox=\"0 0 24 24\"\n",
              "       width=\"24px\">\n",
              "    <path d=\"M0 0h24v24H0V0z\" fill=\"none\"/>\n",
              "    <path d=\"M18.56 5.44l.94 2.06.94-2.06 2.06-.94-2.06-.94-.94-2.06-.94 2.06-2.06.94zm-11 1L8.5 8.5l.94-2.06 2.06-.94-2.06-.94L8.5 2.5l-.94 2.06-2.06.94zm10 10l.94 2.06.94-2.06 2.06-.94-2.06-.94-.94-2.06-.94 2.06-2.06.94z\"/><path d=\"M17.41 7.96l-1.37-1.37c-.4-.4-.92-.59-1.43-.59-.52 0-1.04.2-1.43.59L10.3 9.45l-7.72 7.72c-.78.78-.78 2.05 0 2.83L4 21.41c.39.39.9.59 1.41.59.51 0 1.02-.2 1.41-.59l7.78-7.78 2.81-2.81c.8-.78.8-2.07 0-2.86zM5.41 20L4 18.59l7.72-7.72 1.47 1.35L5.41 20z\"/>\n",
              "  </svg>\n",
              "      </button>\n",
              "      \n",
              "  <style>\n",
              "    .colab-df-container {\n",
              "      display:flex;\n",
              "      flex-wrap:wrap;\n",
              "      gap: 12px;\n",
              "    }\n",
              "\n",
              "    .colab-df-convert {\n",
              "      background-color: #E8F0FE;\n",
              "      border: none;\n",
              "      border-radius: 50%;\n",
              "      cursor: pointer;\n",
              "      display: none;\n",
              "      fill: #1967D2;\n",
              "      height: 32px;\n",
              "      padding: 0 0 0 0;\n",
              "      width: 32px;\n",
              "    }\n",
              "\n",
              "    .colab-df-convert:hover {\n",
              "      background-color: #E2EBFA;\n",
              "      box-shadow: 0px 1px 2px rgba(60, 64, 67, 0.3), 0px 1px 3px 1px rgba(60, 64, 67, 0.15);\n",
              "      fill: #174EA6;\n",
              "    }\n",
              "\n",
              "    [theme=dark] .colab-df-convert {\n",
              "      background-color: #3B4455;\n",
              "      fill: #D2E3FC;\n",
              "    }\n",
              "\n",
              "    [theme=dark] .colab-df-convert:hover {\n",
              "      background-color: #434B5C;\n",
              "      box-shadow: 0px 1px 3px 1px rgba(0, 0, 0, 0.15);\n",
              "      filter: drop-shadow(0px 1px 2px rgba(0, 0, 0, 0.3));\n",
              "      fill: #FFFFFF;\n",
              "    }\n",
              "  </style>\n",
              "\n",
              "      <script>\n",
              "        const buttonEl =\n",
              "          document.querySelector('#df-90288c07-1f3b-4a47-917d-e8fc395d2dec button.colab-df-convert');\n",
              "        buttonEl.style.display =\n",
              "          google.colab.kernel.accessAllowed ? 'block' : 'none';\n",
              "\n",
              "        async function convertToInteractive(key) {\n",
              "          const element = document.querySelector('#df-90288c07-1f3b-4a47-917d-e8fc395d2dec');\n",
              "          const dataTable =\n",
              "            await google.colab.kernel.invokeFunction('convertToInteractive',\n",
              "                                                     [key], {});\n",
              "          if (!dataTable) return;\n",
              "\n",
              "          const docLinkHtml = 'Like what you see? Visit the ' +\n",
              "            '<a target=\"_blank\" href=https://colab.research.google.com/notebooks/data_table.ipynb>data table notebook</a>'\n",
              "            + ' to learn more about interactive tables.';\n",
              "          element.innerHTML = '';\n",
              "          dataTable['output_type'] = 'display_data';\n",
              "          await google.colab.output.renderOutput(dataTable, element);\n",
              "          const docLink = document.createElement('div');\n",
              "          docLink.innerHTML = docLinkHtml;\n",
              "          element.appendChild(docLink);\n",
              "        }\n",
              "      </script>\n",
              "    </div>\n",
              "  </div>\n",
              "  "
            ],
            "text/plain": [
              "                                               headlines                                               text\n",
              "8185   Chinese company unveils plan to provide free W...  Chinese internet technology company LinkSure N...\n",
              "82419  Woman dies after falling off cliff while takin...  A 35-year-old woman named Sushma Jain died aft...\n",
              "46003  Would have resigned if I was in Jaitley's posi...  Speaking at an interactive session on India's ...\n",
              "22703  Shikhar simply doesn't want to change: Gavaska...  Slamming opener Shikhar Dhawan's approach in T...\n",
              "14246  Cash-strapped Pakistan to approach IMF for bai...  The Pakistan government has decided to approac...\n",
              "48954  Vietnam activist jailed for 14yrs for live-str...  A Vietnamese court has sentenced an activist t...\n",
              "57351  26/11 mastermind leads rally against US' Jerus...  Mumbai attack mastermind and Jamaat-ud-Dawah (...\n",
              "6199   I don't know what Shastri has achieved in his ...  Criticising coach Ravi Shastri for his stateme...\n",
              "90182  India's Shiva Thapa wins silver at Asian Boxin...  Boxer Shiva Thapa won a silver medal at the As...\n",
              "38050  Break-up with Sushant didn't affect my profess...  Opening up about her break-up with actor Susha..."
            ]
          },
          "metadata": {},
          "execution_count": 6
        }
      ]
    },
    {
      "cell_type": "code",
      "source": [
        "data.head()"
      ],
      "metadata": {
        "colab": {
          "base_uri": "https://localhost:8080/",
          "height": 206
        },
        "id": "kyReK7oQ_BlB",
        "outputId": "d1f78aa1-2e76-4e3b-c7ee-929dcd26d115"
      },
      "execution_count": null,
      "outputs": [
        {
          "output_type": "execute_result",
          "data": {
            "text/html": [
              "\n",
              "  <div id=\"df-d282d1e6-d5b3-43bb-b72d-a1cdf57e2d20\">\n",
              "    <div class=\"colab-df-container\">\n",
              "      <div>\n",
              "<style scoped>\n",
              "    .dataframe tbody tr th:only-of-type {\n",
              "        vertical-align: middle;\n",
              "    }\n",
              "\n",
              "    .dataframe tbody tr th {\n",
              "        vertical-align: top;\n",
              "    }\n",
              "\n",
              "    .dataframe thead th {\n",
              "        text-align: right;\n",
              "    }\n",
              "</style>\n",
              "<table border=\"1\" class=\"dataframe\">\n",
              "  <thead>\n",
              "    <tr style=\"text-align: right;\">\n",
              "      <th></th>\n",
              "      <th>headlines</th>\n",
              "      <th>text</th>\n",
              "    </tr>\n",
              "  </thead>\n",
              "  <tbody>\n",
              "    <tr>\n",
              "      <th>0</th>\n",
              "      <td>upGrad learner switches to career in ML &amp; Al w...</td>\n",
              "      <td>Saurav Kant, an alumnus of upGrad and IIIT-B's...</td>\n",
              "    </tr>\n",
              "    <tr>\n",
              "      <th>1</th>\n",
              "      <td>Delhi techie wins free food from Swiggy for on...</td>\n",
              "      <td>Kunal Shah's credit card bill payment platform...</td>\n",
              "    </tr>\n",
              "    <tr>\n",
              "      <th>2</th>\n",
              "      <td>New Zealand end Rohit Sharma-led India's 12-ma...</td>\n",
              "      <td>New Zealand defeated India by 8 wickets in the...</td>\n",
              "    </tr>\n",
              "    <tr>\n",
              "      <th>3</th>\n",
              "      <td>Aegon life iTerm insurance plan helps customer...</td>\n",
              "      <td>With Aegon Life iTerm Insurance plan, customer...</td>\n",
              "    </tr>\n",
              "    <tr>\n",
              "      <th>4</th>\n",
              "      <td>Have known Hirani for yrs, what if MeToo claim...</td>\n",
              "      <td>Speaking about the sexual harassment allegatio...</td>\n",
              "    </tr>\n",
              "  </tbody>\n",
              "</table>\n",
              "</div>\n",
              "      <button class=\"colab-df-convert\" onclick=\"convertToInteractive('df-d282d1e6-d5b3-43bb-b72d-a1cdf57e2d20')\"\n",
              "              title=\"Convert this dataframe to an interactive table.\"\n",
              "              style=\"display:none;\">\n",
              "        \n",
              "  <svg xmlns=\"http://www.w3.org/2000/svg\" height=\"24px\"viewBox=\"0 0 24 24\"\n",
              "       width=\"24px\">\n",
              "    <path d=\"M0 0h24v24H0V0z\" fill=\"none\"/>\n",
              "    <path d=\"M18.56 5.44l.94 2.06.94-2.06 2.06-.94-2.06-.94-.94-2.06-.94 2.06-2.06.94zm-11 1L8.5 8.5l.94-2.06 2.06-.94-2.06-.94L8.5 2.5l-.94 2.06-2.06.94zm10 10l.94 2.06.94-2.06 2.06-.94-2.06-.94-.94-2.06-.94 2.06-2.06.94z\"/><path d=\"M17.41 7.96l-1.37-1.37c-.4-.4-.92-.59-1.43-.59-.52 0-1.04.2-1.43.59L10.3 9.45l-7.72 7.72c-.78.78-.78 2.05 0 2.83L4 21.41c.39.39.9.59 1.41.59.51 0 1.02-.2 1.41-.59l7.78-7.78 2.81-2.81c.8-.78.8-2.07 0-2.86zM5.41 20L4 18.59l7.72-7.72 1.47 1.35L5.41 20z\"/>\n",
              "  </svg>\n",
              "      </button>\n",
              "      \n",
              "  <style>\n",
              "    .colab-df-container {\n",
              "      display:flex;\n",
              "      flex-wrap:wrap;\n",
              "      gap: 12px;\n",
              "    }\n",
              "\n",
              "    .colab-df-convert {\n",
              "      background-color: #E8F0FE;\n",
              "      border: none;\n",
              "      border-radius: 50%;\n",
              "      cursor: pointer;\n",
              "      display: none;\n",
              "      fill: #1967D2;\n",
              "      height: 32px;\n",
              "      padding: 0 0 0 0;\n",
              "      width: 32px;\n",
              "    }\n",
              "\n",
              "    .colab-df-convert:hover {\n",
              "      background-color: #E2EBFA;\n",
              "      box-shadow: 0px 1px 2px rgba(60, 64, 67, 0.3), 0px 1px 3px 1px rgba(60, 64, 67, 0.15);\n",
              "      fill: #174EA6;\n",
              "    }\n",
              "\n",
              "    [theme=dark] .colab-df-convert {\n",
              "      background-color: #3B4455;\n",
              "      fill: #D2E3FC;\n",
              "    }\n",
              "\n",
              "    [theme=dark] .colab-df-convert:hover {\n",
              "      background-color: #434B5C;\n",
              "      box-shadow: 0px 1px 3px 1px rgba(0, 0, 0, 0.15);\n",
              "      filter: drop-shadow(0px 1px 2px rgba(0, 0, 0, 0.3));\n",
              "      fill: #FFFFFF;\n",
              "    }\n",
              "  </style>\n",
              "\n",
              "      <script>\n",
              "        const buttonEl =\n",
              "          document.querySelector('#df-d282d1e6-d5b3-43bb-b72d-a1cdf57e2d20 button.colab-df-convert');\n",
              "        buttonEl.style.display =\n",
              "          google.colab.kernel.accessAllowed ? 'block' : 'none';\n",
              "\n",
              "        async function convertToInteractive(key) {\n",
              "          const element = document.querySelector('#df-d282d1e6-d5b3-43bb-b72d-a1cdf57e2d20');\n",
              "          const dataTable =\n",
              "            await google.colab.kernel.invokeFunction('convertToInteractive',\n",
              "                                                     [key], {});\n",
              "          if (!dataTable) return;\n",
              "\n",
              "          const docLinkHtml = 'Like what you see? Visit the ' +\n",
              "            '<a target=\"_blank\" href=https://colab.research.google.com/notebooks/data_table.ipynb>data table notebook</a>'\n",
              "            + ' to learn more about interactive tables.';\n",
              "          element.innerHTML = '';\n",
              "          dataTable['output_type'] = 'display_data';\n",
              "          await google.colab.output.renderOutput(dataTable, element);\n",
              "          const docLink = document.createElement('div');\n",
              "          docLink.innerHTML = docLinkHtml;\n",
              "          element.appendChild(docLink);\n",
              "        }\n",
              "      </script>\n",
              "    </div>\n",
              "  </div>\n",
              "  "
            ],
            "text/plain": [
              "                                           headlines                                               text\n",
              "0  upGrad learner switches to career in ML & Al w...  Saurav Kant, an alumnus of upGrad and IIIT-B's...\n",
              "1  Delhi techie wins free food from Swiggy for on...  Kunal Shah's credit card bill payment platform...\n",
              "2  New Zealand end Rohit Sharma-led India's 12-ma...  New Zealand defeated India by 8 wickets in the...\n",
              "3  Aegon life iTerm insurance plan helps customer...  With Aegon Life iTerm Insurance plan, customer...\n",
              "4  Have known Hirani for yrs, what if MeToo claim...  Speaking about the sexual harassment allegatio..."
            ]
          },
          "metadata": {},
          "execution_count": 7
        }
      ]
    },
    {
      "cell_type": "markdown",
      "source": [
        "##중복 샘플 유무 확인 nunique()\n",
        "##drop_duplicates로 쉽게 삭제"
      ],
      "metadata": {
        "id": "nqbKtvu1KYIq"
      }
    },
    {
      "cell_type": "code",
      "source": [
        "print('text 중복 제외: ',data['headlines'].nunique())\n",
        "print('summary 중복 제외: ',data['text'].nunique())"
      ],
      "metadata": {
        "colab": {
          "base_uri": "https://localhost:8080/"
        },
        "id": "Rvd35WXj_U3s",
        "outputId": "a6b593fe-e0c5-416e-8c75-b85834fab139"
      },
      "execution_count": null,
      "outputs": [
        {
          "output_type": "stream",
          "name": "stdout",
          "text": [
            "text 중복 제외:  98280\n",
            "summary 중복 제외:  98360\n"
          ]
        }
      ]
    },
    {
      "cell_type": "code",
      "source": [
        "data.drop_duplicates(subset = ['headlines'], inplace=True)\n",
        "data.drop_duplicates(subset = ['text'], inplace=True)\n",
        "print('num of samples: ',len(data))"
      ],
      "metadata": {
        "colab": {
          "base_uri": "https://localhost:8080/"
        },
        "id": "Lqrk1lD9AEJ-",
        "outputId": "f24159d3-7ba1-4d5a-d578-1be42b39aaf3"
      },
      "execution_count": null,
      "outputs": [
        {
          "output_type": "stream",
          "name": "stdout",
          "text": [
            "num of samples:  98262\n"
          ]
        }
      ]
    },
    {
      "cell_type": "markdown",
      "source": [
        "##데이터프레임에 null값이 있는지 확인할 땐 isnull()"
      ],
      "metadata": {
        "id": "H487eZ2YKNSw"
      }
    },
    {
      "cell_type": "code",
      "source": [
        "print(data.isnull().sum())"
      ],
      "metadata": {
        "colab": {
          "base_uri": "https://localhost:8080/"
        },
        "id": "HJBBPkulAXjH",
        "outputId": "07535d9b-57f3-416f-e05a-b203240af9b0"
      },
      "execution_count": null,
      "outputs": [
        {
          "output_type": "stream",
          "name": "stdout",
          "text": [
            "headlines    0\n",
            "text         0\n",
            "dtype: int64\n"
          ]
        }
      ]
    },
    {
      "cell_type": "markdown",
      "source": [
        "##데이터프레임에서 null값 제거할 때는 dropna()"
      ],
      "metadata": {
        "id": "KtFGas6kKFzM"
      }
    },
    {
      "cell_type": "code",
      "source": [
        "data.dropna(axis=0, inplace=True)\n",
        "print('num of data: ',len(data))"
      ],
      "metadata": {
        "colab": {
          "base_uri": "https://localhost:8080/"
        },
        "id": "Rr76CN4FAfgf",
        "outputId": "aa53fd2c-31bd-49a2-9a55-67c471064800"
      },
      "execution_count": null,
      "outputs": [
        {
          "output_type": "stream",
          "name": "stdout",
          "text": [
            "num of data:  98262\n"
          ]
        }
      ]
    },
    {
      "cell_type": "markdown",
      "source": [
        "##텍스트 정규화\n",
        "같은 의미인데 다르게 쓴 것들 정리"
      ],
      "metadata": {
        "id": "vStu4K8fJ9-0"
      }
    },
    {
      "cell_type": "code",
      "source": [
        "contractions = {\"ain't\": \"is not\", \"aren't\": \"are not\",\"can't\": \"cannot\", \"'cause\": \"because\", \"could've\": \"could have\", \"couldn't\": \"could not\",\n",
        "                \"didn't\": \"did not\",  \"doesn't\": \"does not\", \"don't\": \"do not\", \"hadn't\": \"had not\", \"hasn't\": \"has not\", \"haven't\": \"have not\",\n",
        "                \"he'd\": \"he would\",\"he'll\": \"he will\", \"he's\": \"he is\", \"how'd\": \"how did\", \"how'd'y\": \"how do you\", \"how'll\": \"how will\", \"how's\": \"how is\",\n",
        "                \"I'd\": \"I would\", \"I'd've\": \"I would have\", \"I'll\": \"I will\", \"I'll've\": \"I will have\",\"I'm\": \"I am\", \"I've\": \"I have\", \"i'd\": \"i would\",\n",
        "                \"i'd've\": \"i would have\", \"i'll\": \"i will\",  \"i'll've\": \"i will have\",\"i'm\": \"i am\", \"i've\": \"i have\", \"isn't\": \"is not\", \"it'd\": \"it would\",\n",
        "                \"it'd've\": \"it would have\", \"it'll\": \"it will\", \"it'll've\": \"it will have\",\"it's\": \"it is\", \"let's\": \"let us\", \"ma'am\": \"madam\",\n",
        "                \"mayn't\": \"may not\", \"might've\": \"might have\",\"mightn't\": \"might not\",\"mightn't've\": \"might not have\", \"must've\": \"must have\",\n",
        "                \"mustn't\": \"must not\", \"mustn't've\": \"must not have\", \"needn't\": \"need not\", \"needn't've\": \"need not have\",\"o'clock\": \"of the clock\",\n",
        "                \"oughtn't\": \"ought not\", \"oughtn't've\": \"ought not have\", \"shan't\": \"shall not\", \"sha'n't\": \"shall not\", \"shan't've\": \"shall not have\",\n",
        "                \"she'd\": \"she would\", \"she'd've\": \"she would have\", \"she'll\": \"she will\", \"she'll've\": \"she will have\", \"she's\": \"she is\",\n",
        "                \"should've\": \"should have\", \"shouldn't\": \"should not\", \"shouldn't've\": \"should not have\", \"so've\": \"so have\",\"so's\": \"so as\",\n",
        "                \"this's\": \"this is\",\"that'd\": \"that would\", \"that'd've\": \"that would have\", \"that's\": \"that is\", \"there'd\": \"there would\",\n",
        "                \"there'd've\": \"there would have\", \"there's\": \"there is\", \"here's\": \"here is\",\"they'd\": \"they would\", \"they'd've\": \"they would have\",\n",
        "                \"they'll\": \"they will\", \"they'll've\": \"they will have\", \"they're\": \"they are\", \"they've\": \"they have\", \"to've\": \"to have\",\n",
        "                \"wasn't\": \"was not\", \"we'd\": \"we would\", \"we'd've\": \"we would have\", \"we'll\": \"we will\", \"we'll've\": \"we will have\", \"we're\": \"we are\",\n",
        "                \"we've\": \"we have\", \"weren't\": \"were not\", \"what'll\": \"what will\", \"what'll've\": \"what will have\", \"what're\": \"what are\",\n",
        "                \"what's\": \"what is\", \"what've\": \"what have\", \"when's\": \"when is\", \"when've\": \"when have\", \"where'd\": \"where did\", \"where's\": \"where is\",\n",
        "                \"where've\": \"where have\", \"who'll\": \"who will\", \"who'll've\": \"who will have\", \"who's\": \"who is\", \"who've\": \"who have\",\n",
        "                \"why's\": \"why is\", \"why've\": \"why have\", \"will've\": \"will have\", \"won't\": \"will not\", \"won't've\": \"will not have\",\n",
        "                \"would've\": \"would have\", \"wouldn't\": \"would not\", \"wouldn't've\": \"would not have\", \"y'all\": \"you all\",\n",
        "                \"y'all'd\": \"you all would\",\"y'all'd've\": \"you all would have\",\"y'all're\": \"you all are\",\"y'all've\": \"you all have\",\n",
        "                \"you'd\": \"you would\", \"you'd've\": \"you would have\", \"you'll\": \"you will\", \"you'll've\": \"you will have\",\n",
        "                \"you're\": \"you are\", \"you've\": \"you have\"}\n",
        "\n",
        "print('num of norm_dict: ',len(contractions))"
      ],
      "metadata": {
        "colab": {
          "base_uri": "https://localhost:8080/"
        },
        "id": "Hb9IMhIkArp2",
        "outputId": "049692ee-6912-409f-acec-69466e124296"
      },
      "execution_count": null,
      "outputs": [
        {
          "output_type": "stream",
          "name": "stdout",
          "text": [
            "num of norm_dict:  120\n"
          ]
        }
      ]
    },
    {
      "cell_type": "markdown",
      "source": [
        "##stopwords 불용어\n",
        "text 전처리에만 사용\n",
        "summary에는 남아있는게 좋다"
      ],
      "metadata": {
        "id": "Y-ipr2iFCc0B"
      }
    },
    {
      "cell_type": "code",
      "source": [
        "print('num of stopwords: ',len(stopwords.words('english')))\n",
        "print(stopwords.words('english'))"
      ],
      "metadata": {
        "colab": {
          "base_uri": "https://localhost:8080/"
        },
        "id": "1D1TlVGnBtd2",
        "outputId": "a2773962-4f4d-4218-c8b0-f35b5996f1ec"
      },
      "execution_count": null,
      "outputs": [
        {
          "output_type": "stream",
          "name": "stdout",
          "text": [
            "num of stopwords:  179\n",
            "['i', 'me', 'my', 'myself', 'we', 'our', 'ours', 'ourselves', 'you', \"you're\", \"you've\", \"you'll\", \"you'd\", 'your', 'yours', 'yourself', 'yourselves', 'he', 'him', 'his', 'himself', 'she', \"she's\", 'her', 'hers', 'herself', 'it', \"it's\", 'its', 'itself', 'they', 'them', 'their', 'theirs', 'themselves', 'what', 'which', 'who', 'whom', 'this', 'that', \"that'll\", 'these', 'those', 'am', 'is', 'are', 'was', 'were', 'be', 'been', 'being', 'have', 'has', 'had', 'having', 'do', 'does', 'did', 'doing', 'a', 'an', 'the', 'and', 'but', 'if', 'or', 'because', 'as', 'until', 'while', 'of', 'at', 'by', 'for', 'with', 'about', 'against', 'between', 'into', 'through', 'during', 'before', 'after', 'above', 'below', 'to', 'from', 'up', 'down', 'in', 'out', 'on', 'off', 'over', 'under', 'again', 'further', 'then', 'once', 'here', 'there', 'when', 'where', 'why', 'how', 'all', 'any', 'both', 'each', 'few', 'more', 'most', 'other', 'some', 'such', 'no', 'nor', 'not', 'only', 'own', 'same', 'so', 'than', 'too', 'very', 's', 't', 'can', 'will', 'just', 'don', \"don't\", 'should', \"should've\", 'now', 'd', 'll', 'm', 'o', 're', 've', 'y', 'ain', 'aren', \"aren't\", 'couldn', \"couldn't\", 'didn', \"didn't\", 'doesn', \"doesn't\", 'hadn', \"hadn't\", 'hasn', \"hasn't\", 'haven', \"haven't\", 'isn', \"isn't\", 'ma', 'mightn', \"mightn't\", 'mustn', \"mustn't\", 'needn', \"needn't\", 'shan', \"shan't\", 'shouldn', \"shouldn't\", 'wasn', \"wasn't\", 'weren', \"weren't\", 'won', \"won't\", 'wouldn', \"wouldn't\"]\n"
          ]
        }
      ]
    },
    {
      "cell_type": "code",
      "source": [
        "def preprocess_sentence(sentence, remove_stopwords=True):\n",
        "  sentence = sentence.lower() # 텍스트 소문자\n",
        "  sentence = BeautifulSoup(sentence, \"lxml\").text # <br />, <a href = ...> 등의 html 태그 제거\n",
        "  sentence = re.sub(r'\\([^)]*\\)', '', sentence) # 괄호로 닫힌 문자열 (...) 제거 Ex) my husband (and myself!) for => my husband for\n",
        "  sentence = re.sub('\"','', sentence) # 쌍따옴표 \" 제거\n",
        "  sentence = ' '.join([contractions[t] if t in contractions else t for t in sentence.split(\" \")]) # 약어 정규화\n",
        "  sentence = re.sub(r\"'s\\b\",\"\", sentence) # 소유격 제거. Ex) roland's -> roland\n",
        "  sentence = re.sub(\"[^a-zA-Z]\", \" \", sentence) # 영어 외 문자(숫자, 특수문자 등) 공백으로 변환\n",
        "  sentence = re.sub('[m]{2,}', 'mm', sentence) # m이 3개 이상이면 2개로 변경. Ex) ummmmmmm yeah -> umm yeah\n",
        "  # 불용어 제거 (Text)\n",
        "  if remove_stopwords:\n",
        "    tokens = ' '.join(word for word in sentence.split() if not word in stopwords.words('english') if len(word) > 1)\n",
        "    # 불용어 미제거 (Summary)\n",
        "  else:\n",
        "    tokens = ' '.join(word for word in sentence.split() if len(word) > 1)\n",
        "      \n",
        "  return tokens"
      ],
      "metadata": {
        "id": "m-zy8EcdCIaK"
      },
      "execution_count": null,
      "outputs": []
    },
    {
      "cell_type": "code",
      "source": [
        "temp_text = 'Everything I bought was great, infact I ordered twice and the third ordered was<br />for my mother and father.'\n",
        "temp_summary = 'Great way to start (or finish) the day!!!'\n",
        "\n",
        "print('text: ',preprocess_sentence(temp_text))\n",
        "print('summary: ',preprocess_sentence(temp_summary,False))"
      ],
      "metadata": {
        "colab": {
          "base_uri": "https://localhost:8080/"
        },
        "id": "clmkotm7DKZm",
        "outputId": "747cc7e3-08b9-498c-bb41-5523d7dc877d"
      },
      "execution_count": null,
      "outputs": [
        {
          "output_type": "stream",
          "name": "stdout",
          "text": [
            "text:  everything bought great infact ordered twice third ordered wasfor mother father\n",
            "summary:  great way to start the day\n"
          ]
        }
      ]
    },
    {
      "cell_type": "markdown",
      "source": [
        "##데이터 전체에 대한 전처리"
      ],
      "metadata": {
        "id": "Xw5K3PvYJ06v"
      }
    },
    {
      "cell_type": "code",
      "source": [
        "clean_text = []\n",
        "\n",
        "for s in data['text']:\n",
        "  clean_text.append(preprocess_sentence(s))\n",
        "\n",
        "print('Text 전처리 후: ',clean_text[:5])"
      ],
      "metadata": {
        "colab": {
          "base_uri": "https://localhost:8080/"
        },
        "id": "pbiWXJonD-XH",
        "outputId": "2a30ac7e-0f06-41ac-84da-685c293f8eb7"
      },
      "execution_count": null,
      "outputs": [
        {
          "output_type": "stream",
          "name": "stdout",
          "text": [
            "Text 전처리 후:  ['saurav kant alumnus upgrad iiit pg program machine learning artificial intelligence sr systems engineer infosys almost years work experience program upgrad degree career support helped transition data scientist tech mahindra salary hike upgrad online power learning powered lakh careers', 'kunal shah credit card bill payment platform cred gave users chance win free food swiggy one year pranav kaushik delhi techie bagged reward spending cred coins users get one cred coin per rupee bill paid used avail rewards brands like ixigo bookmyshow ubereats cult fit', 'new zealand defeated india wickets fourth odi hamilton thursday win first match five match odi series india lost international match rohit sharma captaincy consecutive victories dating back march match witnessed india getting seventh lowest total odi cricket history', 'aegon life iterm insurance plan customers enjoy tax benefits premiums paid save taxes plan provides life cover age years also customers options insure critical illnesses disability accidental death benefit rider life cover age years', 'speaking sexual harassment allegations rajkumar hirani sonam kapoor said known hirani many years true metoo movement get derailed metoo movement always believe woman case need reserve judgment added hirani accused assistant worked sanju']\n"
          ]
        }
      ]
    },
    {
      "cell_type": "code",
      "source": [
        "clean_head = []\n",
        "\n",
        "for s in data['headlines']:\n",
        "  clean_head.append(preprocess_sentence(s,False))\n",
        "\n",
        "print('Headline 전처리 후: ',clean_head[:5])"
      ],
      "metadata": {
        "colab": {
          "base_uri": "https://localhost:8080/"
        },
        "id": "go3raJmpFMj7",
        "outputId": "6e274286-d2a4-492f-ba9d-19bff5797797"
      },
      "execution_count": null,
      "outputs": [
        {
          "output_type": "stream",
          "name": "stdout",
          "text": [
            "Headline 전처리 후:  ['upgrad learner switches to career in ml al with salary hike', 'delhi techie wins free food from swiggy for one year on cred', 'new zealand end rohit sharma led india match winning streak', 'aegon life iterm insurance plan helps customers save tax', 'have known hirani for yrs what if metoo claims are not true sonam']\n"
          ]
        }
      ]
    },
    {
      "cell_type": "markdown",
      "source": [
        "##텍스트 정제 과정 거친 후 다시 빈 샘플 있는지 확인\n",
        "##정제 과정에서 단어가 사라지는 경우가 있음"
      ],
      "metadata": {
        "id": "_sv2Jm-vJgRo"
      }
    },
    {
      "cell_type": "code",
      "source": [
        "data['text'] = clean_text\n",
        "data['headlines'] = clean_head\n",
        "\n",
        "data.replace('',np.nan, inplace=True) #빈 값을 Null 값으로 변환"
      ],
      "metadata": {
        "id": "dcnWwwlaJJHe"
      },
      "execution_count": null,
      "outputs": []
    },
    {
      "cell_type": "code",
      "source": [
        "data.isnull().sum() #null 값이 있는지 확인"
      ],
      "metadata": {
        "colab": {
          "base_uri": "https://localhost:8080/"
        },
        "id": "kkPnYQQ-K1Re",
        "outputId": "a662b8ca-8bd2-4e62-c69a-7a5bfee7b7a7"
      },
      "execution_count": null,
      "outputs": [
        {
          "output_type": "execute_result",
          "data": {
            "text/plain": [
              "headlines    0\n",
              "text         0\n",
              "dtype: int64"
            ]
          },
          "metadata": {},
          "execution_count": 19
        }
      ]
    },
    {
      "cell_type": "code",
      "source": [
        "data.dropna(axis=0, inplace=True)\n",
        "print('전체 샘플 수: ', len(data))"
      ],
      "metadata": {
        "colab": {
          "base_uri": "https://localhost:8080/"
        },
        "id": "TE18ShP1K7Wq",
        "outputId": "cac1406e-4390-4340-db10-f889993c1cdc"
      },
      "execution_count": null,
      "outputs": [
        {
          "output_type": "stream",
          "name": "stdout",
          "text": [
            "전체 샘플 수:  98262\n"
          ]
        }
      ]
    },
    {
      "cell_type": "markdown",
      "source": [
        "## 훈련에 사용할 샘플 최대 길이 정하기"
      ],
      "metadata": {
        "id": "O0NMZvQGLOyK"
      }
    },
    {
      "cell_type": "code",
      "source": [
        "import matplotlib.pyplot as plt\n",
        "\n",
        "text_len = [len(s.split()) for s in data['text']]\n",
        "head_len = [len(s.split()) for s in data['headlines']]\n",
        "\n",
        "print('text min len: {}'.format(np.min(text_len)))\n",
        "print('text max len: {}'.format(np.max(text_len)))\n",
        "print('text mean len: {}'.format(np.mean(text_len)))\n",
        "print('head min len: {}'.format(np.min(head_len)))\n",
        "print('head max len: {}'.format(np.max(head_len)))\n",
        "print('head mean len: {}'.format(np.mean(head_len)))\n",
        "\n",
        "plt.subplot(1,2,1)\n",
        "plt.boxplot(text_len)\n",
        "plt.title('Text')\n",
        "plt.subplot(1,2,2)\n",
        "plt.boxplot(head_len)\n",
        "plt.title('Headlines')\n",
        "plt.tight_layout()\n",
        "plt.show()\n",
        "\n",
        "plt.title('Text')\n",
        "plt.hist(text_len, bins = 40)\n",
        "plt.xlabel('length of samples')\n",
        "plt.ylabel('number of samples')\n",
        "plt.show()\n",
        "\n",
        "plt.title('Headlines')\n",
        "plt.hist(head_len, bins = 40)\n",
        "plt.xlabel('length of samples')\n",
        "plt.ylabel('number of samples')\n",
        "plt.show()"
      ],
      "metadata": {
        "colab": {
          "base_uri": "https://localhost:8080/",
          "height": 960
        },
        "id": "UA3JH61ELXra",
        "outputId": "26718006-7f09-4c5b-f8cc-d07bd4c291f7"
      },
      "execution_count": null,
      "outputs": [
        {
          "output_type": "stream",
          "name": "stdout",
          "text": [
            "text min len: 1\n",
            "text max len: 60\n",
            "text mean len: 35.10029309397326\n",
            "head min len: 1\n",
            "head max len: 16\n",
            "head mean len: 9.299444342675704\n"
          ]
        },
        {
          "output_type": "display_data",
          "data": {
            "image/png": "[encoded data removed]",
            "text/plain": [
              "<Figure size 432x288 with 2 Axes>"
            ]
          },
          "metadata": {
            "needs_background": "light"
          }
        },
        {
          "output_type": "display_data",
          "data": {
            "image/png": "[encoded data removed]",
            "text/plain": [
              "<Figure size 432x288 with 1 Axes>"
            ]
          },
          "metadata": {
            "needs_background": "light"
          }
        },
        {
          "output_type": "display_data",
          "data": {
            "image/png": "[encoded data removed]",
            "text/plain": [
              "<Figure size 432x288 with 1 Axes>"
            ]
          },
          "metadata": {
            "needs_background": "light"
          }
        }
      ]
    },
    {
      "cell_type": "code",
      "source": [
        "text_max_len = 40\n",
        "head_max_len = 9"
      ],
      "metadata": {
        "id": "Wx-RjdtoNRfh"
      },
      "execution_count": null,
      "outputs": []
    },
    {
      "cell_type": "code",
      "source": [
        "def below_threshold_len(max_len, nested_list):\n",
        "  cnt = 0\n",
        "  for s in nested_list:\n",
        "    if(len(s.split()) <= max_len):\n",
        "      cnt = cnt+1\n",
        "  print('전체 샘플 중 길이 %s 이하인 샘플 비율: %s'%(max_len, (cnt/len(nested_list))))\n",
        "  "
      ],
      "metadata": {
        "id": "O5ThyxniOM0y"
      },
      "execution_count": null,
      "outputs": []
    },
    {
      "cell_type": "code",
      "source": [
        "below_threshold_len(text_max_len, data['text'])\n",
        "below_threshold_len(head_max_len, data['headlines'])"
      ],
      "metadata": {
        "colab": {
          "base_uri": "https://localhost:8080/"
        },
        "id": "1sRrSZslO9qX",
        "outputId": "a40c4d2c-27bf-4a69-f203-0f2638b42c81"
      },
      "execution_count": null,
      "outputs": [
        {
          "output_type": "stream",
          "name": "stdout",
          "text": [
            "전체 샘플 중 길이 40 이하인 샘플 비율: 0.92383627444994\n",
            "전체 샘플 중 길이 9 이하인 샘플 비율: 0.5666585251674096\n"
          ]
        }
      ]
    },
    {
      "cell_type": "code",
      "source": [
        "data = data[data['text'].apply(lambda x: len(x.split()) <= text_max_len)]\n",
        "data = data[data['headlines'].apply(lambda x: len(x.split()) <= head_max_len)]\n",
        "print('전체 샘플 수: ',len(data))"
      ],
      "metadata": {
        "colab": {
          "base_uri": "https://localhost:8080/"
        },
        "id": "hmFNjaExPQWx",
        "outputId": "c4344adc-c2ae-4d20-d737-1fb520478c97"
      },
      "execution_count": null,
      "outputs": [
        {
          "output_type": "stream",
          "name": "stdout",
          "text": [
            "전체 샘플 수:  51435\n"
          ]
        }
      ]
    },
    {
      "cell_type": "code",
      "source": [
        "data['decoder_input'] = data['headlines'].apply(lambda x : 'sostoken ' + x)\n",
        "data['decoder_target'] = data['headlines'].apply(lambda x : x + ' eostoken')\n",
        "data.head()"
      ],
      "metadata": {
        "colab": {
          "base_uri": "https://localhost:8080/",
          "height": 337
        },
        "id": "ttsNUNy_Pz1q",
        "outputId": "4dc7e038-40e1-4dd3-c725-da524961ef1e"
      },
      "execution_count": null,
      "outputs": [
        {
          "output_type": "execute_result",
          "data": {
            "text/html": [
              "\n",
              "  <div id=\"df-4832dacb-4eeb-47c2-ade6-d275a361f822\">\n",
              "    <div class=\"colab-df-container\">\n",
              "      <div>\n",
              "<style scoped>\n",
              "    .dataframe tbody tr th:only-of-type {\n",
              "        vertical-align: middle;\n",
              "    }\n",
              "\n",
              "    .dataframe tbody tr th {\n",
              "        vertical-align: top;\n",
              "    }\n",
              "\n",
              "    .dataframe thead th {\n",
              "        text-align: right;\n",
              "    }\n",
              "</style>\n",
              "<table border=\"1\" class=\"dataframe\">\n",
              "  <thead>\n",
              "    <tr style=\"text-align: right;\">\n",
              "      <th></th>\n",
              "      <th>headlines</th>\n",
              "      <th>text</th>\n",
              "      <th>decoder_input</th>\n",
              "      <th>decoder_target</th>\n",
              "    </tr>\n",
              "  </thead>\n",
              "  <tbody>\n",
              "    <tr>\n",
              "      <th>3</th>\n",
              "      <td>aegon life iterm insurance plan helps customer...</td>\n",
              "      <td>aegon life iterm insurance plan customers enjo...</td>\n",
              "      <td>sostoken aegon life iterm insurance plan helps...</td>\n",
              "      <td>aegon life iterm insurance plan helps customer...</td>\n",
              "    </tr>\n",
              "    <tr>\n",
              "      <th>10</th>\n",
              "      <td>up cousins fed human excreta for friendship wi...</td>\n",
              "      <td>two minor cousins uttar pradesh gorakhpur alle...</td>\n",
              "      <td>sostoken up cousins fed human excreta for frie...</td>\n",
              "      <td>up cousins fed human excreta for friendship wi...</td>\n",
              "    </tr>\n",
              "    <tr>\n",
              "      <th>18</th>\n",
              "      <td>how long can tolerate congress leaders potshot...</td>\n",
              "      <td>days threatened step post congress mlas contin...</td>\n",
              "      <td>sostoken how long can tolerate congress leader...</td>\n",
              "      <td>how long can tolerate congress leaders potshot...</td>\n",
              "    </tr>\n",
              "    <tr>\n",
              "      <th>19</th>\n",
              "      <td>odisha cm patnaik controls mining mafia union ...</td>\n",
              "      <td>union minister dharmendra pradhan wednesday cl...</td>\n",
              "      <td>sostoken odisha cm patnaik controls mining maf...</td>\n",
              "      <td>odisha cm patnaik controls mining mafia union ...</td>\n",
              "    </tr>\n",
              "    <tr>\n",
              "      <th>20</th>\n",
              "      <td>think the opposition even dreams about me pm modi</td>\n",
              "      <td>claiming dearth ideas among opposition parties...</td>\n",
              "      <td>sostoken think the opposition even dreams abou...</td>\n",
              "      <td>think the opposition even dreams about me pm m...</td>\n",
              "    </tr>\n",
              "  </tbody>\n",
              "</table>\n",
              "</div>\n",
              "      <button class=\"colab-df-convert\" onclick=\"convertToInteractive('df-4832dacb-4eeb-47c2-ade6-d275a361f822')\"\n",
              "              title=\"Convert this dataframe to an interactive table.\"\n",
              "              style=\"display:none;\">\n",
              "        \n",
              "  <svg xmlns=\"http://www.w3.org/2000/svg\" height=\"24px\"viewBox=\"0 0 24 24\"\n",
              "       width=\"24px\">\n",
              "    <path d=\"M0 0h24v24H0V0z\" fill=\"none\"/>\n",
              "    <path d=\"M18.56 5.44l.94 2.06.94-2.06 2.06-.94-2.06-.94-.94-2.06-.94 2.06-2.06.94zm-11 1L8.5 8.5l.94-2.06 2.06-.94-2.06-.94L8.5 2.5l-.94 2.06-2.06.94zm10 10l.94 2.06.94-2.06 2.06-.94-2.06-.94-.94-2.06-.94 2.06-2.06.94z\"/><path d=\"M17.41 7.96l-1.37-1.37c-.4-.4-.92-.59-1.43-.59-.52 0-1.04.2-1.43.59L10.3 9.45l-7.72 7.72c-.78.78-.78 2.05 0 2.83L4 21.41c.39.39.9.59 1.41.59.51 0 1.02-.2 1.41-.59l7.78-7.78 2.81-2.81c.8-.78.8-2.07 0-2.86zM5.41 20L4 18.59l7.72-7.72 1.47 1.35L5.41 20z\"/>\n",
              "  </svg>\n",
              "      </button>\n",
              "      \n",
              "  <style>\n",
              "    .colab-df-container {\n",
              "      display:flex;\n",
              "      flex-wrap:wrap;\n",
              "      gap: 12px;\n",
              "    }\n",
              "\n",
              "    .colab-df-convert {\n",
              "      background-color: #E8F0FE;\n",
              "      border: none;\n",
              "      border-radius: 50%;\n",
              "      cursor: pointer;\n",
              "      display: none;\n",
              "      fill: #1967D2;\n",
              "      height: 32px;\n",
              "      padding: 0 0 0 0;\n",
              "      width: 32px;\n",
              "    }\n",
              "\n",
              "    .colab-df-convert:hover {\n",
              "      background-color: #E2EBFA;\n",
              "      box-shadow: 0px 1px 2px rgba(60, 64, 67, 0.3), 0px 1px 3px 1px rgba(60, 64, 67, 0.15);\n",
              "      fill: #174EA6;\n",
              "    }\n",
              "\n",
              "    [theme=dark] .colab-df-convert {\n",
              "      background-color: #3B4455;\n",
              "      fill: #D2E3FC;\n",
              "    }\n",
              "\n",
              "    [theme=dark] .colab-df-convert:hover {\n",
              "      background-color: #434B5C;\n",
              "      box-shadow: 0px 1px 3px 1px rgba(0, 0, 0, 0.15);\n",
              "      filter: drop-shadow(0px 1px 2px rgba(0, 0, 0, 0.3));\n",
              "      fill: #FFFFFF;\n",
              "    }\n",
              "  </style>\n",
              "\n",
              "      <script>\n",
              "        const buttonEl =\n",
              "          document.querySelector('#df-4832dacb-4eeb-47c2-ade6-d275a361f822 button.colab-df-convert');\n",
              "        buttonEl.style.display =\n",
              "          google.colab.kernel.accessAllowed ? 'block' : 'none';\n",
              "\n",
              "        async function convertToInteractive(key) {\n",
              "          const element = document.querySelector('#df-4832dacb-4eeb-47c2-ade6-d275a361f822');\n",
              "          const dataTable =\n",
              "            await google.colab.kernel.invokeFunction('convertToInteractive',\n",
              "                                                     [key], {});\n",
              "          if (!dataTable) return;\n",
              "\n",
              "          const docLinkHtml = 'Like what you see? Visit the ' +\n",
              "            '<a target=\"_blank\" href=https://colab.research.google.com/notebooks/data_table.ipynb>data table notebook</a>'\n",
              "            + ' to learn more about interactive tables.';\n",
              "          element.innerHTML = '';\n",
              "          dataTable['output_type'] = 'display_data';\n",
              "          await google.colab.output.renderOutput(dataTable, element);\n",
              "          const docLink = document.createElement('div');\n",
              "          docLink.innerHTML = docLinkHtml;\n",
              "          element.appendChild(docLink);\n",
              "        }\n",
              "      </script>\n",
              "    </div>\n",
              "  </div>\n",
              "  "
            ],
            "text/plain": [
              "                                            headlines  ...                                     decoder_target\n",
              "3   aegon life iterm insurance plan helps customer...  ...  aegon life iterm insurance plan helps customer...\n",
              "10  up cousins fed human excreta for friendship wi...  ...  up cousins fed human excreta for friendship wi...\n",
              "18  how long can tolerate congress leaders potshot...  ...  how long can tolerate congress leaders potshot...\n",
              "19  odisha cm patnaik controls mining mafia union ...  ...  odisha cm patnaik controls mining mafia union ...\n",
              "20  think the opposition even dreams about me pm modi  ...  think the opposition even dreams about me pm m...\n",
              "\n",
              "[5 rows x 4 columns]"
            ]
          },
          "metadata": {},
          "execution_count": 26
        }
      ]
    },
    {
      "cell_type": "markdown",
      "source": [
        "##인코더의 입력, 디코더의 입력, 레이블을 넘파이로 저장"
      ],
      "metadata": {
        "id": "a7ZircqSlV04"
      }
    },
    {
      "cell_type": "code",
      "source": [
        "encoder_input = np.array(data[\"text\"])\n",
        "decoder_input = np.array(data['decoder_input'])\n",
        "decoder_target = np.array(data['decoder_target'])\n"
      ],
      "metadata": {
        "id": "SX4MNDxlkhal"
      },
      "execution_count": null,
      "outputs": []
    },
    {
      "cell_type": "code",
      "source": [
        "indices = np.arange(encoder_input.shape[0])\n",
        "np.random.shuffle(indices)\n",
        "print(indices)"
      ],
      "metadata": {
        "colab": {
          "base_uri": "https://localhost:8080/"
        },
        "id": "aMu_-wyVlj1P",
        "outputId": "484c1713-ff57-4bc8-99cf-9d81ace15c51"
      },
      "execution_count": null,
      "outputs": [
        {
          "output_type": "stream",
          "name": "stdout",
          "text": [
            "[35367 29487  9468 ... 34341  2941 33559]\n"
          ]
        }
      ]
    },
    {
      "cell_type": "code",
      "source": [
        "encoder_input = encoder_input[indices]\n",
        "decoder_input = decoder_input[indices]\n",
        "decoder_target = decoder_target[indices]"
      ],
      "metadata": {
        "id": "Nr8paoaDlj56"
      },
      "execution_count": null,
      "outputs": []
    },
    {
      "cell_type": "code",
      "source": [
        "n_of_val = int(len(encoder_input)*0.2)\n",
        "print('num of test data: ', n_of_val)"
      ],
      "metadata": {
        "colab": {
          "base_uri": "https://localhost:8080/"
        },
        "id": "jUaBs0aJpuZH",
        "outputId": "7cdd763e-885f-424f-b04c-e50b2614c536"
      },
      "execution_count": null,
      "outputs": [
        {
          "output_type": "stream",
          "name": "stdout",
          "text": [
            "num of test data:  10287\n"
          ]
        }
      ]
    },
    {
      "cell_type": "code",
      "source": [
        "encoder_input_train = encoder_input[:-n_of_val]\n",
        "decoder_target_train = decoder_target[:-n_of_val]\n",
        "decoder_input_train = decoder_input[:-n_of_val]\n",
        "\n",
        "encoder_input_test = encoder_input[-n_of_val:]\n",
        "decoder_input_test = decoder_input[-n_of_val:]\n",
        "decoder_target_test = decoder_target[-n_of_val:]\n",
        "\n",
        "print('num of train data: ',len(encoder_input_train))\n",
        "print('num of train label: ',len(decoder_input_train))\n",
        "print('num of test data: ',len(encoder_input_test))\n",
        "print('num of test label: ',len(decoder_input_test))"
      ],
      "metadata": {
        "colab": {
          "base_uri": "https://localhost:8080/"
        },
        "id": "_rZIcccepucw",
        "outputId": "c6f48faa-0277-41e8-86be-9a8dfc77d879"
      },
      "execution_count": null,
      "outputs": [
        {
          "output_type": "stream",
          "name": "stdout",
          "text": [
            "num of train data:  41148\n",
            "num of train label:  41148\n",
            "num of test data:  10287\n",
            "num of test label:  10287\n"
          ]
        }
      ]
    },
    {
      "cell_type": "markdown",
      "source": [
        "##단어 집합 만들기"
      ],
      "metadata": {
        "id": "vxzNmoi0qQkf"
      }
    },
    {
      "cell_type": "code",
      "source": [
        "src_tokenizer = Tokenizer()\n",
        "src_tokenizer.fit_on_texts(encoder_input_train) # 입력된 데어터로부터 단어 집합 생성\n"
      ],
      "metadata": {
        "id": "nmR-dogwqJYW"
      },
      "execution_count": null,
      "outputs": []
    },
    {
      "cell_type": "code",
      "source": [
        "threshold = 7\n",
        "total_cnt = len(src_tokenizer.word_index) #단어의 수\n",
        "rare_cnt = 0\n",
        "total_freq = 0\n",
        "rare_freq = 0\n",
        "\n",
        "for key, value in src_tokenizer.word_counts.items():\n",
        "  total_freq = total_freq + value\n",
        "\n",
        "  if (value < threshold):\n",
        "    rare_cnt = rare_cnt + 1\n",
        "    rare_freq = rare_freq + value\n",
        "\n",
        "print('vocabulary의 크기: ', total_cnt)\n",
        "print('빈도가 %s번 이하인 희귀 단어의 수: %s'%(threshold - 1, rare_cnt))\n",
        "print('vocab에서 희귀 단어 제외하고 남는 vocab의 크기 %s'%(total_cnt - rare_cnt))\n",
        "print('vocab에서 희귀 단어의 비율: ',(rare_cnt / total_cnt)*100)\n",
        "print('전체 빈도에서 희귀 단어 빈도 비율: ',(rare_freq / total_freq)*100)"
      ],
      "metadata": {
        "colab": {
          "base_uri": "https://localhost:8080/"
        },
        "id": "pLDE5Pkeq-ui",
        "outputId": "b2ade3ad-04ad-4f10-facd-d8f1afc627b6"
      },
      "execution_count": null,
      "outputs": [
        {
          "output_type": "stream",
          "name": "stdout",
          "text": [
            "vocabulary의 크기:  53862\n",
            "빈도가 6번 이하인 희귀 단어의 수: 37576\n",
            "vocab에서 희귀 단어 제외하고 남는 vocab의 크기 16286\n",
            "vocab에서 희귀 단어의 비율:  69.7634696075155\n",
            "전체 빈도에서 희귀 단어 빈도 비율:  5.3933918321753\n"
          ]
        }
      ]
    },
    {
      "cell_type": "code",
      "source": [
        "src_vocab = 8000\n",
        "src_tokenizer = Tokenizer(num_words = src_vocab) #token 정의할 때 num_words 값 정해주면 단어 집합 크기 제한 가능\n",
        "src_tokenizer.fit_on_texts(encoder_input_train) #단어 집합 재생성"
      ],
      "metadata": {
        "id": "Cnz5uwTgtCtq"
      },
      "execution_count": null,
      "outputs": []
    },
    {
      "cell_type": "code",
      "source": [
        "encoder_input_train = src_tokenizer.texts_to_sequences(encoder_input_train)\n",
        "encoder_input_test = src_tokenizer.texts_to_sequences(encoder_input_test)\n",
        "                                                      \n",
        "print(encoder_input_train[:3])"
      ],
      "metadata": {
        "colab": {
          "base_uri": "https://localhost:8080/"
        },
        "id": "GzRu9IB1uo1e",
        "outputId": "c73fa48e-e4fe-4b1b-cadd-3fdb1b95cc6f"
      },
      "execution_count": null,
      "outputs": [
        {
          "output_type": "stream",
          "name": "stdout",
          "text": [
            "[[9, 46, 1, 117, 39, 2335, 3353, 283, 143, 1491, 29, 23, 2752, 313, 832, 3666, 6433, 594, 316, 181, 5386, 5020, 44, 5275, 26, 3353, 283, 5, 6593, 4], [282, 584, 6179, 4241, 853, 142, 6179, 403, 3081, 584, 509, 1429, 514, 501, 529, 5103, 80, 1575, 4307, 5103, 1297, 2093, 414], [2877, 453, 100, 2800, 6956, 7276, 822, 259, 2093, 453, 84, 2800, 527, 18, 2877, 1492, 100, 413, 1357, 167, 919, 4242, 139, 553, 2470, 1040, 601, 36, 3807, 1122, 818, 1]]\n"
          ]
        }
      ]
    },
    {
      "cell_type": "code",
      "source": [
        "tar_tokenizer = Tokenizer()\n",
        "tar_tokenizer.fit_on_texts(decoder_input_train)"
      ],
      "metadata": {
        "id": "mTMRoLWMutVO"
      },
      "execution_count": null,
      "outputs": []
    },
    {
      "cell_type": "code",
      "source": [
        "threshold = 6\n",
        "total_cnt = len(tar_tokenizer.word_index) #단어의 수\n",
        "rare_cnt = 0\n",
        "total_freq = 0\n",
        "rare_freq = 0\n",
        "\n",
        "for key, value in tar_tokenizer.word_counts.items():\n",
        "  total_freq = total_freq + value\n",
        "\n",
        "  if (value < threshold):\n",
        "    rare_cnt = rare_cnt + 1\n",
        "    rare_freq = rare_freq + value\n",
        "\n",
        "print('vocabulary의 크기: ', total_cnt)\n",
        "print('빈도가 %s번 이하인 희귀 단어의 수: %s'%(threshold - 1, rare_cnt))\n",
        "print('vocab에서 희귀 단어 제외하고 남는 vocab의 크기 %s'%(total_cnt - rare_cnt))\n",
        "print('vocab에서 희귀 단어의 비율: ',(rare_cnt / total_cnt)*100)\n",
        "print('전체 빈도에서 희귀 단어 빈도 비율: ',(rare_freq / total_freq)*100)"
      ],
      "metadata": {
        "colab": {
          "base_uri": "https://localhost:8080/"
        },
        "id": "cHybjEhRu-N0",
        "outputId": "83bfd734-076c-4f07-97e2-5d8f279f07fc"
      },
      "execution_count": null,
      "outputs": [
        {
          "output_type": "stream",
          "name": "stdout",
          "text": [
            "vocabulary의 크기:  24163\n",
            "빈도가 5번 이하인 희귀 단어의 수: 16839\n",
            "vocab에서 희귀 단어 제외하고 남는 vocab의 크기 7324\n",
            "vocab에서 희귀 단어의 비율:  69.6891942225717\n",
            "전체 빈도에서 희귀 단어 빈도 비율:  8.330399359480909\n"
          ]
        }
      ]
    },
    {
      "cell_type": "code",
      "source": [
        "tar_vocab = 2000\n",
        "tar_tokenizer = Tokenizer(num_words = tar_vocab) #token 정의할 때 num_words 값 정해주면 단어 집합 크기 제한 가능\n",
        "tar_tokenizer.fit_on_texts(decoder_input_train)\n",
        "tar_tokenizer.fit_on_texts(decoder_target_train)\n",
        "\n",
        "decoder_input_train = tar_tokenizer.texts_to_sequences(decoder_input_train)\n",
        "decoder_target_train = tar_tokenizer.texts_to_sequences(decoder_target_train)\n",
        "decoder_input_test = tar_tokenizer.texts_to_sequences(decoder_input_test)\n",
        "decoder_target_test = tar_tokenizer.texts_to_sequences(decoder_target_test)\n",
        "\n",
        "\n",
        "print('input')\n",
        "print('input',decoder_input_train[:5])\n",
        "print('target')\n",
        "print('decoder',decoder_target_train[:5])"
      ],
      "metadata": {
        "colab": {
          "base_uri": "https://localhost:8080/"
        },
        "id": "VzeiCO5bvR2r",
        "outputId": "6a028fd8-95ef-4dc6-aa5e-50e595c35389"
      },
      "execution_count": null,
      "outputs": [
        {
          "output_type": "stream",
          "name": "stdout",
          "text": [
            "input\n",
            "input [[1, 21, 39, 6, 1100], [1, 554, 10, 320], [1, 636, 1354, 343, 4, 1623, 1323, 343, 688], [1, 293, 284, 4, 1130, 3], [1, 1248, 17, 6, 117]]\n",
            "target\n",
            "decoder [[21, 39, 6, 1100, 2], [554, 10, 320, 2], [636, 1354, 343, 4, 1623, 1323, 343, 688, 2], [293, 284, 4, 1130, 3, 2], [1248, 17, 6, 117, 2]]\n"
          ]
        }
      ]
    },
    {
      "cell_type": "code",
      "source": [
        "print(len(decoder_input_train))\n",
        "print(len(decoder_target_train))\n",
        "print(len(decoder_input_test))\n",
        "print(len(decoder_target_test))"
      ],
      "metadata": {
        "colab": {
          "base_uri": "https://localhost:8080/"
        },
        "id": "DPKQMM1RPYsk",
        "outputId": "a8ba2e3f-6dce-499e-f605-18c03f53e020"
      },
      "execution_count": null,
      "outputs": [
        {
          "output_type": "stream",
          "name": "stdout",
          "text": [
            "41148\n",
            "41148\n",
            "10287\n",
            "10287\n"
          ]
        }
      ]
    },
    {
      "cell_type": "markdown",
      "source": [
        "## 훈련, 테스트 데이터의 요약문 길이가 1인 경우 drop에 저장해서 삭제"
      ],
      "metadata": {
        "id": "jA4550021817"
      }
    },
    {
      "cell_type": "code",
      "source": [
        "drop_train = [index for index, sentence in enumerate(decoder_input_train) if len(sentence) == 1]\n",
        "drop_test = [index for index, sentence in enumerate(decoder_input_test) if len(sentence) == 1]\n",
        "\n",
        "print('삭제할 훈련 데이터 수: ',len(drop_train))\n",
        "print('삭제할 테스트 데이터 수: ',len(drop_test))\n",
        "\n",
        "encoder_input_train = [sentence for index, sentence in enumerate(encoder_input_train) if index not in drop_train]\n",
        "decoder_input_train = [sentence for index, sentence in enumerate(decoder_input_train) if index not in drop_train]\n",
        "decoder_target_train = [sentence for index, sentence in enumerate(decoder_target_train) if index not in drop_train]\n",
        "\n",
        "encoder_input_test = [sentence for index, sentence in enumerate(encoder_input_test) if index not in drop_test]\n",
        "decoder_input_test = [sentence for index, sentence in enumerate(decoder_input_test) if index not in drop_test]\n",
        "decoder_target_test = [sentence for index, sentence in enumerate(decoder_target_test) if index not in drop_test]\n",
        "\n",
        "print('훈련 데이터 수: ', len(encoder_input_train))\n",
        "print('훈련 레이블 수: ', len(decoder_target_train))\n",
        "print('테스트 데이터 수: ', len(encoder_input_test))\n",
        "print('훈련 레이블 수: ', len(decoder_target_test))"
      ],
      "metadata": {
        "colab": {
          "base_uri": "https://localhost:8080/"
        },
        "id": "XCnDHaQHwrh7",
        "outputId": "f1c88e71-1c47-4832-f194-f7054b854b3f"
      },
      "execution_count": null,
      "outputs": [
        {
          "output_type": "stream",
          "name": "stdout",
          "text": [
            "삭제할 훈련 데이터 수:  8\n",
            "삭제할 테스트 데이터 수:  5\n",
            "훈련 데이터 수:  41140\n",
            "훈련 레이블 수:  41140\n",
            "테스트 데이터 수:  10282\n",
            "훈련 레이블 수:  10282\n"
          ]
        }
      ]
    },
    {
      "cell_type": "markdown",
      "source": [
        "##패딩하기"
      ],
      "metadata": {
        "id": "q-k8-fV72SQW"
      }
    },
    {
      "cell_type": "code",
      "source": [
        "encoder_input_train = pad_sequences(encoder_input_train, maxlen=text_max_len, padding='post')\n",
        "encoder_input_test = pad_sequences(encoder_input_test, maxlen=text_max_len, padding='post')\n",
        "decoder_input_train = pad_sequences(decoder_input_train, maxlen=head_max_len, padding='post')\n",
        "decoder_target_train = pad_sequences(decoder_target_train, maxlen=head_max_len, padding='post')\n",
        "decoder_input_test = pad_sequences(decoder_input_test, maxlen=head_max_len, padding='post')\n",
        "decoder_target_test = pad_sequences(decoder_target_test, maxlen=head_max_len, padding='post')"
      ],
      "metadata": {
        "id": "P1XDPDcr2P3G"
      },
      "execution_count": null,
      "outputs": []
    },
    {
      "cell_type": "markdown",
      "source": [
        "##모델 설계하기"
      ],
      "metadata": {
        "id": "jUsgvLmA4QNk"
      }
    },
    {
      "cell_type": "code",
      "source": [
        "from tensorflow.keras.layers import Input, LSTM, Embedding, Dense, Concatenate, TimeDistributed\n",
        "from tensorflow.keras.models import Model\n",
        "from tensorflow.keras.callbacks import EarlyStopping, ModelCheckpoint\n",
        "\n",
        "#인코더 설계 시작\n",
        "embedding_dim = 128\n",
        "hidden_size = 256 #LSTM에서 얼만큼 수용력을 가질지, LSTM의 용량 크기나 뉴런 개수와 비슷\n",
        "\n",
        "#인코더\n",
        "encoder_inputs = Input(shape=(text_max_len,))\n",
        "#인코더 임베딩 층\n",
        "enc_emb = Embedding(src_vocab, embedding_dim)(encoder_inputs)\n",
        "#인코더의 LSTM 1\n",
        "encoder_lstm1 = LSTM(hidden_size, return_sequences=True, return_state=True, dropout=0.4, recurrent_dropout=0.4)\n",
        "encoder_output1, state_h1, state_c1 = encoder_lstm1(enc_emb)\n",
        "#인코더의 LSTM 2\n",
        "encoder_lstm2 = LSTM(hidden_size, return_sequences=True, return_state=True, dropout=0.4, recurrent_dropout=0.4)\n",
        "encoder_output2, state_h2, state_c2 = encoder_lstm2(encoder_output1)\n",
        "#인코더의 LSTM 3\n",
        "encoder_lstm3 = LSTM(hidden_size, return_sequences=True, return_state=True, dropout=0.4, recurrent_dropout=0.4)\n",
        "encoder_outputs, state_h, state_c = encoder_lstm3(encoder_output2)\n",
        "\n",
        "#드롭아웃?? recurrent dropout, time step...."
      ],
      "metadata": {
        "id": "YSfJaj134Mc0",
        "colab": {
          "base_uri": "https://localhost:8080/"
        },
        "outputId": "1b5570d7-d91d-41a9-becd-b7f1e3b3f4b7"
      },
      "execution_count": null,
      "outputs": [
        {
          "output_type": "stream",
          "name": "stdout",
          "text": [
            "WARNING:tensorflow:Layer lstm will not use cuDNN kernels since it doesn't meet the criteria. It will use a generic GPU kernel as fallback when running on GPU.\n",
            "WARNING:tensorflow:Layer lstm_1 will not use cuDNN kernels since it doesn't meet the criteria. It will use a generic GPU kernel as fallback when running on GPU.\n",
            "WARNING:tensorflow:Layer lstm_2 will not use cuDNN kernels since it doesn't meet the criteria. It will use a generic GPU kernel as fallback when running on GPU.\n"
          ]
        }
      ]
    },
    {
      "cell_type": "markdown",
      "source": [
        "##디코더 설계"
      ],
      "metadata": {
        "id": "q-fKb0RA-Wm-"
      }
    },
    {
      "cell_type": "code",
      "source": [
        "decoder_inputs = Input(shape=(None,))\n",
        "\n",
        "dec_emb_layer = Embedding(tar_vocab, embedding_dim)\n",
        "dec_emb = dec_emb_layer(decoder_inputs)\n",
        "\n",
        "decoder_lstm = LSTM(hidden_size, return_sequences=True, return_state=True, dropout=0.4, recurrent_dropout=0.2)\n",
        "decoder_outputs,_,_ = decoder_lstm(dec_emb, initial_state=[state_h,state_c])"
      ],
      "metadata": {
        "id": "L8wSEOIH8rQi",
        "colab": {
          "base_uri": "https://localhost:8080/"
        },
        "outputId": "1c3f60a1-96ac-4328-df66-4e32a9c22b49"
      },
      "execution_count": null,
      "outputs": [
        {
          "output_type": "stream",
          "name": "stdout",
          "text": [
            "WARNING:tensorflow:Layer lstm_3 will not use cuDNN kernels since it doesn't meet the criteria. It will use a generic GPU kernel as fallback when running on GPU.\n"
          ]
        }
      ]
    },
    {
      "cell_type": "code",
      "source": [
        "decoder_softmax_layer = Dense(tar_vocab,activation='softmax')\n",
        "decoder_softmax_outputs = decoder_softmax_layer(decoder_outputs)\n",
        "model = Model([encoder_inputs, decoder_inputs], decoder_softmax_outputs)\n",
        "model.summary()"
      ],
      "metadata": {
        "colab": {
          "base_uri": "https://localhost:8080/"
        },
        "id": "N2-K9386C4MC",
        "outputId": "8d12ee69-3160-4470-abd9-0c6f4165f950"
      },
      "execution_count": null,
      "outputs": [
        {
          "output_type": "stream",
          "name": "stdout",
          "text": [
            "Model: \"model\"\n",
            "__________________________________________________________________________________________________\n",
            " Layer (type)                   Output Shape         Param #     Connected to                     \n",
            "==================================================================================================\n",
            " input_1 (InputLayer)           [(None, 40)]         0           []                               \n",
            "                                                                                                  \n",
            " embedding (Embedding)          (None, 40, 128)      1024000     ['input_1[0][0]']                \n",
            "                                                                                                  \n",
            " lstm (LSTM)                    [(None, 40, 256),    394240      ['embedding[0][0]']              \n",
            "                                 (None, 256),                                                     \n",
            "                                 (None, 256)]                                                     \n",
            "                                                                                                  \n",
            " input_2 (InputLayer)           [(None, None)]       0           []                               \n",
            "                                                                                                  \n",
            " lstm_1 (LSTM)                  [(None, 40, 256),    525312      ['lstm[0][0]']                   \n",
            "                                 (None, 256),                                                     \n",
            "                                 (None, 256)]                                                     \n",
            "                                                                                                  \n",
            " embedding_1 (Embedding)        (None, None, 128)    256000      ['input_2[0][0]']                \n",
            "                                                                                                  \n",
            " lstm_2 (LSTM)                  [(None, 40, 256),    525312      ['lstm_1[0][0]']                 \n",
            "                                 (None, 256),                                                     \n",
            "                                 (None, 256)]                                                     \n",
            "                                                                                                  \n",
            " lstm_3 (LSTM)                  [(None, None, 256),  394240      ['embedding_1[0][0]',            \n",
            "                                 (None, 256),                     'lstm_2[0][1]',                 \n",
            "                                 (None, 256)]                     'lstm_2[0][2]']                 \n",
            "                                                                                                  \n",
            " dense (Dense)                  (None, None, 2000)   514000      ['lstm_3[0][0]']                 \n",
            "                                                                                                  \n",
            "==================================================================================================\n",
            "Total params: 3,633,104\n",
            "Trainable params: 3,633,104\n",
            "Non-trainable params: 0\n",
            "__________________________________________________________________________________________________\n"
          ]
        }
      ]
    },
    {
      "cell_type": "markdown",
      "source": [
        "##Attention"
      ],
      "metadata": {
        "id": "-2vWk0UKIklA"
      }
    },
    {
      "cell_type": "code",
      "source": [
        "from tensorflow.keras.layers import AdditiveAttention\n",
        "\n",
        "attn_layer = AdditiveAttention(name='attention_layer')\n",
        "\n",
        "attn_out = attn_layer([decoder_outputs, encoder_outputs])\n",
        "\n",
        "decoder_concat_input = Concatenate(axis=-1, name='concat_layer')([decoder_outputs, attn_out])\n",
        "\n",
        "decoder_softmax_layer = Dense(tar_vocab, activation='softmax')\n",
        "decoder_softmax_outputs = decoder_softmax_layer(decoder_concat_input)\n",
        "\n",
        "model = Model([encoder_inputs, decoder_inputs], decoder_softmax_outputs)\n",
        "model.summary()"
      ],
      "metadata": {
        "colab": {
          "base_uri": "https://localhost:8080/"
        },
        "id": "vJHtHDyKEQZG",
        "outputId": "19fa5d60-fff0-42ee-bf84-61031acc5b51"
      },
      "execution_count": null,
      "outputs": [
        {
          "output_type": "stream",
          "name": "stdout",
          "text": [
            "Model: \"model_1\"\n",
            "__________________________________________________________________________________________________\n",
            " Layer (type)                   Output Shape         Param #     Connected to                     \n",
            "==================================================================================================\n",
            " input_1 (InputLayer)           [(None, 40)]         0           []                               \n",
            "                                                                                                  \n",
            " embedding (Embedding)          (None, 40, 128)      1024000     ['input_1[0][0]']                \n",
            "                                                                                                  \n",
            " lstm (LSTM)                    [(None, 40, 256),    394240      ['embedding[0][0]']              \n",
            "                                 (None, 256),                                                     \n",
            "                                 (None, 256)]                                                     \n",
            "                                                                                                  \n",
            " input_2 (InputLayer)           [(None, None)]       0           []                               \n",
            "                                                                                                  \n",
            " lstm_1 (LSTM)                  [(None, 40, 256),    525312      ['lstm[0][0]']                   \n",
            "                                 (None, 256),                                                     \n",
            "                                 (None, 256)]                                                     \n",
            "                                                                                                  \n",
            " embedding_1 (Embedding)        (None, None, 128)    256000      ['input_2[0][0]']                \n",
            "                                                                                                  \n",
            " lstm_2 (LSTM)                  [(None, 40, 256),    525312      ['lstm_1[0][0]']                 \n",
            "                                 (None, 256),                                                     \n",
            "                                 (None, 256)]                                                     \n",
            "                                                                                                  \n",
            " lstm_3 (LSTM)                  [(None, None, 256),  394240      ['embedding_1[0][0]',            \n",
            "                                 (None, 256),                     'lstm_2[0][1]',                 \n",
            "                                 (None, 256)]                     'lstm_2[0][2]']                 \n",
            "                                                                                                  \n",
            " attention_layer (AdditiveAtten  (None, None, 256)   256         ['lstm_3[0][0]',                 \n",
            " tion)                                                            'lstm_2[0][0]']                 \n",
            "                                                                                                  \n",
            " concat_layer (Concatenate)     (None, None, 512)    0           ['lstm_3[0][0]',                 \n",
            "                                                                  'attention_layer[0][0]']        \n",
            "                                                                                                  \n",
            " dense_1 (Dense)                (None, None, 2000)   1026000     ['concat_layer[0][0]']           \n",
            "                                                                                                  \n",
            "==================================================================================================\n",
            "Total params: 4,145,360\n",
            "Trainable params: 4,145,360\n",
            "Non-trainable params: 0\n",
            "__________________________________________________________________________________________________\n"
          ]
        }
      ]
    },
    {
      "cell_type": "markdown",
      "source": [
        "##모델 훈련"
      ],
      "metadata": {
        "id": "ndTsMMCfIrqx"
      }
    },
    {
      "cell_type": "code",
      "source": [
        "model.compile(optimizer='rmsprop', loss='sparse_categorical_crossentropy')\n",
        "es = EarlyStopping(monitor='val_loss', patience=2, verbose=1)\n",
        "history = model.fit(x=[encoder_input_train, decoder_input_train], y=decoder_target_train,\n",
        "                    validation_data=([encoder_input_test, decoder_input_test], decoder_target_test),\n",
        "                    batch_size=256, callbacks=[es], epochs=15)"
      ],
      "metadata": {
        "colab": {
          "base_uri": "https://localhost:8080/"
        },
        "id": "9TIgWpZGIQfo",
        "outputId": "987aa0cf-8b01-463f-ab09-d9ee86a57cd9"
      },
      "execution_count": null,
      "outputs": [
        {
          "output_type": "stream",
          "name": "stdout",
          "text": [
            "Epoch 1/15\n",
            "161/161 [==============================] - 169s 968ms/step - loss: 4.6785 - val_loss: 4.3653\n",
            "Epoch 2/15\n",
            "161/161 [==============================] - 155s 960ms/step - loss: 4.2775 - val_loss: 4.1105\n",
            "Epoch 3/15\n",
            "161/161 [==============================] - 154s 960ms/step - loss: 4.0111 - val_loss: 3.8437\n",
            "Epoch 4/15\n",
            "161/161 [==============================] - 154s 955ms/step - loss: 3.7860 - val_loss: 3.7023\n",
            "Epoch 5/15\n",
            "161/161 [==============================] - 153s 953ms/step - loss: 3.6180 - val_loss: 3.5649\n",
            "Epoch 6/15\n",
            "161/161 [==============================] - 153s 953ms/step - loss: 3.4707 - val_loss: 3.4535\n",
            "Epoch 7/15\n",
            "161/161 [==============================] - 153s 950ms/step - loss: 3.3481 - val_loss: 3.3895\n",
            "Epoch 8/15\n",
            "161/161 [==============================] - 154s 956ms/step - loss: 3.2430 - val_loss: 3.3177\n",
            "Epoch 9/15\n",
            "161/161 [==============================] - 152s 945ms/step - loss: 3.1487 - val_loss: 3.2663\n",
            "Epoch 10/15\n",
            "161/161 [==============================] - 151s 938ms/step - loss: 3.0642 - val_loss: 3.2159\n",
            "Epoch 11/15\n",
            "161/161 [==============================] - 152s 944ms/step - loss: 2.9848 - val_loss: 3.1771\n",
            "Epoch 12/15\n",
            "161/161 [==============================] - 151s 939ms/step - loss: 2.9113 - val_loss: 3.1419\n",
            "Epoch 13/15\n",
            "161/161 [==============================] - 151s 939ms/step - loss: 2.8447 - val_loss: 3.1135\n",
            "Epoch 14/15\n",
            "161/161 [==============================] - 150s 930ms/step - loss: 2.7815 - val_loss: 3.1019\n",
            "Epoch 15/15\n",
            "161/161 [==============================] - 152s 944ms/step - loss: 2.7220 - val_loss: 3.0753\n"
          ]
        }
      ]
    },
    {
      "cell_type": "code",
      "source": [
        "plt.plot(history.history['loss'], label='train')\n",
        "plt.plot(history.history['val_loss'], label='test')\n",
        "plt.legend()\n",
        "plt.show()"
      ],
      "metadata": {
        "id": "cOJ7SzSaSXFn",
        "colab": {
          "base_uri": "https://localhost:8080/",
          "height": 267
        },
        "outputId": "7c90702d-c8c4-4076-e993-a11455d7ae20"
      },
      "execution_count": null,
      "outputs": [
        {
          "output_type": "display_data",
          "data": {
            "image/png": "[encoded data removed]",
            "text/plain": [
              "<Figure size 432x288 with 1 Axes>"
            ]
          },
          "metadata": {
            "needs_background": "light"
          }
        }
      ]
    },
    {
      "cell_type": "markdown",
      "source": [
        "##인퍼런스 모델 구현\n",
        "정답 문장이 없는 인퍼런스 단계에서는 만들어야 할 문장의 길이만큼 디코더가 반복 구조로 동작해야하기 때문에 인퍼런스를 위한 모델 설계를 별도로 해주어야 함 "
      ],
      "metadata": {
        "id": "cUhlHrI9SuQj"
      }
    },
    {
      "cell_type": "code",
      "source": [
        "scr_index_to_word = src_tokenizer.index_word\n",
        "tar_word_to_index = tar_tokenizer.word_index\n",
        "tar_index_to_word = tar_tokenizer.index_word"
      ],
      "metadata": {
        "id": "4bYamaXmSo8u"
      },
      "execution_count": null,
      "outputs": []
    },
    {
      "cell_type": "code",
      "source": [
        "encoder_model = Model(inputs=encoder_inputs, outputs=[encoder_outputs, state_h, state_c])\n",
        "decoder_state_input_h = Input(shape=(hidden_size,))\n",
        "decoder_state_input_c = Input(shape=(hidden_size,))\n",
        "\n",
        "dec_emb2 = dec_emb_layer(decoder_inputs)\n",
        "\n",
        "decoder_outputs2, state_h2, state_c2 = decoder_lstm(dec_emb2, initial_state = [decoder_state_input_h, decoder_state_input_c])\n"
      ],
      "metadata": {
        "id": "O4YKcUrKTSMj"
      },
      "execution_count": null,
      "outputs": []
    },
    {
      "cell_type": "code",
      "source": [
        "#어텐션 함수\n",
        "decoder_hidden_state_input = Input(shape=(text_max_len, hidden_size))\n",
        "attn_out_inf = attn_layer([decoder_outputs2, decoder_hidden_state_input])\n",
        "decoder_inf_concat = Concatenate(axis=-1, name='concat')([decoder_outputs2, attn_out_inf])\n",
        "\n",
        "#디코더 출력층\n",
        "decoder_outputs2 = decoder_softmax_layer(decoder_inf_concat)\n",
        "\n",
        "#최종 디코더 모델\n",
        "decoder_model = Model(\n",
        "    [decoder_inputs] + [decoder_hidden_state_input, decoder_state_input_h, decoder_state_input_c],\n",
        "    [decoder_outputs2] + [state_h2, state_c2]\n",
        ")"
      ],
      "metadata": {
        "id": "j9rDoy0cWEUt"
      },
      "execution_count": null,
      "outputs": []
    },
    {
      "cell_type": "markdown",
      "source": [
        "##단어 시퀀스를 완성하는 함수"
      ],
      "metadata": {
        "id": "rfULbNNuYWh9"
      }
    },
    {
      "cell_type": "code",
      "source": [
        "\n",
        "\n",
        "def decode_sequence(input_seq):\n",
        "  e_out, e_h, e_c = encoder_model.predict(input_seq)#입력으로부터 인코더의 상태를 얻음\n",
        "  #<SOS>에 해당하는 토큰 생성\n",
        "  target_seq = np.zeros((1,1))\n",
        "  target_seq[0,0] = tar_word_to_index['sostoken']\n",
        "\n",
        "  stop_condition = False\n",
        "  decoded_sentence=''\n",
        "  while not stop_condition:\n",
        "    #stop_condition이 True가 될 때까지 무한루프\n",
        "    output_tokens, h, c = decoder_model.predict([target_seq] + [e_out, e_h, e_c])\n",
        "    sampled_token_index = np.argmax(output_tokens[0,-1,:])\n",
        "    sampled_token = tar_index_to_word[sampled_token_index]\n",
        "\n",
        "    if (sampled_token!='eostoken'):\n",
        "      decoded_sentence += ' '+sampled_token\n",
        "\n",
        "    if (sampled_token=='eostoken' or len(decoded_sentence.split()) >= (head_max_len-1)):\n",
        "      stop_condition = True #<eso>에 도달하거나 최대길이 넘으면 중단\n",
        "\n",
        "    target_seq = np.zeros((1,1)) # 길이가 1인 타겟 시퀀스를 업데이트\n",
        "    target_seq[0,0] = sampled_token_index\n",
        "\n",
        "    e_h, e_c = h, c #상태 업데이트\n",
        "\n",
        "  return decoded_sentence\n",
        "\n",
        "\n"
      ],
      "metadata": {
        "id": "oHrg_yt6XiMO"
      },
      "execution_count": null,
      "outputs": []
    },
    {
      "cell_type": "markdown",
      "source": [
        "##모델 테스트하기"
      ],
      "metadata": {
        "id": "CZSp3FF6dTbY"
      }
    },
    {
      "cell_type": "code",
      "source": [
        "def seq2text(input_seq):\n",
        "  temp=''\n",
        "  for i in input_seq:\n",
        "    if(i!=0):\n",
        "      temp = temp +scr_index_to_word[i]+' '\n",
        "  return temp\n",
        "\n",
        "def seq2summary(input_seq):\n",
        "  temp=''\n",
        "  for i in input_seq:\n",
        "    if((i != 0 and i != tar_word_to_index['sostoken']) and i != tar_word_to_index['eostoken']):\n",
        "      temp = temp +tar_index_to_word[i]+' '\n",
        "  return temp"
      ],
      "metadata": {
        "id": "YkN2rYWYa97Q"
      },
      "execution_count": null,
      "outputs": []
    },
    {
      "cell_type": "code",
      "source": [
        "#실제 요약, 예측 요약 비교하기\n",
        "for i in range(50,100):\n",
        "  print('원문: ', seq2text(encoder_input_test[i]))\n",
        "  print('실제 요약: ', seq2summary(decoder_input_test[i]))\n",
        "  print('예측 요약: ', decode_sequence(encoder_input_test[i].reshape(1,text_max_len)))\n",
        "  print('\\n')"
      ],
      "metadata": {
        "id": "JwPIuE0yeKV7",
        "colab": {
          "base_uri": "https://localhost:8080/"
        },
        "outputId": "a6595acc-a425-49df-868b-a02d0cbc0a5b"
      },
      "execution_count": null,
      "outputs": [
        {
          "output_type": "stream",
          "name": "stdout",
          "text": [
            "원문:  us president donald trump thursday said immigrants protected deferred action childhood program nothing worry least trump administration scrapped called program tuesday gave congress six months pass law regulate status lakh immigrants \n",
            "실제 요약:  should not about status trump \n",
            "예측 요약:   trump calls for us\n",
            "\n",
            "\n",
            "원문:  annual cultural festival iit bombay indigo bring british progressive metal band india debut december jordan mike band known live set receiving wide critical indigo students colleges nationwide \n",
            "실제 요약:  to indigo event \n",
            "예측 요약:   iit website hacked to\n",
            "\n",
            "\n",
            "원문:  number north entering thailand illegally china surged recent months amid increasing tensions korean peninsula thailand immigration officials said average north arriving country week surge come despite controls north korea border china \n",
            "실제 요약:  north to thailand each week \n",
            "예측 요약:   china to hold north korea\n",
            "\n",
            "\n",
            "원문:  english third division side midfielder joe survived cancer twice last three years played cup match stadium wednesday felt like walking back seriously injured war said return football \n",
            "실제 요약:  footballer who cancer twice plays at \n",
            "예측 요약:   yr old player scores from\n",
            "\n",
            "\n",
            "원문:  cows reported missing cow shelter madhya pradesh according municipal corporation official around cows shelter instead leaving rest missing district collector adding sensitive issue said enquiry launched matter \n",
            "실제 요약:  reported missing from shelter in madhya pradesh \n",
            "예측 요약:   up police officers in clashes\n",
            "\n",
            "\n",
            "원문:  mahindra mahindra tuesday reported year year rise standalone net profit crore march quarter compared crore quarter last fiscal company revenue rose crore quarter company shares surged announcement results \n",
            "실제 요약:  mahindra mahindra profit jumps to crore \n",
            "예측 요약:   mahindra mahindra profit rises to crore in quarter\n",
            "\n",
            "\n",
            "원문:  several mcdonald outlets playing music including late hours drunk customers prevent drunken comes amid growing concerns late night violence staff fearing safety previously assaulted customers move implemented mcdonald outlets uk australia \n",
            "실제 요약:  mcdonald plays music to drunk customers \n",
            "예측 요약:   man makes phone for\n",
            "\n",
            "\n",
            "원문:  wing air india plane board went inside building plane struck building airport passengers could plane mobile enter terminal said police according airport operator website flight originated new delhi \n",
            "실제 요약:  of air india plane with people hits building \n",
            "예측 요약:   air india plane makes emergency landing\n",
            "\n",
            "\n",
            "원문:  actor aamir khan monday took twitter launch hindi trailer kamal haasan tamil film film whose hindi version titled also stars rahul bose shekhar kapur written directed haasan film scheduled release august \n",
            "실제 요약:  aamir launches hindi trailer of kamal haasan \n",
            "예측 요약:   salman khan to star in salman khan\n",
            "\n",
            "\n",
            "원문:  supreme court wednesday ruled linking person aadhaar bank accounts mandatory however court said person may choose give aadhaar voluntarily identity proof court upheld constitutional validity aadhaar conditions saying aadhaar gives dignity sections harm \n",
            "실제 요약:  aadhaar to bank account not mandatory supreme court \n",
            "예측 요약:   aadhaar not aadhaar mandatory for aadhaar\n",
            "\n",
            "\n",
            "원문:  many passengers crew members aboard royal caribbean cruise ship became sick illness according cruise line cruise ship return florida port earlier illness lab test results determine whether sick \n",
            "실제 요약:  passengers crew members fall on royal ship \n",
            "예측 요약:   video shows world cup\n",
            "\n",
            "\n",
            "원문:  two people lost lives stampede south africa stadium football match saturday incident happened gate stadium hosted world cup final match pirates cause stampede investigation south african police \n",
            "실제 요약:  two people killed in at south african stadium \n",
            "예측 요약:   player in match after match\n",
            "\n",
            "\n",
            "원문:  defence ministry announced disability war injury pension special family pension family pension shall minimum per month amount revised effect january th pay commission earlier suggested slab based system fixing disability pension soldiers received criticism retired soldiers \n",
            "실제 요약:  soldiers to get \n",
            "예측 요약:   govt to give to\n",
            "\n",
            "\n",
            "원문:  aishwarya rai bachchan talking daughter bachchan said nice see today comfortable travel abroad take help manage added aishwarya said children lose managed retain \n",
            "실제 요약:  to so with \n",
            "예측 요약:   big big for big\n",
            "\n",
            "\n",
            "원문:  least cases honour killing recorded pakistan october june according human rights commission pakistan comes year law passed allowing imposition life imprisonment honour killings however allows judges decide murder crime honour reportedly allowing criminals escape \n",
            "실제 요약:  honour in pakistan since \n",
            "예측 요약:   army army in india\n",
            "\n",
            "\n",
            "원문:  japanese conglomerate softbank founder masayoshi son brother son thursday launched startup accelerator program called india startup aims invest tech food tech startups including food transportation processing delivery launched partnership son startup india \n",
            "실제 요약:  softbank founder brother sets startup in india \n",
            "예측 요약:   softbank to invest million in china\n",
            "\n",
            "\n",
            "원문:  national highways authority india soon launch toll free number report road accidents take place national highways complaints regarding operations maintenance highways could also registered using number state governments deployment exclusively users chairman deepak kumar said \n",
            "실제 요약:  govt to launch to report national highway \n",
            "예측 요약:   inflation to build pollution in india\n",
            "\n",
            "\n",
            "원문:  actor nawazuddin siddiqui said contract also romantic help guns done many ways every person way express added nawazuddin actor already played gangster seen playing contract killer \n",
            "실제 요약:  can with help of nawazuddin \n",
            "예측 요약:   nawazuddin to play in\n",
            "\n",
            "\n",
            "원문:  rape convict gurmeet ram rahim member team including lawyers booked fraud extortion haryana case acre disputed land accused lakh flat reportedly also threatened transfer land worth crore \n",
            "실제 요약:  ram rahim booked for fraud \n",
            "예측 요약:   ram rahim convicted in case\n",
            "\n",
            "\n",
            "원문:  delhi high court overturned accused enhanced punishment nine convicts life imprisonment killings case year old man teenage differently abled daughter burnt alive mob set ablaze several dalit houses haryana incident result clash dalit communities \n",
            "실제 요약:  hc of accused in \n",
            "예측 요약:   delhi hc orders of police\n",
            "\n",
            "\n",
            "원문:  group black workers sued general motors alleged racial harassment us plant finding hanging bathroom signs lawsuit filed last year alleges workers called racial told go back africa workers told handle matter reported \n",
            "실제 요약:  black workers general harassment \n",
            "예측 요약:   us police sued for\n",
            "\n",
            "\n",
            "원문:  year old girl maharashtra hospitalised forced sit ups punishment teacher completing eighth class girl already hospitalised complained pain year old teacher punished seven students similar manner booked \n",
            "실제 요약:  yr old hospitalised after doing as \n",
            "예측 요약:   year old girl girl by\n",
            "\n",
            "\n",
            "원문:  banks india closed nearly atms may february according rbi data february total number atms banks come however number atms saw increase addition atms months \n",
            "실제 요약:  banks nearly in months \n",
            "예측 요약:   gst collection cut to gst\n",
            "\n",
            "\n",
            "원문:  north korea denied us accusations behind cyber attack dubbed wannacry hit around lakh computers countries may year political us aimed international society image country north korea said \n",
            "실제 요약:  korea denies role in cyber attack in nations \n",
            "예측 요약:   north korea to us us\n",
            "\n",
            "\n",
            "원문:  hackers used memes posted twitter deliver hidden malware user data infected computers according japanese cybersecurity firm trend micro hidden malware perform various operations infected machine collecting system information malware sends data command control server \n",
            "실제 요약:  hackers use twitter to users with \n",
            "예측 요약:   twitter users to users\n",
            "\n",
            "\n",
            "원문:  arctic canada reveal continuously covered ice years per university researchers dating used plant samples collected island ice determine ice cover history research found modern temperatures represented century region years \n",
            "실제 요약:  for years \n",
            "예측 요약:   new species of study\n",
            "\n",
            "\n",
            "원문:  french may spend million frame president emmanuel macron official portrait little bigger posted social media mayor french notably macron asked local authorities cut spending billion next five years \n",
            "실제 요약:  french prez official could cost crore \n",
            "예측 요약:   uk prez offers to\n",
            "\n",
            "\n",
            "원문:  supreme court reduced tamil nadu cauvery water quota thousand million feet tmc friday state chief minister palaniswami said verdict however sc observation everyone equal rights river said best ensure rights restored \n",
            "실제 요약:  dispute sc verdict tn cm \n",
            "예측 요약:   sc orders of mumbai mlas\n",
            "\n",
            "\n",
            "원문:  australian pm malcolm turnbull monday announced new rules lawmakers declare citizenship status comes amid political crisis country several mps forced resign following disclosure dual citizenship australia dual citizens allowed run federal office \n",
            "실제 요약:  aus mps to citizenship amid crisis \n",
            "예측 요약:   australia to ban on brexit\n",
            "\n",
            "\n",
            "원문:  mumbai indians rounder hardik pandya named man match kolkata knight riders sunday revealed stopped practising batting pandya scored ball took two wickets become purple cap holder added one hit people bowl well respect cannot anything \n",
            "실제 요약:  have stopped hardik pandya \n",
            "예측 요약:   pandya pandya to be in\n",
            "\n",
            "\n",
            "원문:  china based firm electronics developed smart anti eye called circle priced nearly features battery detect bone giving levels users also monitor analyse sleeping data circle app \n",
            "실제 요약:  china firm develops smart anti \n",
            "예측 요약:   device to monitor device made\n",
            "\n",
            "\n",
            "원문:  congress mla constituency appointed political secretary karnataka chief minister hd kumaraswamy move comes bjp accused jd congress government trying mlas took resort gurugram meanwhile congress accused bjp trying horse trading \n",
            "실제 요약:  appointed as political secretary to karnataka cm \n",
            "예측 요약:   congress mla resigns from congress\n",
            "\n",
            "\n",
            "원문:  government assured india full cooperation extradition mehul choksi accused pnb scam external affairs minister sushma swaraj met counterpart rd un general assembly stated entire legal procedure followed choksi \n",
            "실제 요약:  full in choksi \n",
            "예측 요약:   ministers not to be in india\n",
            "\n",
            "\n",
            "원문:  official trailer salman khan katrina kaif starrer tiger zinda hai released actors roles tiger sequel spy thriller film ek tiger directed ali abbas tiger zinda hai scheduled release december \n",
            "실제 요약:  trailer of salman katrina starrer tiger out \n",
            "예측 요약:   trailer of salman khan starrer released\n",
            "\n",
            "\n",
            "원문:  police called house united states driver passing heard like help driver reported incident wife called following deputy responded call entered house found help \n",
            "실제 요약:  help call to police \n",
            "예측 요약:   us police arrest for\n",
            "\n",
            "\n",
            "원문:  kilogram cube recently installed university united states believed world largest hand standing version cube made using transfer order obtain team students took three years construct \n",
            "실제 요약:  world largest hand kg \n",
            "예측 요약:   in pictures of\n",
            "\n",
            "\n",
            "원문:  filmmaker said thankful alia bhatt film adding otherwise could made film time learnt film alia face mind never changed added said think anybody else could fit \n",
            "실제 요약:  could not have made without alia \n",
            "예측 요약:   am not my on\n",
            "\n",
            "\n",
            "원문:  maharashtra sunday award best th republic day parade new delhi ceremony maratha chhatrapati shivaji maharaj created art director nitin team second third positions assam chhattisgarh respectively \n",
            "실제 요약:  maharashtra wins best at day assam second \n",
            "예측 요약:   festival to be in\n",
            "\n",
            "\n",
            "원문:  pakistan prime minister imran khan thursday offered humanitarian assistance flood hit kerala behalf people pakistan send prayers best wishes floods kerala tweeted nearly people died one million relief camps due floods nnn \n",
            "실제 요약:  pak pm offers for flood hit kerala \n",
            "예측 요약:   pm modi visits suicide in\n",
            "\n",
            "\n",
            "원문:  year old son sub inspector delhi police arrested friday raping woman year old daughter three weeks haryana gurugram accused also filmed rape staying incident notably accused home woman police arrested \n",
            "실제 요약:  cop son woman daughter for weeks in gurugram \n",
            "예측 요약:   man arrested for raping woman in delhi\n",
            "\n",
            "\n",
            "원문:  least civilians killed around others wounded saturday air strike rebel held eastern region outside syria capital according reports notably region last rebels government lakh people killed since began march \n",
            "실제 요약:  civilians killed in air strike in syria \n",
            "예측 요약:   killed in attack in syria\n",
            "\n",
            "\n",
            "원문:  people died worldwide taking selfies october november according report india institute medical sciences researchers found selfie deaths occurred india followed russia united states pakistan victims men age \n",
            "실제 요약:  over died taking since report \n",
            "예측 요약:   dead in india in\n",
            "\n",
            "\n",
            "원문:  security forces jammu kashmir killed two lashkar taiba militants including terror outfit commander police said sunday another terrorist surrendered encounter triggered militants attacked army patrol party twelve protestors injured clashes followed encounter internet services suspended kulgam \n",
            "실제 요약:  let among militants killed in clashes \n",
            "예측 요약:   militants killed in encounter in kashmir\n",
            "\n",
            "\n",
            "원문:  people including hindu parishad member vishal arrested connection violence took place uttar pradesh bulandshahr earlier month however main accused local bajrang dal leader named raj remains missing police officer youth killed violence \n",
            "실제 요약:  arrested in with violence \n",
            "예측 요약:   held for in up\n",
            "\n",
            "\n",
            "원문:  maharashtra environment minister thursday said sale use firecrackers would banned state administration neither ever issue order public awareness help pollution control said earlier said would request chief minister devendra fadnavis ban crackers maharashtra \n",
            "실제 요약:  maharashtra will not ban state environment minister \n",
            "예측 요약:   maha govt to get new\n",
            "\n",
            "\n",
            "원문:  us president donald trump saturday completed first days office called successful country history weeks trump signed executive orders acts roll back regulations president since trump also met various world leaders including leaders germany japan china \n",
            "실제 요약:  donald trump completes days in office as us president \n",
            "예측 요약:   trump releases world cup of\n",
            "\n",
            "\n",
            "원문:  facebook thursday approved million annual allowance boost security ceo mark zuckerberg family address safety concerns due specific threats jump last year million security called biggest ever sum fortune company ceo research firm \n",
            "실제 요약:  facebook to lakh day for ceo zuckerberg security \n",
            "예측 요약:   facebook million million in us\n",
            "\n",
            "\n",
            "원문:  search giant google thursday announced feature added google maps search android instance user looking business listing maps search section location users questions appear page \n",
            "실제 요약:  google adds feature to google and search \n",
            "예측 요약:   google google to be on\n",
            "\n",
            "\n",
            "원문:  tesla sued former employee martin million leaking confidential data third parties making false claims reporters earlier accused tesla using damaged battery model vehicles also filed complaint us securities exchange commission accusing tesla making material investors \n",
            "실제 요약:  tesla sues former employee for million for data \n",
            "예측 요약:   tesla ceo arrested for sexual harassment\n",
            "\n",
            "\n",
            "원문:  mahindra group chairman anand mahindra shared video shuttler pulling look shot japan badminton world championships moral matter career trust experience allow sometimes achieve impossible mahindra wrote \n",
            "실제 요약:  anand mahindra shares video of shot \n",
            "예측 요약:   mahindra mahindra shares video of his\n",
            "\n",
            "\n"
          ]
        }
      ]
    },
    {
      "cell_type": "markdown",
      "source": [
        "##추출적 요약 해보기\n",
        "summarize는 문장 토큰화 하지 않아도 내부적으로 토큰화 수행, 문장 구분 되어있지 않은 원문 바로 입력 가능"
      ],
      "metadata": {
        "id": "heDBvgLTfZlz"
      }
    },
    {
      "cell_type": "code",
      "source": [
        "!pip install summa\n",
        "import requests\n",
        "from summa.summarizer import summarize"
      ],
      "metadata": {
        "id": "XY2M6RWVewbl",
        "colab": {
          "base_uri": "https://localhost:8080/"
        },
        "outputId": "1c94ca1d-3c75-440e-c758-199055aa6afb"
      },
      "execution_count": null,
      "outputs": [
        {
          "output_type": "stream",
          "name": "stdout",
          "text": [
            "Collecting summa\n",
            "  Downloading summa-1.2.0.tar.gz (54 kB)\n",
            "\u001b[?25l\r\u001b[K     |██████                          | 10 kB 17.6 MB/s eta 0:00:01\r\u001b[K     |████████████                    | 20 kB 10.7 MB/s eta 0:00:01\r\u001b[K     |██████████████████              | 30 kB 6.4 MB/s eta 0:00:01\r\u001b[K     |███████████████████████▉        | 40 kB 5.8 MB/s eta 0:00:01\r\u001b[K     |█████████████████████████████▉  | 51 kB 5.1 MB/s eta 0:00:01\r\u001b[K     |████████████████████████████████| 54 kB 1.9 MB/s \n",
            "\u001b[?25hRequirement already satisfied: scipy>=0.19 in /usr/local/lib/python3.7/dist-packages (from summa) (1.4.1)\n",
            "Requirement already satisfied: numpy>=1.13.3 in /usr/local/lib/python3.7/dist-packages (from scipy>=0.19->summa) (1.19.5)\n",
            "Building wheels for collected packages: summa\n",
            "  Building wheel for summa (setup.py) ... \u001b[?25l\u001b[?25hdone\n",
            "  Created wheel for summa: filename=summa-1.2.0-py3-none-any.whl size=54412 sha256=c5519287fc25cb474c35d5b1ae6e18ec5671829df66640dece26c787708a34f1\n",
            "  Stored in directory: /root/.cache/pip/wheels/29/64/ac/7b443477588d365ef37ada30d456bdf5f07dc5be9f6324cb6e\n",
            "Successfully built summa\n",
            "Installing collected packages: summa\n",
            "Successfully installed summa-1.2.0\n"
          ]
        }
      ]
    },
    {
      "cell_type": "code",
      "source": [
        "data.head()"
      ],
      "metadata": {
        "colab": {
          "base_uri": "https://localhost:8080/",
          "height": 337
        },
        "id": "xHSlK9UAUAZH",
        "outputId": "8964685b-65aa-45da-9f86-b620c9497d4e"
      },
      "execution_count": null,
      "outputs": [
        {
          "output_type": "execute_result",
          "data": {
            "text/html": [
              "\n",
              "  <div id=\"df-5bb51fbe-83c5-4912-a01b-50ee4d37ee29\">\n",
              "    <div class=\"colab-df-container\">\n",
              "      <div>\n",
              "<style scoped>\n",
              "    .dataframe tbody tr th:only-of-type {\n",
              "        vertical-align: middle;\n",
              "    }\n",
              "\n",
              "    .dataframe tbody tr th {\n",
              "        vertical-align: top;\n",
              "    }\n",
              "\n",
              "    .dataframe thead th {\n",
              "        text-align: right;\n",
              "    }\n",
              "</style>\n",
              "<table border=\"1\" class=\"dataframe\">\n",
              "  <thead>\n",
              "    <tr style=\"text-align: right;\">\n",
              "      <th></th>\n",
              "      <th>headlines</th>\n",
              "      <th>text</th>\n",
              "      <th>decoder_input</th>\n",
              "      <th>decoder_target</th>\n",
              "    </tr>\n",
              "  </thead>\n",
              "  <tbody>\n",
              "    <tr>\n",
              "      <th>3</th>\n",
              "      <td>aegon life iterm insurance plan helps customer...</td>\n",
              "      <td>aegon life iterm insurance plan customers enjo...</td>\n",
              "      <td>sostoken aegon life iterm insurance plan helps...</td>\n",
              "      <td>aegon life iterm insurance plan helps customer...</td>\n",
              "    </tr>\n",
              "    <tr>\n",
              "      <th>10</th>\n",
              "      <td>up cousins fed human excreta for friendship wi...</td>\n",
              "      <td>two minor cousins uttar pradesh gorakhpur alle...</td>\n",
              "      <td>sostoken up cousins fed human excreta for frie...</td>\n",
              "      <td>up cousins fed human excreta for friendship wi...</td>\n",
              "    </tr>\n",
              "    <tr>\n",
              "      <th>18</th>\n",
              "      <td>how long can tolerate congress leaders potshot...</td>\n",
              "      <td>days threatened step post congress mlas contin...</td>\n",
              "      <td>sostoken how long can tolerate congress leader...</td>\n",
              "      <td>how long can tolerate congress leaders potshot...</td>\n",
              "    </tr>\n",
              "    <tr>\n",
              "      <th>19</th>\n",
              "      <td>odisha cm patnaik controls mining mafia union ...</td>\n",
              "      <td>union minister dharmendra pradhan wednesday cl...</td>\n",
              "      <td>sostoken odisha cm patnaik controls mining maf...</td>\n",
              "      <td>odisha cm patnaik controls mining mafia union ...</td>\n",
              "    </tr>\n",
              "    <tr>\n",
              "      <th>20</th>\n",
              "      <td>think the opposition even dreams about me pm modi</td>\n",
              "      <td>claiming dearth ideas among opposition parties...</td>\n",
              "      <td>sostoken think the opposition even dreams abou...</td>\n",
              "      <td>think the opposition even dreams about me pm m...</td>\n",
              "    </tr>\n",
              "  </tbody>\n",
              "</table>\n",
              "</div>\n",
              "      <button class=\"colab-df-convert\" onclick=\"convertToInteractive('df-5bb51fbe-83c5-4912-a01b-50ee4d37ee29')\"\n",
              "              title=\"Convert this dataframe to an interactive table.\"\n",
              "              style=\"display:none;\">\n",
              "        \n",
              "  <svg xmlns=\"http://www.w3.org/2000/svg\" height=\"24px\"viewBox=\"0 0 24 24\"\n",
              "       width=\"24px\">\n",
              "    <path d=\"M0 0h24v24H0V0z\" fill=\"none\"/>\n",
              "    <path d=\"M18.56 5.44l.94 2.06.94-2.06 2.06-.94-2.06-.94-.94-2.06-.94 2.06-2.06.94zm-11 1L8.5 8.5l.94-2.06 2.06-.94-2.06-.94L8.5 2.5l-.94 2.06-2.06.94zm10 10l.94 2.06.94-2.06 2.06-.94-2.06-.94-.94-2.06-.94 2.06-2.06.94z\"/><path d=\"M17.41 7.96l-1.37-1.37c-.4-.4-.92-.59-1.43-.59-.52 0-1.04.2-1.43.59L10.3 9.45l-7.72 7.72c-.78.78-.78 2.05 0 2.83L4 21.41c.39.39.9.59 1.41.59.51 0 1.02-.2 1.41-.59l7.78-7.78 2.81-2.81c.8-.78.8-2.07 0-2.86zM5.41 20L4 18.59l7.72-7.72 1.47 1.35L5.41 20z\"/>\n",
              "  </svg>\n",
              "      </button>\n",
              "      \n",
              "  <style>\n",
              "    .colab-df-container {\n",
              "      display:flex;\n",
              "      flex-wrap:wrap;\n",
              "      gap: 12px;\n",
              "    }\n",
              "\n",
              "    .colab-df-convert {\n",
              "      background-color: #E8F0FE;\n",
              "      border: none;\n",
              "      border-radius: 50%;\n",
              "      cursor: pointer;\n",
              "      display: none;\n",
              "      fill: #1967D2;\n",
              "      height: 32px;\n",
              "      padding: 0 0 0 0;\n",
              "      width: 32px;\n",
              "    }\n",
              "\n",
              "    .colab-df-convert:hover {\n",
              "      background-color: #E2EBFA;\n",
              "      box-shadow: 0px 1px 2px rgba(60, 64, 67, 0.3), 0px 1px 3px 1px rgba(60, 64, 67, 0.15);\n",
              "      fill: #174EA6;\n",
              "    }\n",
              "\n",
              "    [theme=dark] .colab-df-convert {\n",
              "      background-color: #3B4455;\n",
              "      fill: #D2E3FC;\n",
              "    }\n",
              "\n",
              "    [theme=dark] .colab-df-convert:hover {\n",
              "      background-color: #434B5C;\n",
              "      box-shadow: 0px 1px 3px 1px rgba(0, 0, 0, 0.15);\n",
              "      filter: drop-shadow(0px 1px 2px rgba(0, 0, 0, 0.3));\n",
              "      fill: #FFFFFF;\n",
              "    }\n",
              "  </style>\n",
              "\n",
              "      <script>\n",
              "        const buttonEl =\n",
              "          document.querySelector('#df-5bb51fbe-83c5-4912-a01b-50ee4d37ee29 button.colab-df-convert');\n",
              "        buttonEl.style.display =\n",
              "          google.colab.kernel.accessAllowed ? 'block' : 'none';\n",
              "\n",
              "        async function convertToInteractive(key) {\n",
              "          const element = document.querySelector('#df-5bb51fbe-83c5-4912-a01b-50ee4d37ee29');\n",
              "          const dataTable =\n",
              "            await google.colab.kernel.invokeFunction('convertToInteractive',\n",
              "                                                     [key], {});\n",
              "          if (!dataTable) return;\n",
              "\n",
              "          const docLinkHtml = 'Like what you see? Visit the ' +\n",
              "            '<a target=\"_blank\" href=https://colab.research.google.com/notebooks/data_table.ipynb>data table notebook</a>'\n",
              "            + ' to learn more about interactive tables.';\n",
              "          element.innerHTML = '';\n",
              "          dataTable['output_type'] = 'display_data';\n",
              "          await google.colab.output.renderOutput(dataTable, element);\n",
              "          const docLink = document.createElement('div');\n",
              "          docLink.innerHTML = docLinkHtml;\n",
              "          element.appendChild(docLink);\n",
              "        }\n",
              "      </script>\n",
              "    </div>\n",
              "  </div>\n",
              "  "
            ],
            "text/plain": [
              "                                            headlines  ...                                     decoder_target\n",
              "3   aegon life iterm insurance plan helps customer...  ...  aegon life iterm insurance plan helps customer...\n",
              "10  up cousins fed human excreta for friendship wi...  ...  up cousins fed human excreta for friendship wi...\n",
              "18  how long can tolerate congress leaders potshot...  ...  how long can tolerate congress leaders potshot...\n",
              "19  odisha cm patnaik controls mining mafia union ...  ...  odisha cm patnaik controls mining mafia union ...\n",
              "20  think the opposition even dreams about me pm modi  ...  think the opposition even dreams about me pm m...\n",
              "\n",
              "[5 rows x 4 columns]"
            ]
          },
          "metadata": {},
          "execution_count": 62
        }
      ]
    },
    {
      "cell_type": "code",
      "source": [
        "data['text']"
      ],
      "metadata": {
        "colab": {
          "base_uri": "https://localhost:8080/"
        },
        "id": "8Rf74dx5gYCM",
        "outputId": "237575bb-e31a-4bd1-b00d-2123db99758c"
      },
      "execution_count": null,
      "outputs": [
        {
          "output_type": "execute_result",
          "data": {
            "text/plain": [
              "3        aegon life iterm insurance plan customers enjo...\n",
              "10       two minor cousins uttar pradesh gorakhpur alle...\n",
              "18       days threatened step post congress mlas contin...\n",
              "19       union minister dharmendra pradhan wednesday cl...\n",
              "20       claiming dearth ideas among opposition parties...\n",
              "                               ...                        \n",
              "98394    enforcement directorate summoned jammu kashmir...\n",
              "98395    pakistan started building nearly kilometer fen...\n",
              "98396    crpf jawan tuesday axed death sharp edged weap...\n",
              "98398    according reports new version science fiction ...\n",
              "98400    madhesi morcha alliance seven political partie...\n",
              "Name: text, Length: 51435, dtype: object"
            ]
          },
          "metadata": {},
          "execution_count": 101
        }
      ]
    },
    {
      "cell_type": "code",
      "source": [
        "mystr = ''\n",
        "for i in range(len(data)):\n",
        "  mystr += str(data['text'][i:i+1]) + '\\n'\n",
        "\n",
        "with open('corpus.txt','w',encoding='utf-8') as f:\n",
        "  f.write(mystr)\n"
      ],
      "metadata": {
        "id": "QPiNGgI_g9Xn"
      },
      "execution_count": null,
      "outputs": []
    },
    {
      "cell_type": "code",
      "source": [
        "r = open('corpus.txt', mode='r', encoding='utf-8')\n",
        "r.readlines()"
      ],
      "metadata": {
        "colab": {
          "base_uri": "https://localhost:8080/"
        },
        "id": "S5TT9KECa5R-",
        "outputId": "4ac5080e-6a52-43ac-ee3e-cc5c34ff6524"
      },
      "execution_count": null,
      "outputs": [
        {
          "output_type": "execute_result",
          "data": {
            "text/plain": [
              "['3    aegon life iterm insurance plan customers enjo...\\n',\n",
              " 'Name: text, dtype: object\\n',\n",
              " '10    two minor cousins uttar pradesh gorakhpur alle...\\n',\n",
              " 'Name: text, dtype: object\\n',\n",
              " '18    days threatened step post congress mlas contin...\\n',\n",
              " 'Name: text, dtype: object\\n',\n",
              " '19    union minister dharmendra pradhan wednesday cl...\\n',\n",
              " 'Name: text, dtype: object\\n',\n",
              " '20    claiming dearth ideas among opposition parties...\\n',\n",
              " 'Name: text, dtype: object\\n',\n",
              " '21    indian space research organisation wednesday u...\\n',\n",
              " 'Name: text, dtype: object\\n',\n",
              " '22    least people killed others injured saudi arabi...\\n',\n",
              " 'Name: text, dtype: object\\n',\n",
              " '23    reliance industries chairman mukesh ambani dau...\\n',\n",
              " 'Name: text, dtype: object\\n',\n",
              " '27    stand captain rohit sharma become th indian cr...\\n',\n",
              " 'Name: text, dtype: object\\n',\n",
              " '28    batsman shubman gill become th cricketer repre...\\n',\n",
              " 'Name: text, dtype: object\\n',\n",
              " '29    investigators searching lost plane carrying ar...\\n',\n",
              " 'Name: text, dtype: object\\n',\n",
              " '36    agustawestland chopper scam co accused rajiv s...\\n',\n",
              " 'Name: text, dtype: object\\n',\n",
              " '37    afghan president ashraf ghani said keys war pa...\\n',\n",
              " 'Name: text, dtype: object\\n',\n",
              " '38    singapore based insurance agent jailed two yea...\\n',\n",
              " 'Name: text, dtype: object\\n',\n",
              " '40    ex icici bank ceo chanda kochhar said utterly ...\\n',\n",
              " 'Name: text, dtype: object\\n',\n",
              " '41    swedish multinational fast fashion brand henne...\\n',\n",
              " 'Name: text, dtype: object\\n',\n",
              " '42    micro blogging platform twitter testing new fe...\\n',\n",
              " 'Name: text, dtype: object\\n',\n",
              " '43    samsung started mass producing one terabyte em...\\n',\n",
              " 'Name: text, dtype: object\\n',\n",
              " '44    prime minister narendra modi wednesday said pe...\\n',\n",
              " 'Name: text, dtype: object\\n',\n",
              " '47    police wednesday registered cases persons incl...\\n',\n",
              " 'Name: text, dtype: object\\n',\n",
              " '49    us tuesday began returning asylum seekers mexi...\\n',\n",
              " 'Name: text, dtype: object\\n',\n",
              " '52    text\\n',\n",
              " 'Name: text, dtype: object\\n',\n",
              " '53    oneplus emerged india best selling premium sma...\\n',\n",
              " 'Name: text, dtype: object\\n',\n",
              " '55    actress mishti featured manikarnika queen jhan...\\n',\n",
              " 'Name: text, dtype: object\\n',\n",
              " '57    nevada state athletic commission banned mma fi...\\n',\n",
              " 'Name: text, dtype: object\\n',\n",
              " '66    actor shreyas talpade said golmaal filmmaker r...\\n',\n",
              " 'Name: text, dtype: object\\n',\n",
              " '68    yami gautam felicitated border security force ...\\n',\n",
              " 'Name: text, dtype: object\\n',\n",
              " '71    scientists australia flinders university testi...\\n',\n",
              " 'Name: text, dtype: object\\n',\n",
              " '73    bjp president amit shah wednesday took dig opp...\\n',\n",
              " 'Name: text, dtype: object\\n',\n",
              " '74    german automaker volkswagen group retained car...\\n',\n",
              " 'Name: text, dtype: object\\n',\n",
              " '76    government cut customs duty import parts compo...\\n',\n",
              " 'Name: text, dtype: object\\n',\n",
              " '77    government officials wednesday said swine flu ...\\n',\n",
              " 'Name: text, dtype: object\\n',\n",
              " '79    jet airways wednesday denied directed ge capit...\\n',\n",
              " 'Name: text, dtype: object\\n',\n",
              " '86    gujarat education minister bhupendrasinh chuda...\\n',\n",
              " 'Name: text, dtype: object\\n',\n",
              " '87    venezuelan president nicol maduro claimed amer...\\n',\n",
              " 'Name: text, dtype: object\\n',\n",
              " '88    eight asian billionaires aged bloomberg billio...\\n',\n",
              " 'Name: text, dtype: object\\n',\n",
              " '89    tamil nadu food safety officials wednesday rai...\\n',\n",
              " 'Name: text, dtype: object\\n',\n",
              " '90    actress shamita shetty verbally abused driver ...\\n',\n",
              " 'Name: text, dtype: object\\n',\n",
              " '91    actress vaani kapoor said trolling become norm...\\n',\n",
              " 'Name: text, dtype: object\\n',\n",
              " '93    television actor karanvir bohra flew russia tu...\\n',\n",
              " 'Name: text, dtype: object\\n',\n",
              " '95    actress patralekhaa make debut kannada film in...\\n',\n",
              " 'Name: text, dtype: object\\n',\n",
              " '96    gmail tuesday faced global outage also affecte...\\n',\n",
              " 'Name: text, dtype: object\\n',\n",
              " '97    shiv sena chief uddhav thackeray asked bjp dec...\\n',\n",
              " 'Name: text, dtype: object\\n',\n",
              " '99    prime minister narendra modi wednesday said go...\\n',\n",
              " 'Name: text, dtype: object\\n',\n",
              " '103    new york columbia university neuro engineers c...\\n',\n",
              " 'Name: text, dtype: object\\n',\n",
              " '106    country largest fuel retailer indian oil corpo...\\n',\n",
              " 'Name: text, dtype: object\\n',\n",
              " '108    pakistan captain sarfaraz ahmed said former fa...\\n',\n",
              " 'Name: text, dtype: object\\n',\n",
              " '109    apple tuesday said sales china fell december q...\\n',\n",
              " 'Name: text, dtype: object\\n',\n",
              " '113    india anna dravida munnetra kazhagam told part...\\n',\n",
              " 'Name: text, dtype: object\\n',\n",
              " '116    wayanad district congress committee member om ...\\n',\n",
              " 'Name: text, dtype: object\\n',\n",
              " '119    mahindra group chairman anand mahindra took tw...\\n',\n",
              " 'Name: text, dtype: object\\n',\n",
              " '120    deepika padukone taken chairperson mumbai acad...\\n',\n",
              " 'Name: text, dtype: object\\n',\n",
              " '123    chhattisgarh chief minister bhupesh baghel sai...\\n',\n",
              " 'Name: text, dtype: object\\n',\n",
              " '124    congress president rahul gandhi claimed goa cm...\\n',\n",
              " 'Name: text, dtype: object\\n',\n",
              " '126    congress leader shashi tharoor took jibe cm yo...\\n',\n",
              " 'Name: text, dtype: object\\n',\n",
              " '130    venezuela barred juan guaid declared interim p...\\n',\n",
              " 'Name: text, dtype: object\\n',\n",
              " '131    least two people killed four others injured we...\\n',\n",
              " 'Name: text, dtype: object\\n',\n",
              " '132    serial killer canada pleaded guilty killing ei...\\n',\n",
              " 'Name: text, dtype: object\\n',\n",
              " '133    supreme court wednesday asked karti chidambara...\\n',\n",
              " 'Name: text, dtype: object\\n',\n",
              " '136    actress mishti featured manikarnika queen jhan...\\n',\n",
              " 'Name: text, dtype: object\\n',\n",
              " '138    shraddha kapoor criticised cultural appropriat...\\n',\n",
              " 'Name: text, dtype: object\\n',\n",
              " '139    congress president rahul gandhi met goa cm man...\\n',\n",
              " 'Name: text, dtype: object\\n',\n",
              " '143    three women arrested tuesday connection poison...\\n',\n",
              " 'Name: text, dtype: object\\n',\n",
              " '145    padma vibhushan awardee retired non executive ...\\n',\n",
              " 'Name: text, dtype: object\\n',\n",
              " '148    year old priest namakkal anjaneyar temple tami...\\n',\n",
              " 'Name: text, dtype: object\\n',\n",
              " '151    singer stage performer shivani bhatia died roa...\\n',\n",
              " 'Name: text, dtype: object\\n',\n",
              " '152    two non government members national statistica...\\n',\n",
              " 'Name: text, dtype: object\\n',\n",
              " '154    german luxury carmaker porsche revealed electr...\\n',\n",
              " 'Name: text, dtype: object\\n',\n",
              " '156    nasa curiosity rover shared last selfie clicke...\\n',\n",
              " 'Name: text, dtype: object\\n',\n",
              " '157    cash strapped carrier jet airways cancelled fl...\\n',\n",
              " 'Name: text, dtype: object\\n',\n",
              " '158    year old man named saif ali sharafat ali alleg...\\n',\n",
              " 'Name: text, dtype: object\\n',\n",
              " '159    uk mp fiona onasanya jailed three months found...\\n',\n",
              " 'Name: text, dtype: object\\n',\n",
              " '166    bee attack forced officials stop play around m...\\n',\n",
              " 'Name: text, dtype: object\\n',\n",
              " '168    urban free climber alain robert popularly know...\\n',\n",
              " 'Name: text, dtype: object\\n',\n",
              " '169    national company law tribunal rejected settlem...\\n',\n",
              " 'Name: text, dtype: object\\n',\n",
              " '171    disappearing photo video sharing platform snap...\\n',\n",
              " 'Name: text, dtype: object\\n',\n",
              " '173    nationalist congress party chief sharad pawar ...\\n',\n",
              " 'Name: text, dtype: object\\n',\n",
              " '177    flipkart ceo kalyan krishnamurthy reportedly o...\\n',\n",
              " 'Name: text, dtype: object\\n',\n",
              " '178    researchers found geological evidence palaeo t...\\n',\n",
              " 'Name: text, dtype: object\\n',\n",
              " '180    uttar pradesh government asked officials barco...\\n',\n",
              " 'Name: text, dtype: object\\n',\n",
              " '181    ahmedabad headquartered lambda therapeutic res...\\n',\n",
              " 'Name: text, dtype: object\\n',\n",
              " '182    income tax department tuesday said confiscated...\\n',\n",
              " 'Name: text, dtype: object\\n',\n",
              " '183    bank baroda tuesday posted year year rise prof...\\n',\n",
              " 'Name: text, dtype: object\\n',\n",
              " '184    conclusion cases bankruptcy law nclt within da...\\n',\n",
              " 'Name: text, dtype: object\\n',\n",
              " '185    dewan housing finance shares fell much tuesday...\\n',\n",
              " 'Name: text, dtype: object\\n',\n",
              " '186    cash strapped jet airways tuesday reportedly g...\\n',\n",
              " 'Name: text, dtype: object\\n',\n",
              " '194    actor rajkummar rao said finds overwhelming co...\\n',\n",
              " 'Name: text, dtype: object\\n',\n",
              " '195    shah rukh khan dismissed charge beneficiary be...\\n',\n",
              " 'Name: text, dtype: object\\n',\n",
              " '196    nana patekar mother nirmala patekar passed awa...\\n',\n",
              " 'Name: text, dtype: object\\n',\n",
              " '198    cbi sp rajah balaji accused transferred interi...\\n',\n",
              " 'Name: text, dtype: object\\n',\n",
              " '200    australia wicketkeeper batswoman alyssa healy ...\\n',\n",
              " 'Name: text, dtype: object\\n',\n",
              " '201    england cricketer tom curran praised indian ca...\\n',\n",
              " 'Name: text, dtype: object\\n',\n",
              " '206    talking priyanka gandhi entry politics bjp pre...\\n',\n",
              " 'Name: text, dtype: object\\n',\n",
              " '207    us based wellness startup hims become unicorn ...\\n',\n",
              " 'Name: text, dtype: object\\n',\n",
              " '208    arctic canada glaciers retreated reveal landsc...\\n',\n",
              " 'Name: text, dtype: object\\n',\n",
              " '210    us monday imposed sanctions venezuelan state o...\\n',\n",
              " 'Name: text, dtype: object\\n',\n",
              " '211    least five people killed around others injured...\\n',\n",
              " 'Name: text, dtype: object\\n',\n",
              " '213    private lender axis bank tuesday reported year...\\n',\n",
              " 'Name: text, dtype: object\\n',\n",
              " '217    recent tweet scientific american criticised in...\\n',\n",
              " 'Name: text, dtype: object\\n',\n",
              " '220    us woman recovering hospital rescued elevator ...\\n',\n",
              " 'Name: text, dtype: object\\n',\n",
              " '222    ex chief economic adviser arvind subramanian p...\\n',\n",
              " 'Name: text, dtype: object\\n',\n",
              " '224    pakistani singer shafqat amanat ali said belie...\\n',\n",
              " 'Name: text, dtype: object\\n',\n",
              " '227    mit researchers claim developed new cryptocurr...\\n',\n",
              " 'Name: text, dtype: object\\n',\n",
              " '229    apple revealed app store developers earned bil...\\n',\n",
              " 'Name: text, dtype: object\\n',\n",
              " '230    apple released new guidelines developers prote...\\n',\n",
              " 'Name: text, dtype: object\\n',\n",
              " '235    bihar chief minister nitish kumar tuesday brok...\\n',\n",
              " 'Name: text, dtype: object\\n',\n",
              " '237    platoon indian army monday joined rescue opera...\\n',\n",
              " 'Name: text, dtype: object\\n',\n",
              " '238    indian origin activist gina miller along two b...\\n',\n",
              " 'Name: text, dtype: object\\n',\n",
              " '239    ten children kidnapped tanzania found dead bod...\\n',\n",
              " 'Name: text, dtype: object\\n',\n",
              " '240    us president donald trump told white house vis...\\n',\n",
              " 'Name: text, dtype: object\\n',\n",
              " '244    letter investors uber co founder ceo travis ka...\\n',\n",
              " 'Name: text, dtype: object\\n',\n",
              " '245    claiming bjp rough faces madhya pradesh congre...\\n',\n",
              " 'Name: text, dtype: object\\n',\n",
              " '247    pakistan supreme court upheld acquittal christ...\\n',\n",
              " 'Name: text, dtype: object\\n',\n",
              " '253    speaking current indian team former indian cri...\\n',\n",
              " 'Name: text, dtype: object\\n',\n",
              " '255    us charged huawei cfo meng wanzhou conspiring ...\\n',\n",
              " 'Name: text, dtype: object\\n',\n",
              " '257    talking congress president rahul gandhi minimu...\\n',\n",
              " 'Name: text, dtype: object\\n',\n",
              " '258    prime minister narendra modi tuesday condoled ...\\n',\n",
              " 'Name: text, dtype: object\\n',\n",
              " '259    bjp mp satish gautam demanded word muslim drop...\\n',\n",
              " 'Name: text, dtype: object\\n',\n",
              " '261    janata dal northeastern political parties incl...\\n',\n",
              " 'Name: text, dtype: object\\n',\n",
              " '263    mit university researchers developed flexible ...\\n',\n",
              " 'Name: text, dtype: object\\n',\n",
              " '264    nagaland cabinet monday rejected citizenship b...\\n',\n",
              " 'Name: text, dtype: object\\n',\n",
              " '266    cash strapped jet airways monday said seeking ...\\n',\n",
              " 'Name: text, dtype: object\\n',\n",
              " '269    former defence minister george fernandes passe...\\n',\n",
              " 'Name: text, dtype: object\\n',\n",
              " '277    income tax department conducted raids location...\\n',\n",
              " 'Name: text, dtype: object\\n',\n",
              " '278    suman kumari become first hindu woman appointe...\\n',\n",
              " 'Name: text, dtype: object\\n',\n",
              " '280    several parts us experience extreme cold weath...\\n',\n",
              " 'Name: text, dtype: object\\n',\n",
              " '285    rss leader indresh kumar monday said actors na...\\n',\n",
              " 'Name: text, dtype: object\\n',\n",
              " '288    italian court directed francesco firano owner ...\\n',\n",
              " 'Name: text, dtype: object\\n',\n",
              " '290    suheldev bhartiya samaj party chief op rajbhar...\\n',\n",
              " 'Name: text, dtype: object\\n',\n",
              " '292    centre tuesday approved additional central ass...\\n',\n",
              " 'Name: text, dtype: object\\n',\n",
              " '293    addressing summit parmarth niketan camp kumbh ...\\n',\n",
              " 'Name: text, dtype: object\\n',\n",
              " '294    national investigation agency kolkata arrested...\\n',\n",
              " 'Name: text, dtype: object\\n',\n",
              " '301    police head constable suspended showering mone...\\n',\n",
              " 'Name: text, dtype: object\\n',\n",
              " '302    six journalists allowed enter republic day fun...\\n',\n",
              " 'Name: text, dtype: object\\n',\n",
              " '309    actor ayushmann khurrana seen playing role pol...\\n',\n",
              " 'Name: text, dtype: object\\n',\n",
              " '311    aam aadmi party mlas refused declare assets li...\\n',\n",
              " 'Name: text, dtype: object\\n',\n",
              " '312    video congress leader siddaramaiah misbehaving...\\n',\n",
              " 'Name: text, dtype: object\\n',\n",
              " '315    many people including three children killed mo...\\n',\n",
              " 'Name: text, dtype: object\\n',\n",
              " '316    police sundargarh odisha monday arrested six p...\\n',\n",
              " 'Name: text, dtype: object\\n',\n",
              " '317    least five maoists killed one suffered injurie...\\n',\n",
              " 'Name: text, dtype: object\\n',\n",
              " '319    many children rescued part operation smile hyd...\\n',\n",
              " 'Name: text, dtype: object\\n',\n",
              " '320    zero waste online shopping project loop debute...\\n',\n",
              " 'Name: text, dtype: object\\n',\n",
              " '321    former defence minister george fernandes passe...\\n',\n",
              " 'Name: text, dtype: object\\n',\n",
              " '323    trevor dubbed world loneliest duck died attack...\\n',\n",
              " 'Name: text, dtype: object\\n',\n",
              " '326    press conference record seventh australian ope...\\n',\n",
              " 'Name: text, dtype: object\\n',\n",
              " '336    former indian cricketer sunil gavaskar praised...\\n',\n",
              " 'Name: text, dtype: object\\n',\n",
              " '338    speaking introduction drs technology indian do...\\n',\n",
              " 'Name: text, dtype: object\\n',\n",
              " '339    american online file sharing platform dropbox ...\\n',\n",
              " 'Name: text, dtype: object\\n',\n",
              " '340    antibiotic resistant genes linked superbugs fo...\\n',\n",
              " 'Name: text, dtype: object\\n',\n",
              " '342    video former karnataka cm siddaramaiah misbeha...\\n',\n",
              " 'Name: text, dtype: object\\n',\n",
              " '343    former finance commission chairman vijay kelka...\\n',\n",
              " 'Name: text, dtype: object\\n',\n",
              " '346    zee entertainment shares monday rallied denied...\\n',\n",
              " 'Name: text, dtype: object\\n',\n",
              " '351    bjp manjinder singh sirsa filed complaint delh...\\n',\n",
              " 'Name: text, dtype: object\\n',\n",
              " '358    annual gender balance awards uae criticised re...\\n',\n",
              " 'Name: text, dtype: object\\n',\n",
              " '361    nepal cricket team beat uae four wickets third...\\n',\n",
              " 'Name: text, dtype: object\\n',\n",
              " '362    cristiano ronaldo converted penalty seal win j...\\n',\n",
              " 'Name: text, dtype: object\\n',\n",
              " '363    singapore health ministry said details individ...\\n',\n",
              " 'Name: text, dtype: object\\n',\n",
              " '368    supreme court asked centre meghalaya governmen...\\n',\n",
              " 'Name: text, dtype: object\\n',\n",
              " '369    amid reports full fledged budget may presented...\\n',\n",
              " 'Name: text, dtype: object\\n',\n",
              " '373    afghan army freed captives taliban prison ghaz...\\n',\n",
              " 'Name: text, dtype: object\\n',\n",
              " '374    least three people killed others injured torna...\\n',\n",
              " 'Name: text, dtype: object\\n',\n",
              " '378    rounder hardik pandya took flying catch dismis...\\n',\n",
              " 'Name: text, dtype: object\\n',\n",
              " '383    bombay high court imposed fine lakh haryana wo...\\n',\n",
              " 'Name: text, dtype: object\\n',\n",
              " '387    first term us democratic senator kamala harris...\\n',\n",
              " 'Name: text, dtype: object\\n',\n",
              " '388    saurashtra reached final ranji trophy cheteshw...\\n',\n",
              " 'Name: text, dtype: object\\n',\n",
              " '398    theme empowering rural economy gandhian way tr...\\n',\n",
              " 'Name: text, dtype: object\\n',\n",
              " '399    human rights lawyer wang quanzhang sentenced f...\\n',\n",
              " 'Name: text, dtype: object\\n',\n",
              " '401    tata steel monday announced subsidiary ts glob...\\n',\n",
              " 'Name: text, dtype: object\\n',\n",
              " '405    manikarnika queen jhansi co director krish spe...\\n',\n",
              " 'Name: text, dtype: object\\n',\n",
              " '406    actress esha gupta apologised twitter followin...\\n',\n",
              " 'Name: text, dtype: object\\n',\n",
              " '407    senior congress leader shashi tharoor monday s...\\n',\n",
              " 'Name: text, dtype: object\\n',\n",
              " '409    indian air force jaguar fighter plane monday c...\\n',\n",
              " 'Name: text, dtype: object\\n',\n",
              " '411    anil kapoor revealed suffered one two tears bi...\\n',\n",
              " 'Name: text, dtype: object\\n',\n",
              " '415    barcelona regained five point lead top la liga...\\n',\n",
              " 'Name: text, dtype: object\\n',\n",
              " '416    rashtrapati bhavan mughal gardens open public ...\\n',\n",
              " 'Name: text, dtype: object\\n',\n",
              " '417    domestic online retailers like snapdeal shopcl...\\n',\n",
              " 'Name: text, dtype: object\\n',\n",
              " '419    ride hailing startup ola reportedly halved inv...\\n',\n",
              " 'Name: text, dtype: object\\n',\n",
              " '420    national green tribunal asked railways identif...\\n',\n",
              " 'Name: text, dtype: object\\n',\n",
              " '422    least students injured two critically private ...\\n',\n",
              " 'Name: text, dtype: object\\n',\n",
              " '424    many people arrested across uttar pradesh sund...\\n',\n",
              " 'Name: text, dtype: object\\n',\n",
              " '427    senior congress leader chidambaram criticised ...\\n',\n",
              " 'Name: text, dtype: object\\n',\n",
              " '432    bhumi pednekar appearance koffee karan reveale...\\n',\n",
              " 'Name: text, dtype: object\\n',\n",
              " '442    talking film vivah co actor shahid kapoor actr...\\n',\n",
              " 'Name: text, dtype: object\\n',\n",
              " '443    salman khan rohit shetty reportedly collaborat...\\n',\n",
              " 'Name: text, dtype: object\\n',\n",
              " '445    denying reports film womaniya shelved anurag k...\\n',\n",
              " 'Name: text, dtype: object\\n',\n",
              " '447    former madhya pradesh cm shivraj singh chouhan...\\n',\n",
              " 'Name: text, dtype: object\\n',\n",
              " '451    mahapanchayat called gujjar community sawai ma...\\n',\n",
              " 'Name: text, dtype: object\\n',\n",
              " '452    aimim chief asaduddin owaisi sunday said babas...\\n',\n",
              " 'Name: text, dtype: object\\n',\n",
              " '458    private search argentine footballer emiliano s...\\n',\n",
              " 'Name: text, dtype: object\\n',\n",
              " '465    winning th grand slam title sunday serbian ten...\\n',\n",
              " 'Name: text, dtype: object\\n',\n",
              " '466    reacting novak djokovic win rafael nadal claim...\\n',\n",
              " 'Name: text, dtype: object\\n',\n",
              " '469    research published kaspersky lab identified tr...\\n',\n",
              " 'Name: text, dtype: object\\n',\n",
              " '471    patidar reservation leader hardik patel sunday...\\n',\n",
              " 'Name: text, dtype: object\\n',\n",
              " '473    mit study found amazon facial recognition tech...\\n',\n",
              " 'Name: text, dtype: object\\n',\n",
              " '475    many eight people died ten injured van fell go...\\n',\n",
              " 'Name: text, dtype: object\\n',\n",
              " '477    indian origin retailer brothers simon arora bo...\\n',\n",
              " 'Name: text, dtype: object\\n',\n",
              " '482    actress isha koppikar sunday joined bjp presen...\\n',\n",
              " 'Name: text, dtype: object\\n',\n",
              " '486    bangalore metropolitan transport corporation b...\\n',\n",
              " 'Name: text, dtype: object\\n',\n",
              " '487    defence minister nirmala sitharaman sunday wat...\\n',\n",
              " 'Name: text, dtype: object\\n',\n",
              " '491    ahead australian open men final australian ten...\\n',\n",
              " 'Name: text, dtype: object\\n',\n",
              " '493    argentina gonzalo higuain revealed almost quit...\\n',\n",
              " 'Name: text, dtype: object\\n',\n",
              " '494    pakistan beat south africa eight wickets level...\\n',\n",
              " 'Name: text, dtype: object\\n',\n",
              " '495    according wabetainfo whatsapp testing new feat...\\n',\n",
              " 'Name: text, dtype: object\\n',\n",
              " '496    talking priyanka gandhi vadra entering active ...\\n',\n",
              " 'Name: text, dtype: object\\n',\n",
              " '497    pragatisheel samajwadi party chief shivpal yad...\\n',\n",
              " 'Name: text, dtype: object\\n',\n",
              " '498    according national judicial data grid cases pe...\\n',\n",
              " 'Name: text, dtype: object\\n',\n",
              " '500    pm modi sunday inaugurated integrated bharat p...\\n',\n",
              " 'Name: text, dtype: object\\n',\n",
              " '501    trai chairman rs sharma said tv viewer onboard...\\n',\n",
              " 'Name: text, dtype: object\\n',\n",
              " '503    pm narendra modi sunday said lakh villages ind...\\n',\n",
              " 'Name: text, dtype: object\\n',\n",
              " '504    world trade organization member countries agre...\\n',\n",
              " 'Name: text, dtype: object\\n',\n",
              " '505    saudi arabia energy minister khalid al falih s...\\n',\n",
              " 'Name: text, dtype: object\\n',\n",
              " '506    vedanta founder chairman anil agarwal indicate...\\n',\n",
              " 'Name: text, dtype: object\\n',\n",
              " '508    patidar quota year old leader hardik patel sun...\\n',\n",
              " 'Name: text, dtype: object\\n',\n",
              " '518    union minister dharmendra pradhan sunday said ...\\n',\n",
              " 'Name: text, dtype: object\\n',\n",
              " '521    railways minister piyush goyal sunday said ind...\\n',\n",
              " 'Name: text, dtype: object\\n',\n",
              " '522    actress sonam kapoor said believes lot gender ...\\n',\n",
              " 'Name: text, dtype: object\\n',\n",
              " '526    windies captain jason holder became top ranked...\\n',\n",
              " 'Name: text, dtype: object\\n',\n",
              " '527    facebook discontinue standalone private photo ...\\n',\n",
              " 'Name: text, dtype: object\\n',\n",
              " '528    bengaluru based student lending startup slicep...\\n',\n",
              " 'Name: text, dtype: object\\n',\n",
              " '532    vedanta resources founder chairman anil agarwa...\\n',\n",
              " 'Name: text, dtype: object\\n',\n",
              " '533    drugmaker lupin saturday said received six obs...\\n',\n",
              " 'Name: text, dtype: object\\n',\n",
              " '542    least people killed others injured two bombs e...\\n',\n",
              " 'Name: text, dtype: object\\n',\n",
              " '544    sinar mas group founder eka tjipta widjaja net...\\n',\n",
              " 'Name: text, dtype: object\\n',\n",
              " '545    parmeet sethi played role kuljeet film dilwale...\\n',\n",
              " 'Name: text, dtype: object\\n',\n",
              " '555    directorate revenue intelligence officials fri...\\n',\n",
              " 'Name: text, dtype: object\\n',\n",
              " '556    pm narendra modi sunday laid foundation stone ...\\n',\n",
              " 'Name: text, dtype: object\\n',\n",
              " '558    defence ministry announced disability war inju...\\n',\n",
              " 'Name: text, dtype: object\\n',\n",
              " '559    many two people killed others injured sunday b...\\n',\n",
              " 'Name: text, dtype: object\\n',\n",
              " '568    crore raised far towards private search cardif...\\n',\n",
              " 'Name: text, dtype: object\\n',\n",
              " '576    apple biggest iphone assembler foxconn said in...\\n',\n",
              " 'Name: text, dtype: object\\n',\n",
              " '582    priyanka gandhi entry politics bjp general sec...\\n',\n",
              " 'Name: text, dtype: object\\n',\n",
              " '583    first time women contingent assam rifles took ...\\n',\n",
              " 'Name: text, dtype: object\\n',\n",
              " '586    woman died nine people including two children ...\\n',\n",
              " 'Name: text, dtype: object\\n',\n",
              " '594    apple next generation airpods rumoured launch ...\\n',\n",
              " 'Name: text, dtype: object\\n',\n",
              " '600    malayalam actor mohanlal conferred padma bhush...\\n',\n",
              " 'Name: text, dtype: object\\n',\n",
              " '601    actor prateik babbar wife sanya sagar hosted w...\\n',\n",
              " 'Name: text, dtype: object\\n',\n",
              " '602    speaking trolled dialogue business business no...\\n',\n",
              " 'Name: text, dtype: object\\n',\n",
              " '603    case filed singer zubeen garg allegedly using ...\\n',\n",
              " 'Name: text, dtype: object\\n',\n",
              " '607    speaking opening partner shikhar dhawan rohit ...\\n',\n",
              " 'Name: text, dtype: object\\n',\n",
              " '608    manchester united made eight wins eight matche...\\n',\n",
              " 'Name: text, dtype: object\\n',\n",
              " '610    speaking ayodhya dispute uttar pradesh cm yogi...\\n',\n",
              " 'Name: text, dtype: object\\n',\n",
              " '611    th republic day india gifted ambulances six bu...\\n',\n",
              " 'Name: text, dtype: object\\n',\n",
              " '613    th republic day police district officials chha...\\n',\n",
              " 'Name: text, dtype: object\\n',\n",
              " '618    federation hotel restaurant associations india...\\n',\n",
              " 'Name: text, dtype: object\\n',\n",
              " '621    us economy lost least billion partial shutdown...\\n',\n",
              " 'Name: text, dtype: object\\n',\n",
              " '623    consumer goods maker emami friday said acquire...\\n',\n",
              " 'Name: text, dtype: object\\n',\n",
              " '624    jay asher author book thirteen reasons suing w...\\n',\n",
              " 'Name: text, dtype: object\\n',\n",
              " '626    oscar winning french music composer michel leg...\\n',\n",
              " 'Name: text, dtype: object\\n',\n",
              " '629    shraddha kapoor playing pakistani dancer upcom...\\n',\n",
              " 'Name: text, dtype: object\\n',\n",
              " '630    indian openers rohit sharma shikhar dhawan wen...\\n',\n",
              " 'Name: text, dtype: object\\n',\n",
              " '632    indian shuttler saina nehwal beat china bingji...\\n',\n",
              " 'Name: text, dtype: object\\n',\n",
              " '634    talking priyanka gandhi entering active politi...\\n',\n",
              " 'Name: text, dtype: object\\n',\n",
              " '636    chhattisgarh cm bhupesh baghel saturday announ...\\n',\n",
              " 'Name: text, dtype: object\\n',\n",
              " '638    senior advocate hs phoolka awarded padma shri ...\\n',\n",
              " 'Name: text, dtype: object\\n',\n",
              " '639    united nation human rights office announced th...\\n',\n",
              " 'Name: text, dtype: object\\n',\n",
              " '644    tinder settled million california class action...\\n',\n",
              " 'Name: text, dtype: object\\n',\n",
              " '649    indian navy divers saturday detected body anot...\\n',\n",
              " 'Name: text, dtype: object\\n',\n",
              " '650    gautam khaitan lawyer accused crore agustawest...\\n',\n",
              " 'Name: text, dtype: object\\n',\n",
              " '652    afghan president ashraf ghani said members cou...\\n',\n",
              " 'Name: text, dtype: object\\n',\n",
              " '654    india celebrates republic day january australi...\\n',\n",
              " 'Name: text, dtype: object\\n',\n",
              " '658    brisbane heat maiden women big bash league tit...\\n',\n",
              " 'Name: text, dtype: object\\n',\n",
              " '659    indian spinner ravichandran ashwin praised win...\\n',\n",
              " 'Name: text, dtype: object\\n',\n",
              " '663    andhra pradesh cm chandrababu naidu friday ann...\\n',\n",
              " 'Name: text, dtype: object\\n',\n",
              " '664    india south africa signed three year strategic...\\n',\n",
              " 'Name: text, dtype: object\\n',\n",
              " '667    state bank india recently announced launch yon...\\n',\n",
              " 'Name: text, dtype: object\\n',\n",
              " '668    india defeated new zealand runs second odi reg...\\n',\n",
              " 'Name: text, dtype: object\\n',\n",
              " '678    least seven people died around others missing ...\\n',\n",
              " 'Name: text, dtype: object\\n',\n",
              " '680    japan supreme court upheld law forces transgen...\\n',\n",
              " 'Name: text, dtype: object\\n',\n",
              " '682    sara ali khan talking relationship grandmother...\\n',\n",
              " 'Name: text, dtype: object\\n',\n",
              " '684    deepika padukone occasion film padmaavat compl...\\n',\n",
              " 'Name: text, dtype: object\\n',\n",
              " '686    former gujarat chief minister shankersinh vagh...\\n',\n",
              " 'Name: text, dtype: object\\n',\n",
              " '688    mark protest citizenship bill six student bodi...\\n',\n",
              " 'Name: text, dtype: object\\n',\n",
              " '691    people southern philippines voted create new m...\\n',\n",
              " 'Name: text, dtype: object\\n',\n",
              " '692    us president donald trump said ending partial ...\\n',\n",
              " 'Name: text, dtype: object\\n',\n",
              " '693    croma launched first ever loyalty programme wo...\\n',\n",
              " 'Name: text, dtype: object\\n',\n",
              " '697    bcci lifted suspensions kl rahul hardik pandya...\\n',\n",
              " 'Name: text, dtype: object\\n',\n",
              " '699    barcelona forward lionel messi urged authoriti...\\n',\n",
              " 'Name: text, dtype: object\\n',\n",
              " '703    pakistan government friday announced ease trav...\\n',\n",
              " 'Name: text, dtype: object\\n',\n",
              " '704    nearly million cash stolen former zimbabwe pre...\\n',\n",
              " 'Name: text, dtype: object\\n',\n",
              " '706    union minister arun jaitley questioned cbi nee...\\n',\n",
              " 'Name: text, dtype: object\\n',\n",
              " '708    malayalam film actor mohanlal awarded india th...\\n',\n",
              " 'Name: text, dtype: object\\n',\n",
              " '711    late actor screenwriter kader khan friday conf...\\n',\n",
              " 'Name: text, dtype: object\\n',\n",
              " '714    hindi author essayist krishna sobti passed awa...\\n',\n",
              " 'Name: text, dtype: object\\n',\n",
              " '716    customary address nation eve republic day pres...\\n',\n",
              " 'Name: text, dtype: object\\n',\n",
              " '717    information broadcasting ministry friday incre...\\n',\n",
              " 'Name: text, dtype: object\\n',\n",
              " '718    singapore reduce length intensity frequency tr...\\n',\n",
              " 'Name: text, dtype: object\\n',\n",
              " '727    facebook ceo mark zuckerberg plans integrate w...\\n',\n",
              " 'Name: text, dtype: object\\n',\n",
              " '729    african nation angola decriminalised homosexua...\\n',\n",
              " 'Name: text, dtype: object\\n',\n",
              " '730    archaeologists found remains british explorer ...\\n',\n",
              " 'Name: text, dtype: object\\n',\n",
              " '733    maharashtra raigad collectorate friday started...\\n',\n",
              " 'Name: text, dtype: object\\n',\n",
              " '735    malayalam actress manju warrier denied reports...\\n',\n",
              " 'Name: text, dtype: object\\n',\n",
              " '736    lyricist filmmaker gulzar said kind language u...\\n',\n",
              " 'Name: text, dtype: object\\n',\n",
              " '738    former indian batsman sanjay manjrekar praised...\\n',\n",
              " 'Name: text, dtype: object\\n',\n",
              " '740    india yuvraj singh hit balls air india ongoing...\\n',\n",
              " 'Name: text, dtype: object\\n',\n",
              " '745    addressing nation eve th republic day presiden...\\n',\n",
              " 'Name: text, dtype: object\\n',\n",
              " '749    month one zomato delivery executives caught ca...\\n',\n",
              " 'Name: text, dtype: object\\n',\n",
              " '751    doomsday clock symbolising close planet apocal...\\n',\n",
              " 'Name: text, dtype: object\\n',\n",
              " '753    india called upon people venezuela find soluti...\\n',\n",
              " 'Name: text, dtype: object\\n',\n",
              " '754    woman abducted outside beauty parlour friday h...\\n',\n",
              " 'Name: text, dtype: object\\n',\n",
              " '756    total passengers fell sick board air transat p...\\n',\n",
              " 'Name: text, dtype: object\\n',\n",
              " '761    actor arshad warsi said golmaal filmmaker rohi...\\n',\n",
              " 'Name: text, dtype: object\\n',\n",
              " '769    finance minister arun jaitley undergoing medic...\\n',\n",
              " 'Name: text, dtype: object\\n',\n",
              " '771    many police personnel awarded medals eve repub...\\n',\n",
              " 'Name: text, dtype: object\\n',\n",
              " '773    sequoia combinator backed investment platform ...\\n',\n",
              " 'Name: text, dtype: object\\n',\n",
              " '775    nawazuddin siddiqui starrer thackeray released...\\n',\n",
              " 'Name: text, dtype: object\\n',\n",
              " '788    swara bhasker along brother ishan launch produ...\\n',\n",
              " 'Name: text, dtype: object\\n',\n",
              " '789    wishing wife soha ali khan fourth wedding anni...\\n',\n",
              " 'Name: text, dtype: object\\n',\n",
              " '790    mizoram chief minister zoramthanga thursday sa...\\n',\n",
              " 'Name: text, dtype: object\\n',\n",
              " '794    teacher arrested allegedly raping class studen...\\n',\n",
              " 'Name: text, dtype: object\\n',\n",
              " '795    former madhya pradesh cm shivraj singh chouhan...\\n',\n",
              " 'Name: text, dtype: object\\n',\n",
              " '796    leopard entered crowded locality maharashtra n...\\n',\n",
              " 'Name: text, dtype: object\\n',\n",
              " '798    least seven people died due swine flu past day...\\n',\n",
              " 'Name: text, dtype: object\\n',\n",
              " '799    according data issued government people tested...\\n',\n",
              " 'Name: text, dtype: object\\n',\n",
              " '802    world negative news around us rpg introduced h...\\n',\n",
              " 'Name: text, dtype: object\\n',\n",
              " '803    casting director rohan mapuskar worked directo...\\n',\n",
              " 'Name: text, dtype: object\\n',\n",
              " '806    bjp demanded unconditional apology congress pr...\\n',\n",
              " 'Name: text, dtype: object\\n',\n",
              " '809    priyanka gandhi vadra entered active politics ...\\n',\n",
              " 'Name: text, dtype: object\\n',\n",
              " '812    nthe goa cabinet approved proposal impose fine...\\n',\n",
              " 'Name: text, dtype: object\\n',\n",
              " '813    around nine deliveries performed candlelight t...\\n',\n",
              " 'Name: text, dtype: object\\n',\n",
              " '819    grammy winning year old singer songwriter chri...\\n',\n",
              " 'Name: text, dtype: object\\n',\n",
              " '820    england pacer james anderson matched sir ian b...\\n',\n",
              " 'Name: text, dtype: object\\n',\n",
              " '822    priyanka gandhi vadra appointed congress gener...\\n',\n",
              " 'Name: text, dtype: object\\n',\n",
              " '825    jammu kashmir governor satya pal malik thursda...\\n',\n",
              " 'Name: text, dtype: object\\n',\n",
              " '827    indian space research organisation thursday su...\\n',\n",
              " 'Name: text, dtype: object\\n',\n",
              " '829    mumbai police wednesday arrested six members k...\\n',\n",
              " 'Name: text, dtype: object\\n',\n",
              " '830    kangana ranaut starrer manikarnika queen jhans...\\n',\n",
              " 'Name: text, dtype: object\\n',\n",
              " '838    south korean multinational conglomerate samsun...\\n',\n",
              " 'Name: text, dtype: object\\n',\n",
              " '839    priyanka gandhi vadra appointed congress gener...\\n',\n",
              " 'Name: text, dtype: object\\n',\n",
              " '840    mclaren revealed concept car formula mclextrem...\\n',\n",
              " 'Name: text, dtype: object\\n',\n",
              " '843    maharashtra government thursday announced disb...\\n',\n",
              " 'Name: text, dtype: object\\n',\n",
              " '844    around security personnel deployed around delh...\\n',\n",
              " 'Name: text, dtype: object\\n',\n",
              " '845    rajasthan women child development minister mam...\\n',\n",
              " 'Name: text, dtype: object\\n',\n",
              " '848    former scottish first minister alex salmond th...\\n',\n",
              " 'Name: text, dtype: object\\n',\n",
              " '849    media entertainment company reliance entertain...\\n',\n",
              " 'Name: text, dtype: object\\n',\n",
              " '850    cbi booked former air india chairman managing ...\\n',\n",
              " 'Name: text, dtype: object\\n',\n",
              " '857    small passenger plane carrying year old argent...\\n',\n",
              " 'Name: text, dtype: object\\n',\n",
              " '864    india biggest airline indigo named ronojoy dut...\\n',\n",
              " 'Name: text, dtype: object\\n',\n",
              " '866    bengali film producer shrikant mohta arrested ...\\n',\n",
              " 'Name: text, dtype: object\\n',\n",
              " '867    gandhi murder film based mahatma gandhi assass...\\n',\n",
              " 'Name: text, dtype: object\\n',\n",
              " '868    according data reported opensignal india exper...\\n',\n",
              " 'Name: text, dtype: object\\n',\n",
              " '871    elon musk led spacex foot wide starship rocket...\\n',\n",
              " 'Name: text, dtype: object\\n',\n",
              " '872    container radioactive isotope cs went missing ...\\n',\n",
              " 'Name: text, dtype: object\\n',\n",
              " '874    jammu kashmir governor satya pal malik said fe...\\n',\n",
              " 'Name: text, dtype: object\\n',\n",
              " '875    new quota economically weaker sections general...\\n',\n",
              " 'Name: text, dtype: object\\n',\n",
              " '876    defence research development organisation succ...\\n',\n",
              " 'Name: text, dtype: object\\n',\n",
              " '877    gunman killed five people wednesday inside ban...\\n',\n",
              " 'Name: text, dtype: object\\n',\n",
              " '882    actor govinda year old nephew janmendra ahuja ...\\n',\n",
              " 'Name: text, dtype: object\\n',\n",
              " '886    sultan abdullah sultan ahmad shah thursday ele...\\n',\n",
              " 'Name: text, dtype: object\\n',\n",
              " '889    shares singapore listed jardine matheson year ...\\n',\n",
              " 'Name: text, dtype: object\\n',\n",
              " '890    actress vidya balan host radio show titled vid...\\n',\n",
              " 'Name: text, dtype: object\\n',\n",
              " '891    speaking metoo movement india filmmaker karan ...\\n',\n",
              " 'Name: text, dtype: object\\n',\n",
              " '892    bombay high court thursday rejected plea seeki...\\n',\n",
              " 'Name: text, dtype: object\\n',\n",
              " '893    actress kangana ranaut revealed decided wanted...\\n',\n",
              " 'Name: text, dtype: object\\n',\n",
              " '895    music streaming service soundcloud second co f...\\n',\n",
              " 'Name: text, dtype: object\\n',\n",
              " '896    speaking world economic forum microsoft ceo sa...\\n',\n",
              " 'Name: text, dtype: object\\n',\n",
              " '897    chinese state owned telco china unicom reporte...\\n',\n",
              " 'Name: text, dtype: object\\n',\n",
              " '898    venture capital firm sequoia capital india unv...\\n',\n",
              " 'Name: text, dtype: object\\n',\n",
              " '899    delhi based live sports engagement app rooter ...\\n',\n",
              " 'Name: text, dtype: object\\n',\n",
              " '902    saudi arabia currently possess nuclear weapons...\\n',\n",
              " 'Name: text, dtype: object\\n',\n",
              " '903    shares yes bank thursday rallied much lender a...\\n',\n",
              " 'Name: text, dtype: object\\n',\n",
              " '904    european planemaker airbus ceo thomas enders b...\\n',\n",
              " 'Name: text, dtype: object\\n',\n",
              " '907    nawazuddin siddiqui speaking understanding tha...\\n',\n",
              " 'Name: text, dtype: object\\n',\n",
              " '914    chinese scientists cloned five monkeys macaque...\\n',\n",
              " 'Name: text, dtype: object\\n',\n",
              " '915    day security forces killed three terrorists ja...\\n',\n",
              " 'Name: text, dtype: object\\n',\n",
              " '916    supreme court refused stay proposed amendments...\\n',\n",
              " 'Name: text, dtype: object\\n',\n",
              " '917    venezuela opposition leader juan guaid wednesd...\\n',\n",
              " 'Name: text, dtype: object\\n',\n",
              " '921    actor boman irani launched production house ir...\\n',\n",
              " 'Name: text, dtype: object\\n',\n",
              " '924    referring appointment priyanka gandhi vadra jy...\\n',\n",
              " 'Name: text, dtype: object\\n',\n",
              " '926    online media outlet buzzfeed announced lay emp...\\n',\n",
              " 'Name: text, dtype: object\\n',\n",
              " '928    four people killed speeding train trying cross...\\n',\n",
              " 'Name: text, dtype: object\\n',\n",
              " '929    us president donald trump recognised venezuela...\\n',\n",
              " 'Name: text, dtype: object\\n',\n",
              " '930    pre bid conference government airport privatis...\\n',\n",
              " 'Name: text, dtype: object\\n',\n",
              " '931    finance minister arun jaitley underwent surger...\\n',\n",
              " 'Name: text, dtype: object\\n',\n",
              " '941    apple fired employees working secretive self d...\\n',\n",
              " 'Name: text, dtype: object\\n',\n",
              " '958    maruti suzuki recently launched big new wagonr...\\n',\n",
              " 'Name: text, dtype: object\\n',\n",
              " '970    least five people feared trapped four storey b...\\n',\n",
              " 'Name: text, dtype: object\\n',\n",
              " '971    kamal nath led madhya pradesh government annou...\\n',\n",
              " 'Name: text, dtype: object\\n',\n",
              " '972    many six indian sailors killed six others miss...\\n',\n",
              " 'Name: text, dtype: object\\n',\n",
              " '975    team india fast bowler mohammad shami wednesda...\\n',\n",
              " 'Name: text, dtype: object\\n',\n",
              " '979    egypt antiquities ministry wednesday said arch...\\n',\n",
              " 'Name: text, dtype: object\\n',\n",
              " '982    australian mp bob katter criticised calling ho...\\n',\n",
              " 'Name: text, dtype: object\\n',\n",
              " '986    piyush goyal union minister railways coal temp...\\n',\n",
              " 'Name: text, dtype: object\\n',\n",
              " '990    railway minister piyush goyal wednesday announ...\\n',\n",
              " 'Name: text, dtype: object\\n',\n",
              " '995    aamir khan screened upcoming short film rubaru...\\n',\n",
              " 'Name: text, dtype: object\\n',\n",
              " '996    amrita rao plays bal thackeray wife meena thac...\\n',\n",
              " 'Name: text, dtype: object\\n',\n",
              " '998    sharing picture us talk show host jimmy fallon...\\n',\n",
              " 'Name: text, dtype: object\\n',\n",
              " '999    erotic drawing late rapper tupac shakur sold a...\\n',\n",
              " 'Name: text, dtype: object\\n',\n",
              " '1001    india wicketkeeper batsman rishabh pant named ...\\n',\n",
              " 'Name: text, dtype: object\\n',\n",
              " '1002    mumbai police used dialogue film uri surgical ...\\n',\n",
              " 'Name: text, dtype: object\\n',\n",
              " '1003    kingdom tonga facing near total internet phone...\\n',\n",
              " 'Name: text, dtype: object\\n',\n",
              " '1004    chinese electronics company meizu unveiled sma...\\n',\n",
              " 'Name: text, dtype: object\\n',\n",
              " '1006    facebook owned photo sharing platform instagra...\\n',\n",
              " 'Name: text, dtype: object\\n',\n",
              " '1009    india largest airline indigo operator interglo...\\n',\n",
              " 'Name: text, dtype: object\\n',\n",
              " '1010    country largest telecom operator vodafone idea...\\n',\n",
              " 'Name: text, dtype: object\\n',\n",
              " '1013    actor johnny depp attorney claimed evidence us...\\n',\n",
              " 'Name: text, dtype: object\\n',\n",
              " '1017    former pakistani cricketer hanif mohammad batt...\\n',\n",
              " 'Name: text, dtype: object\\n',\n",
              " '1022    global marketing firm kantar ceo eric salama s...\\n',\n",
              " 'Name: text, dtype: object\\n',\n",
              " '1023    tv actor ashiesh roy known role show sasural s...\\n',\n",
              " 'Name: text, dtype: object\\n',\n",
              " '1024    janhvi kapoor look new magazine cover shoot co...\\n',\n",
              " 'Name: text, dtype: object\\n',\n",
              " '1026    actress richa chadha praising actor akshaye kh...\\n',\n",
              " 'Name: text, dtype: object\\n',\n",
              " '1027    nawazuddin siddiqui said endorse ideology affe...\\n',\n",
              " 'Name: text, dtype: object\\n',\n",
              " '1028    google org announced donating million wikipedi...\\n',\n",
              " 'Name: text, dtype: object\\n',\n",
              " '1029    whatsapp users complained messaging service wo...\\n',\n",
              " 'Name: text, dtype: object\\n',\n",
              " '1032    us department labor federal complaint accused ...\\n',\n",
              " 'Name: text, dtype: object\\n',\n",
              " '1036    world economic forum annual meeting switzerlan...\\n',\n",
              " 'Name: text, dtype: object\\n',\n",
              " '1037    cabinet wednesday approved creation national b...\\n',\n",
              " 'Name: text, dtype: object\\n',\n",
              " '1045    priyanka gandhi vadra appointed congress gener...\\n',\n",
              " 'Name: text, dtype: object\\n',\n",
              " '1048    newly elected mlas telangana soon move houses ...\\n',\n",
              " 'Name: text, dtype: object\\n',\n",
              " '1049    jsw group chairman sajjan jindal daughter law ...\\n',\n",
              " 'Name: text, dtype: object\\n',\n",
              " '1055    ranveer singh seen playing street rapper upcom...\\n',\n",
              " 'Name: text, dtype: object\\n',\n",
              " '1056    part viral yearchallenge akshay kumar shared c...\\n',\n",
              " 'Name: text, dtype: object\\n',\n",
              " '1057    gurugram based car servicing startup gomechani...\\n',\n",
              " 'Name: text, dtype: object\\n',\n",
              " '1060    pakistan get billion bailout package uae help ...\\n',\n",
              " 'Name: text, dtype: object\\n',\n",
              " '1061    least three crew members killed nuclear capabl...\\n',\n",
              " 'Name: text, dtype: object\\n',\n",
              " '1062    two saudi sisters whose bodies found taped tog...\\n',\n",
              " 'Name: text, dtype: object\\n',\n",
              " '1070    praising actor politician hema malini performa...\\n',\n",
              " 'Name: text, dtype: object\\n',\n",
              " '1077    kerala oldest student year old karthiyani amma...\\n',\n",
              " 'Name: text, dtype: object\\n',\n",
              " '1083    talking film uri surgical strike yami gautam s...\\n',\n",
              " 'Name: text, dtype: object\\n',\n",
              " '1086    karan johar said digital medium provides platf...\\n',\n",
              " 'Name: text, dtype: object\\n',\n",
              " '1087    spiritual leader sadhguru jaggi vasudev watchi...\\n',\n",
              " 'Name: text, dtype: object\\n',\n",
              " '1091    mexico registered murders highest number since...\\n',\n",
              " 'Name: text, dtype: object\\n',\n",
              " '1092    suzuki connect helps connect car wealth featur...\\n',\n",
              " 'Name: text, dtype: object\\n',\n",
              " '1096    ex cricketer gautam gambhir said india conside...\\n',\n",
              " 'Name: text, dtype: object\\n',\n",
              " '1100    world longest printed concrete pedestrian brid...\\n',\n",
              " 'Name: text, dtype: object\\n',\n",
              " '1104    bradley cooper wrote directed acted star born ...\\n',\n",
              " 'Name: text, dtype: object\\n',\n",
              " '1105    netflix roma earned streaming platform first n...\\n',\n",
              " 'Name: text, dtype: object\\n',\n",
              " '1106    lady gaga earned first nomination best actress...\\n',\n",
              " 'Name: text, dtype: object\\n',\n",
              " '1107    us technology giant apple could reportedly use...\\n',\n",
              " 'Name: text, dtype: object\\n',\n",
              " '1110    elon musk led tunnel digging startup boring co...\\n',\n",
              " 'Name: text, dtype: object\\n',\n",
              " '1111    traders body cait urged commerce minister sure...\\n',\n",
              " 'Name: text, dtype: object\\n',\n",
              " '1113    school saraswati shishu mandir uttarakhand cha...\\n',\n",
              " 'Name: text, dtype: object\\n',\n",
              " '1116    tata group titan considering external internal...\\n',\n",
              " 'Name: text, dtype: object\\n',\n",
              " '1117    cbdt tuesday said identified several people un...\\n',\n",
              " 'Name: text, dtype: object\\n',\n",
              " '1118    european commission said fined mastercard near...\\n',\n",
              " 'Name: text, dtype: object\\n',\n",
              " '1122    new zealand women cricketers paid lesser comme...\\n',\n",
              " 'Name: text, dtype: object\\n',\n",
              " '1126    loyola college chennai issued apology controve...\\n',\n",
              " 'Name: text, dtype: object\\n',\n",
              " '1128    pakistan monday said shared draft agreement ka...\\n',\n",
              " 'Name: text, dtype: object\\n',\n",
              " '1130    us billionaire ken griffin founder billion cit...\\n',\n",
              " 'Name: text, dtype: object\\n',\n",
              " '1133    speaking metoo movement actor ajay devgn said ...\\n',\n",
              " 'Name: text, dtype: object\\n',\n",
              " '1134    speaking upcoming film manikarnika queen jhans...\\n',\n",
              " 'Name: text, dtype: object\\n',\n",
              " '1135    speaking film choices actor nawazuddin siddiqu...\\n',\n",
              " 'Name: text, dtype: object\\n',\n",
              " '1136    queensland university technology researchers m...\\n',\n",
              " 'Name: text, dtype: object\\n',\n",
              " '1140    many one horned rhinoceros poached killed coun...\\n',\n",
              " 'Name: text, dtype: object\\n',\n",
              " '1142    antarrashtriya hindu parishad president pravin...\\n',\n",
              " 'Name: text, dtype: object\\n',\n",
              " '1144    canada ambassador us david macnaughton said us...\\n',\n",
              " 'Name: text, dtype: object\\n',\n",
              " '1145    oscar winning director alfonso cuar roma yorgo...\\n',\n",
              " 'Name: text, dtype: object\\n',\n",
              " '1148    small passenger plane carrying year old argent...\\n',\n",
              " 'Name: text, dtype: object\\n',\n",
              " '1150    shamsul haq brother ips officer among three te...\\n',\n",
              " 'Name: text, dtype: object\\n',\n",
              " '1152    addressing pravasi bharatiya divas monday fore...\\n',\n",
              " 'Name: text, dtype: object\\n',\n",
              " '1157    british prime minister theresa may monday unve...\\n',\n",
              " 'Name: text, dtype: object\\n',\n",
              " '1160    amid trade war us china gdp expanded slowest a...\\n',\n",
              " 'Name: text, dtype: object\\n',\n",
              " '1163    apple announced employees donated million help...\\n',\n",
              " 'Name: text, dtype: object\\n',\n",
              " '1164    bjp president amit shah tuesday said nine prim...\\n',\n",
              " 'Name: text, dtype: object\\n',\n",
              " '1167    us president donald trump defended high school...\\n',\n",
              " 'Name: text, dtype: object\\n',\n",
              " '1179    china recorded lowest birth rate last year nea...\\n',\n",
              " 'Name: text, dtype: object\\n',\n",
              " '1180    security personnel killed taliban attack milit...\\n',\n",
              " 'Name: text, dtype: object\\n',\n",
              " '1185    actor ryan reynolds cancelled surgery arm inju...\\n',\n",
              " 'Name: text, dtype: object\\n',\n",
              " '1187    responding rani mukerji stance metoo movement ...\\n',\n",
              " 'Name: text, dtype: object\\n',\n",
              " '1188    tabu played dark characters films like maachis...\\n',\n",
              " 'Name: text, dtype: object\\n',\n",
              " '1190    youth run international organisation aiesec ex...\\n',\n",
              " 'Name: text, dtype: object\\n',\n",
              " '1192    punjab based agritech startup agnext technolog...\\n',\n",
              " 'Name: text, dtype: object\\n',\n",
              " '1194    pune based baby products startup firstcry rais...\\n',\n",
              " 'Name: text, dtype: object\\n',\n",
              " '1195    many people killed injured truck overturned od...\\n',\n",
              " 'Name: text, dtype: object\\n',\n",
              " '1203    indian spinner harbhajan singh said slapping f...\\n',\n",
              " 'Name: text, dtype: object\\n',\n",
              " '1205    recovering ankle injury forced australia tour ...\\n',\n",
              " 'Name: text, dtype: object\\n',\n",
              " '1208    indian high commission reportedly sent note pa...\\n',\n",
              " 'Name: text, dtype: object\\n',\n",
              " '1210    speaking pravasi bharatiya divas conclave vara...\\n',\n",
              " 'Name: text, dtype: object\\n',\n",
              " '1218    praising vicky kaushal work latest film uri su...\\n',\n",
              " 'Name: text, dtype: object\\n',\n",
              " '1221    france data protection watchdog imposed crore ...\\n',\n",
              " 'Name: text, dtype: object\\n',\n",
              " '1236    least eight people died rescued monday boat re...\\n',\n",
              " 'Name: text, dtype: object\\n',\n",
              " '1239    motorola filed patent world intellectual prope...\\n',\n",
              " 'Name: text, dtype: object\\n',\n",
              " '1240    facebook reportedly testing solar powered inte...\\n',\n",
              " 'Name: text, dtype: object\\n',\n",
              " '1242    gurugram based hotel startup oyo talks acquire...\\n',\n",
              " 'Name: text, dtype: object\\n',\n",
              " '1243    supreme court monday said need punitive action...\\n',\n",
              " 'Name: text, dtype: object\\n',\n",
              " '1245    ratings agency crisil observed economic growth...\\n',\n",
              " 'Name: text, dtype: object\\n',\n",
              " '1247    kerala finance minister thomas isaac said stat...\\n',\n",
              " 'Name: text, dtype: object\\n',\n",
              " '1248    many people died due swine flu rajasthan since...\\n',\n",
              " 'Name: text, dtype: object\\n',\n",
              " '1250    ncr gurugram noida number unsold homes nearly ...\\n',\n",
              " 'Name: text, dtype: object\\n',\n",
              " '1251    charity group oxfam revealed women perform unp...\\n',\n",
              " 'Name: text, dtype: object\\n',\n",
              " '1256    ex world number one serena williams currently ...\\n',\n",
              " 'Name: text, dtype: object\\n',\n",
              " '1259    bjp leader opposition rajasthan assembly gulab...\\n',\n",
              " 'Name: text, dtype: object\\n',\n",
              " '1261    police constable killed trying stop truck carr...\\n',\n",
              " 'Name: text, dtype: object\\n',\n",
              " '1263    oxfam report monday stated nine richest indian...\\n',\n",
              " 'Name: text, dtype: object\\n',\n",
              " '1264    tribals protesting foundation laying ceremony ...\\n',\n",
              " 'Name: text, dtype: object\\n',\n",
              " '1265    oxfam report monday stated wealth world riches...\\n',\n",
              " 'Name: text, dtype: object\\n',\n",
              " '1268    calling west bengal cm mamata banerjee good ad...\\n',\n",
              " 'Name: text, dtype: object\\n',\n",
              " '1269    bengaluru based bike scooter sharing startup b...\\n',\n",
              " 'Name: text, dtype: object\\n',\n",
              " '1270    ducati ceo claudio domenicali event confirmed ...\\n',\n",
              " 'Name: text, dtype: object\\n',\n",
              " '1272    pm narendra modi took twitter express condolen...\\n',\n",
              " 'Name: text, dtype: object\\n',\n",
              " '1273    karnataka government declared three day state ...\\n',\n",
              " 'Name: text, dtype: object\\n',\n",
              " '1275    indian army planning purchase milan anti tank ...\\n',\n",
              " 'Name: text, dtype: object\\n',\n",
              " '1276    kotak mahindra bank net profit december quarte...\\n',\n",
              " 'Name: text, dtype: object\\n',\n",
              " '1277    disney said filing investment streaming platfo...\\n',\n",
              " 'Name: text, dtype: object\\n',\n",
              " '1280    picture shared twitter account showing eight d...\\n',\n",
              " 'Name: text, dtype: object\\n',\n",
              " '1283    actress esha deol took instagram reveal expect...\\n',\n",
              " 'Name: text, dtype: object\\n',\n",
              " '1284    actress aisha sharma shared comments instagram...\\n',\n",
              " 'Name: text, dtype: object\\n',\n",
              " '1285    chief justice india ranjan gogoi monday recuse...\\n',\n",
              " 'Name: text, dtype: object\\n',\n",
              " '1287    order fight misinformation rumours facebook ow...\\n',\n",
              " 'Name: text, dtype: object\\n',\n",
              " '1290    chief seer sree siddaganga mutt karnataka shiv...\\n',\n",
              " 'Name: text, dtype: object\\n',\n",
              " '1292    two spectators killed sunday jallikattu event ...\\n',\n",
              " 'Name: text, dtype: object\\n',\n",
              " ...]"
            ]
          },
          "metadata": {},
          "execution_count": 107
        }
      ]
    },
    {
      "cell_type": "code",
      "source": [
        "from matplotlib import lines\n",
        "with open('corpus.txt','r') as f:\n",
        "  lines = f.readlines() \n",
        "with open('corpus.txt','w') as f:\n",
        "  for line in lines:\n",
        "    if not 'Name: text, dtype: object\\n':\n",
        "      f.write(line)"
      ],
      "metadata": {
        "id": "Rm9gdkAZb6xH"
      },
      "execution_count": null,
      "outputs": []
    },
    {
      "cell_type": "markdown",
      "source": [
        "https://sikaleo.tistory.com/63"
      ],
      "metadata": {
        "id": "bMrhG2szh2E1"
      }
    },
    {
      "cell_type": "code",
      "source": [
        "print(summarize('corpus.txt',ratio=0.005))"
      ],
      "metadata": {
        "colab": {
          "base_uri": "https://localhost:8080/"
        },
        "id": "L7SWRtKNaHn9",
        "outputId": "4c5f796a-892c-4048-c3e1-b7d65fc85f3e"
      },
      "execution_count": null,
      "outputs": [
        {
          "output_type": "stream",
          "name": "stdout",
          "text": [
            "\n"
          ]
        }
      ]
    },
    {
      "cell_type": "code",
      "source": [
        "data.type()"
      ],
      "metadata": {
        "colab": {
          "base_uri": "https://localhost:8080/",
          "height": 293
        },
        "id": "-eX-WbOk53aW",
        "outputId": "db5d8dbb-3d25-4f92-801a-d28f24a09c87"
      },
      "execution_count": null,
      "outputs": [
        {
          "output_type": "error",
          "ename": "AttributeError",
          "evalue": "ignored",
          "traceback": [
            "\u001b[0;31m---------------------------------------------------------------------------\u001b[0m",
            "\u001b[0;31mAttributeError\u001b[0m                            Traceback (most recent call last)",
            "\u001b[0;32m<ipython-input-71-2667485b5f2f>\u001b[0m in \u001b[0;36m<module>\u001b[0;34m()\u001b[0m\n\u001b[0;32m----> 1\u001b[0;31m \u001b[0mdata\u001b[0m\u001b[0;34m.\u001b[0m\u001b[0mtype\u001b[0m\u001b[0;34m(\u001b[0m\u001b[0;34m)\u001b[0m\u001b[0;34m\u001b[0m\u001b[0;34m\u001b[0m\u001b[0m\n\u001b[0m",
            "\u001b[0;32m/usr/local/lib/python3.7/dist-packages/pandas/core/generic.py\u001b[0m in \u001b[0;36m__getattr__\u001b[0;34m(self, name)\u001b[0m\n\u001b[1;32m   5485\u001b[0m         ):\n\u001b[1;32m   5486\u001b[0m             \u001b[0;32mreturn\u001b[0m \u001b[0mself\u001b[0m\u001b[0;34m[\u001b[0m\u001b[0mname\u001b[0m\u001b[0;34m]\u001b[0m\u001b[0;34m\u001b[0m\u001b[0;34m\u001b[0m\u001b[0m\n\u001b[0;32m-> 5487\u001b[0;31m         \u001b[0;32mreturn\u001b[0m \u001b[0mobject\u001b[0m\u001b[0;34m.\u001b[0m\u001b[0m__getattribute__\u001b[0m\u001b[0;34m(\u001b[0m\u001b[0mself\u001b[0m\u001b[0;34m,\u001b[0m \u001b[0mname\u001b[0m\u001b[0;34m)\u001b[0m\u001b[0;34m\u001b[0m\u001b[0;34m\u001b[0m\u001b[0m\n\u001b[0m\u001b[1;32m   5488\u001b[0m \u001b[0;34m\u001b[0m\u001b[0m\n\u001b[1;32m   5489\u001b[0m     \u001b[0;32mdef\u001b[0m \u001b[0m__setattr__\u001b[0m\u001b[0;34m(\u001b[0m\u001b[0mself\u001b[0m\u001b[0;34m,\u001b[0m \u001b[0mname\u001b[0m\u001b[0;34m:\u001b[0m \u001b[0mstr\u001b[0m\u001b[0;34m,\u001b[0m \u001b[0mvalue\u001b[0m\u001b[0;34m)\u001b[0m \u001b[0;34m->\u001b[0m \u001b[0;32mNone\u001b[0m\u001b[0;34m:\u001b[0m\u001b[0;34m\u001b[0m\u001b[0;34m\u001b[0m\u001b[0m\n",
            "\u001b[0;31mAttributeError\u001b[0m: 'DataFrame' object has no attribute 'type'"
          ]
        }
      ]
    },
    {
      "cell_type": "markdown",
      "source": [
        "#회고\n",
        "### 추출적 요약 인코딩 과정에서 'Name: text, dtype: object\\n' < 이런게 딸려와서 summarizer 함수가 작동하지 않았다.\n",
        "### 데이터 전처리부터 인코딩, 디코딩 과정이 익숙하지 않아 너무 복잡하게 느껴졌다ㅜ\n",
        "###cv로 가야겠다는 계기가 된 익스였다.... 자연어 안녕"
      ],
      "metadata": {
        "id": "1LMd_ZIy5dKr"
      }
    }
  ]
}