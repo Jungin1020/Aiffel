{
  "nbformat": 4,
  "nbformat_minor": 0,
  "metadata": {
    "colab": {
      "name": "2022.01.25_exp_6_naver_sentiment_classification.ipynb",
      "provenance": [],
      "authorship_tag": "ABX9TyMWVJaXRDWG2p+4SETlHzdp",
      "include_colab_link": true
    },
    "kernelspec": {
      "name": "python3",
      "display_name": "Python 3"
    },
    "language_info": {
      "name": "python"
    },
    "accelerator": "GPU"
  },
  "cells": [
    {
      "cell_type": "markdown",
      "metadata": {
        "id": "view-in-github",
        "colab_type": "text"
      },
      "source": [
        "<a href=\"https://colab.research.google.com/github/Jungin1020/Aiffel_exp/blob/main/2022_01_25_exp_6_naver_sentiment_classification.ipynb\" target=\"_parent\"><img src=\"https://colab.research.google.com/assets/colab-badge.svg\" alt=\"Open In Colab\"/></a>"
      ]
    },
    {
      "cell_type": "markdown",
      "source": [
        "##데이터, 라이브러리 준비"
      ],
      "metadata": {
        "id": "QzvdlTs--sky"
      }
    },
    {
      "cell_type": "code",
      "execution_count": null,
      "metadata": {
        "colab": {
          "base_uri": "https://localhost:8080/"
        },
        "id": "gNfFTnVAZqic",
        "outputId": "9bb2de96-3941-49e8-d7e2-00161c3065a5"
      },
      "outputs": [
        {
          "output_type": "stream",
          "name": "stdout",
          "text": [
            "Mounted at /content/drive\n",
            "gensim                        3.6.0\n"
          ]
        }
      ],
      "source": [
        "from google.colab import drive\n",
        "drive.mount('/content/drive')\n",
        "!pip list | grep gensim"
      ]
    },
    {
      "cell_type": "code",
      "source": [
        ""
      ],
      "metadata": {
        "id": "PJLkjqpD-weN"
      },
      "execution_count": null,
      "outputs": []
    },
    {
      "cell_type": "code",
      "source": [
        "import pandas as pd\n",
        "\n",
        "train_data = pd.read_table('/content/drive/MyDrive/aiffel/sentimental_classification/data/ratings_train.txt')\n",
        "test_data = pd.read_table('/content/drive/MyDrive/aiffel/sentimental_classification/data/ratings_test.txt')\n",
        "\n",
        "train_data.head()"
      ],
      "metadata": {
        "colab": {
          "base_uri": "https://localhost:8080/",
          "height": 206
        },
        "id": "hs1hrHoIaBHq",
        "outputId": "44f3b883-fb99-4836-d262-d1f31026ed9f"
      },
      "execution_count": null,
      "outputs": [
        {
          "output_type": "execute_result",
          "data": {
            "text/html": [
              "\n",
              "  <div id=\"df-88a0b6ac-72aa-4ada-a01c-439218d481bf\">\n",
              "    <div class=\"colab-df-container\">\n",
              "      <div>\n",
              "<style scoped>\n",
              "    .dataframe tbody tr th:only-of-type {\n",
              "        vertical-align: middle;\n",
              "    }\n",
              "\n",
              "    .dataframe tbody tr th {\n",
              "        vertical-align: top;\n",
              "    }\n",
              "\n",
              "    .dataframe thead th {\n",
              "        text-align: right;\n",
              "    }\n",
              "</style>\n",
              "<table border=\"1\" class=\"dataframe\">\n",
              "  <thead>\n",
              "    <tr style=\"text-align: right;\">\n",
              "      <th></th>\n",
              "      <th>id</th>\n",
              "      <th>document</th>\n",
              "      <th>label</th>\n",
              "    </tr>\n",
              "  </thead>\n",
              "  <tbody>\n",
              "    <tr>\n",
              "      <th>0</th>\n",
              "      <td>9976970</td>\n",
              "      <td>아 더빙.. 진짜 짜증나네요 목소리</td>\n",
              "      <td>0</td>\n",
              "    </tr>\n",
              "    <tr>\n",
              "      <th>1</th>\n",
              "      <td>3819312</td>\n",
              "      <td>흠...포스터보고 초딩영화줄....오버연기조차 가볍지 않구나</td>\n",
              "      <td>1</td>\n",
              "    </tr>\n",
              "    <tr>\n",
              "      <th>2</th>\n",
              "      <td>10265843</td>\n",
              "      <td>너무재밓었다그래서보는것을추천한다</td>\n",
              "      <td>0</td>\n",
              "    </tr>\n",
              "    <tr>\n",
              "      <th>3</th>\n",
              "      <td>9045019</td>\n",
              "      <td>교도소 이야기구먼 ..솔직히 재미는 없다..평점 조정</td>\n",
              "      <td>0</td>\n",
              "    </tr>\n",
              "    <tr>\n",
              "      <th>4</th>\n",
              "      <td>6483659</td>\n",
              "      <td>사이몬페그의 익살스런 연기가 돋보였던 영화!스파이더맨에서 늙어보이기만 했던 커스틴 ...</td>\n",
              "      <td>1</td>\n",
              "    </tr>\n",
              "  </tbody>\n",
              "</table>\n",
              "</div>\n",
              "      <button class=\"colab-df-convert\" onclick=\"convertToInteractive('df-88a0b6ac-72aa-4ada-a01c-439218d481bf')\"\n",
              "              title=\"Convert this dataframe to an interactive table.\"\n",
              "              style=\"display:none;\">\n",
              "        \n",
              "  <svg xmlns=\"http://www.w3.org/2000/svg\" height=\"24px\"viewBox=\"0 0 24 24\"\n",
              "       width=\"24px\">\n",
              "    <path d=\"M0 0h24v24H0V0z\" fill=\"none\"/>\n",
              "    <path d=\"M18.56 5.44l.94 2.06.94-2.06 2.06-.94-2.06-.94-.94-2.06-.94 2.06-2.06.94zm-11 1L8.5 8.5l.94-2.06 2.06-.94-2.06-.94L8.5 2.5l-.94 2.06-2.06.94zm10 10l.94 2.06.94-2.06 2.06-.94-2.06-.94-.94-2.06-.94 2.06-2.06.94z\"/><path d=\"M17.41 7.96l-1.37-1.37c-.4-.4-.92-.59-1.43-.59-.52 0-1.04.2-1.43.59L10.3 9.45l-7.72 7.72c-.78.78-.78 2.05 0 2.83L4 21.41c.39.39.9.59 1.41.59.51 0 1.02-.2 1.41-.59l7.78-7.78 2.81-2.81c.8-.78.8-2.07 0-2.86zM5.41 20L4 18.59l7.72-7.72 1.47 1.35L5.41 20z\"/>\n",
              "  </svg>\n",
              "      </button>\n",
              "      \n",
              "  <style>\n",
              "    .colab-df-container {\n",
              "      display:flex;\n",
              "      flex-wrap:wrap;\n",
              "      gap: 12px;\n",
              "    }\n",
              "\n",
              "    .colab-df-convert {\n",
              "      background-color: #E8F0FE;\n",
              "      border: none;\n",
              "      border-radius: 50%;\n",
              "      cursor: pointer;\n",
              "      display: none;\n",
              "      fill: #1967D2;\n",
              "      height: 32px;\n",
              "      padding: 0 0 0 0;\n",
              "      width: 32px;\n",
              "    }\n",
              "\n",
              "    .colab-df-convert:hover {\n",
              "      background-color: #E2EBFA;\n",
              "      box-shadow: 0px 1px 2px rgba(60, 64, 67, 0.3), 0px 1px 3px 1px rgba(60, 64, 67, 0.15);\n",
              "      fill: #174EA6;\n",
              "    }\n",
              "\n",
              "    [theme=dark] .colab-df-convert {\n",
              "      background-color: #3B4455;\n",
              "      fill: #D2E3FC;\n",
              "    }\n",
              "\n",
              "    [theme=dark] .colab-df-convert:hover {\n",
              "      background-color: #434B5C;\n",
              "      box-shadow: 0px 1px 3px 1px rgba(0, 0, 0, 0.15);\n",
              "      filter: drop-shadow(0px 1px 2px rgba(0, 0, 0, 0.3));\n",
              "      fill: #FFFFFF;\n",
              "    }\n",
              "  </style>\n",
              "\n",
              "      <script>\n",
              "        const buttonEl =\n",
              "          document.querySelector('#df-88a0b6ac-72aa-4ada-a01c-439218d481bf button.colab-df-convert');\n",
              "        buttonEl.style.display =\n",
              "          google.colab.kernel.accessAllowed ? 'block' : 'none';\n",
              "\n",
              "        async function convertToInteractive(key) {\n",
              "          const element = document.querySelector('#df-88a0b6ac-72aa-4ada-a01c-439218d481bf');\n",
              "          const dataTable =\n",
              "            await google.colab.kernel.invokeFunction('convertToInteractive',\n",
              "                                                     [key], {});\n",
              "          if (!dataTable) return;\n",
              "\n",
              "          const docLinkHtml = 'Like what you see? Visit the ' +\n",
              "            '<a target=\"_blank\" href=https://colab.research.google.com/notebooks/data_table.ipynb>data table notebook</a>'\n",
              "            + ' to learn more about interactive tables.';\n",
              "          element.innerHTML = '';\n",
              "          dataTable['output_type'] = 'display_data';\n",
              "          await google.colab.output.renderOutput(dataTable, element);\n",
              "          const docLink = document.createElement('div');\n",
              "          docLink.innerHTML = docLinkHtml;\n",
              "          element.appendChild(docLink);\n",
              "        }\n",
              "      </script>\n",
              "    </div>\n",
              "  </div>\n",
              "  "
            ],
            "text/plain": [
              "         id                                           document  label\n",
              "0   9976970                                아 더빙.. 진짜 짜증나네요 목소리      0\n",
              "1   3819312                  흠...포스터보고 초딩영화줄....오버연기조차 가볍지 않구나      1\n",
              "2  10265843                                  너무재밓었다그래서보는것을추천한다      0\n",
              "3   9045019                      교도소 이야기구먼 ..솔직히 재미는 없다..평점 조정      0\n",
              "4   6483659  사이몬페그의 익살스런 연기가 돋보였던 영화!스파이더맨에서 늙어보이기만 했던 커스틴 ...      1"
            ]
          },
          "metadata": {},
          "execution_count": 2
        }
      ]
    },
    {
      "cell_type": "code",
      "source": [
        "train_data['document'][0]"
      ],
      "metadata": {
        "colab": {
          "base_uri": "https://localhost:8080/",
          "height": 35
        },
        "id": "XRfG0bBLdTr6",
        "outputId": "9efb6905-7eaa-4b0b-d468-1d7db3b1900d"
      },
      "execution_count": null,
      "outputs": [
        {
          "output_type": "execute_result",
          "data": {
            "application/vnd.google.colaboratory.intrinsic+json": {
              "type": "string"
            },
            "text/plain": [
              "'아 더빙.. 진짜 짜증나네요 목소리'"
            ]
          },
          "metadata": {},
          "execution_count": 3
        }
      ]
    },
    {
      "cell_type": "code",
      "source": [
        "#!wget https://raw.githubusercontent.com/konlpy/konlpy/master/scripts/mecab.sh"
      ],
      "metadata": {
        "id": "0Vv55YkliNe8"
      },
      "execution_count": null,
      "outputs": []
    },
    {
      "cell_type": "code",
      "source": [
        "# !cd /content/drive/MyDrive/aiffel/sentimental_classification/mecab-0.996-ko-0.9.2/\n",
        "# !./configure\n",
        "# !make\n",
        "# !sudo make install"
      ],
      "metadata": {
        "id": "Pd1DhI9ZiUht"
      },
      "execution_count": null,
      "outputs": []
    },
    {
      "cell_type": "code",
      "source": [
        "import os\n",
        "# install konlpy, jdk, JPype\n",
        "!pip install konlpy\n",
        "!apt-get install openjdk-8-jdk-headless -qq > /dev/null\n",
        "!pip3 install JPype1-py3\n"
      ],
      "metadata": {
        "colab": {
          "base_uri": "https://localhost:8080/"
        },
        "id": "fMdo4rJJicI0",
        "outputId": "587c6f32-d73d-4431-fa10-39e33bf49935"
      },
      "execution_count": null,
      "outputs": [
        {
          "output_type": "stream",
          "name": "stdout",
          "text": [
            "Collecting konlpy\n",
            "  Downloading konlpy-0.6.0-py2.py3-none-any.whl (19.4 MB)\n",
            "\u001b[K     |████████████████████████████████| 19.4 MB 1.4 MB/s \n",
            "\u001b[?25hRequirement already satisfied: numpy>=1.6 in /usr/local/lib/python3.7/dist-packages (from konlpy) (1.19.5)\n",
            "Requirement already satisfied: lxml>=4.1.0 in /usr/local/lib/python3.7/dist-packages (from konlpy) (4.2.6)\n",
            "Collecting JPype1>=0.7.0\n",
            "  Downloading JPype1-1.3.0-cp37-cp37m-manylinux_2_5_x86_64.manylinux1_x86_64.whl (448 kB)\n",
            "\u001b[K     |████████████████████████████████| 448 kB 46.7 MB/s \n",
            "\u001b[?25hRequirement already satisfied: typing-extensions in /usr/local/lib/python3.7/dist-packages (from JPype1>=0.7.0->konlpy) (3.10.0.2)\n",
            "Installing collected packages: JPype1, konlpy\n",
            "Successfully installed JPype1-1.3.0 konlpy-0.6.0\n",
            "Collecting JPype1-py3\n",
            "  Downloading JPype1-py3-0.5.5.4.tar.gz (88 kB)\n",
            "\u001b[K     |████████████████████████████████| 88 kB 5.6 MB/s \n",
            "\u001b[?25hBuilding wheels for collected packages: JPype1-py3\n",
            "  Building wheel for JPype1-py3 (setup.py) ... \u001b[?25l\u001b[?25hdone\n",
            "  Created wheel for JPype1-py3: filename=JPype1_py3-0.5.5.4-cp37-cp37m-linux_x86_64.whl size=2687404 sha256=8982d67feb0aeed5c6cdd7224e5d3ec434193e9c837e011964689f1dfed84f11\n",
            "  Stored in directory: /root/.cache/pip/wheels/e7/d1/09/f55dca0203b0691945bdf0f63d486a0b4d4e5ec4bd78a2502e\n",
            "Successfully built JPype1-py3\n",
            "Installing collected packages: JPype1-py3\n",
            "Successfully installed JPype1-py3-0.5.5.4\n"
          ]
        }
      ]
    },
    {
      "cell_type": "code",
      "source": [
        "# install mecab-ko\n",
        "os.chdir('/content/drive/MyDrive/aiffel/sentimental_classification/')\n",
        "!curl -LO https://bitbucket.org/eunjeon/mecab-ko/downloads/mecab-0.996-ko-0.9.2.tar.gz\n",
        "!tar zxfv mecab-0.996-ko-0.9.2.tar.gz\n",
        "os.chdir('/content/drive/MyDrive/aiffel/sentimental_classification/mecab-0.996-ko-0.9.2')\n",
        "!./configure\n",
        "!make\n",
        "!make check\n",
        "!make install\n",
        "\n",
        "# install mecab-ko-dic\n",
        "!apt-get install automake\n",
        "os.chdir('/content/drive/MyDrive/aiffel/sentimental_classification/')\n",
        "!curl -LO https://bitbucket.org/eunjeon/mecab-ko-dic/downloads/mecab-ko-dic-2.1.1-20180720.tar.gz\n",
        "!tar -zxvf mecab-ko-dic-2.1.1-20180720.tar.gz\n",
        "os.chdir('/content/drive/MyDrive/aiffel/sentimental_classification/mecab-ko-dic-2.1.1-20180720')\n",
        "!./autogen.sh\n",
        "!./configure\n",
        "!make\n",
        "!make install\n",
        "\n",
        "# install mecab-python\n",
        "os.chdir('/content/drive/MyDrive/aiffel/sentimental_classification/')\n",
        "!git clone https://bitbucket.org/eunjeon/mecab-python-0.996.git\n",
        "os.chdir('/content/drive/MyDrive/aiffel/sentimental_classification/mecab-python-0.996')\n",
        "!python3 setup.py build\n",
        "!python3 setup.py install"
      ],
      "metadata": {
        "id": "Nl1zYjU2p4LD"
      },
      "execution_count": null,
      "outputs": []
    },
    {
      "cell_type": "markdown",
      "source": [
        "##문장 전처리, encoding, decoding"
      ],
      "metadata": {
        "id": "ZnWp7Rcc-7Kn"
      }
    },
    {
      "cell_type": "code",
      "source": [
        "from konlpy.tag import Mecab\n",
        "import numpy as np\n",
        "from collections import Counter\n",
        "\n",
        "tokenizer = Mecab()\n",
        "stopwords = ['의','가','이','은','들','는','좀','잘','걍','과','도','를','으로','자','에','와','한','하다']\n",
        "\n",
        "def load_data(train_data, test_data, num_words=10000):\n",
        "    train_data.drop_duplicates(subset=['document'], inplace=True)\n",
        "    train_data = train_data.dropna(how = 'any') \n",
        "    test_data.drop_duplicates(subset=['document'], inplace=True)\n",
        "    test_data = test_data.dropna(how = 'any') \n",
        "    \n",
        "    X_train = []\n",
        "    for sentence in train_data['document']:\n",
        "        temp_X = tokenizer.morphs(sentence) # 토큰화\n",
        "        temp_X = [word for word in temp_X if not word in stopwords] # 불용어 제거\n",
        "        X_train.append(temp_X)\n",
        "\n",
        "    X_test = []\n",
        "    for sentence in test_data['document']:\n",
        "        temp_X = tokenizer.morphs(sentence) # 토큰화\n",
        "        temp_X = [word for word in temp_X if not word in stopwords] # 불용어 제거\n",
        "        X_test.append(temp_X)\n",
        "    \n",
        "    words = np.concatenate(X_train).tolist()\n",
        "    counter = Counter(words)\n",
        "    counter = counter.most_common(10000-4)\n",
        "    vocab = ['', '', '', ''] + [key for key, _ in counter]\n",
        "    word_to_index = {word:index for index, word in enumerate(vocab)}\n",
        "        \n",
        "    def wordlist_to_indexlist(wordlist):\n",
        "        return [word_to_index[word] if word in word_to_index else word_to_index[''] for word in wordlist]\n",
        "        \n",
        "    X_train = list(map(wordlist_to_indexlist, X_train))\n",
        "    X_test = list(map(wordlist_to_indexlist, X_test))\n",
        "        \n",
        "    return X_train, np.array(list(train_data['label'])), X_test, np.array(list(test_data['label'])), word_to_index\n",
        "    \n",
        "X_train, y_train, X_test, y_test, word_to_index = load_data(train_data, test_data)"
      ],
      "metadata": {
        "id": "sTuwyfohgD69"
      },
      "execution_count": null,
      "outputs": []
    },
    {
      "cell_type": "code",
      "source": [
        "index_to_word = {index:word for word, index in word_to_index.items()}"
      ],
      "metadata": {
        "id": "Ay6AbdMRs_R3"
      },
      "execution_count": null,
      "outputs": []
    },
    {
      "cell_type": "code",
      "source": [
        "def get_encoded_sentence(sentence,word_to_index):\n",
        "  return [word_to_index['<BOS>']] + [word_to_index[word] if word in word_to_index else word_to_index['<UNK>'] for word in sentence.split()]\n",
        "\n",
        "def get_encoded_sentences(sentences,word_to_index):\n",
        "  return [get_encoded_sentence(sentence, word_to_index) for sentence in sentences]\n",
        "\n",
        "def get_decoded_sentence(encoded_sentence, index_to_word):\n",
        "  return ' '.join(index_to_word[index] if index in index_to_word else '<UNK>' for index in encoded_sentence[1:])\n",
        "\n",
        "def get_decoded_sentences(encoded_sentences, index_to_word):\n",
        "  return [get_decoded_sentence(encoded_sentence, index_to_word) for encoded_sentence in encoded_sentences]"
      ],
      "metadata": {
        "id": "q0iykMIHtXEY"
      },
      "execution_count": null,
      "outputs": []
    },
    {
      "cell_type": "code",
      "source": [
        "total_data_text = list(X_train) + list(X_test)\n",
        "\n",
        "num_tokens = [len(tokens) for tokens in total_data_text] #단어 토큰을 의미\n",
        "num_tokens = np.array(num_tokens)\n",
        "\n",
        "print('meanlen: ', np.mean(num_tokens))\n",
        "print('maxlen: ', np.max(num_tokens))\n",
        "print('stdlen: ', np.std(num_tokens))"
      ],
      "metadata": {
        "colab": {
          "base_uri": "https://localhost:8080/"
        },
        "id": "3Dj7J2bVvEJJ",
        "outputId": "babac2dd-17f9-4e7b-fa65-0d8a8c3a7ce2"
      },
      "execution_count": null,
      "outputs": [
        {
          "output_type": "stream",
          "name": "stdout",
          "text": [
            "meanlen:  15.969376315021577\n",
            "maxlen:  116\n",
            "stdlen:  12.843535456326455\n"
          ]
        }
      ]
    },
    {
      "cell_type": "code",
      "source": [
        "max_tokens = np.mean(num_tokens) + 2 * np.std(num_tokens)\n",
        "maxlen = int(max_tokens)\n",
        "print('pad_ maxlen is: ',maxlen)\n",
        "print('{}% of whole sentences is included.'.format(np.sum(num_tokens < max_tokens) / len(num_tokens)*100))"
      ],
      "metadata": {
        "colab": {
          "base_uri": "https://localhost:8080/"
        },
        "id": "rvukvfDHvUfx",
        "outputId": "e8a1cf03-078f-4b21-db70-664339541f7c"
      },
      "execution_count": null,
      "outputs": [
        {
          "output_type": "stream",
          "name": "stdout",
          "text": [
            "pad_ maxlen is:  41\n",
            "93.42988343341575% of whole sentences is included.\n"
          ]
        }
      ]
    },
    {
      "cell_type": "code",
      "source": [
        "word_to_index['<PAD>'] = 0"
      ],
      "metadata": {
        "id": "tJH1tvfxwkYY"
      },
      "execution_count": null,
      "outputs": []
    },
    {
      "cell_type": "code",
      "source": [
        "import tensorflow as tf\n",
        "X_train = tf.keras.preprocessing.sequence.pad_sequences(X_train, value=word_to_index[\"<PAD>\"], padding='pre',maxlen=maxlen)\n",
        "X_test = tf.keras.preprocessing.sequence.pad_sequences(X_test, value=word_to_index[\"<PAD>\"], padding='pre',maxlen=maxlen)\n",
        "print(X_train.shape)"
      ],
      "metadata": {
        "colab": {
          "base_uri": "https://localhost:8080/"
        },
        "id": "84x3Dz0Avc3J",
        "outputId": "f466ba58-1e5a-46a6-bfd8-4510d5164e58"
      },
      "execution_count": null,
      "outputs": [
        {
          "output_type": "stream",
          "name": "stdout",
          "text": [
            "(146182, 41)\n"
          ]
        }
      ]
    },
    {
      "cell_type": "markdown",
      "source": [
        "#word2vec 임베딩 활용 전"
      ],
      "metadata": {
        "id": "qYjck_D3nAxG"
      }
    },
    {
      "cell_type": "markdown",
      "source": [
        "##LSTM 모델"
      ],
      "metadata": {
        "id": "92cUQZ2C_Rew"
      }
    },
    {
      "cell_type": "code",
      "source": [
        "vocab_size = 10000\n",
        "word_vector_dim = 16\n",
        "\n",
        "model = tf.keras.Sequential()\n",
        "\n",
        "model.add(tf.keras.layers.Embedding(vocab_size, word_vector_dim, input_shape=(None,)))\n",
        "model.add(tf.keras.layers.LSTM(8))\n",
        "model.add(tf.keras.layers.Dense(8, activation='relu'))\n",
        "model.add(tf.keras.layers.Dense(1, activation='sigmoid'))\n",
        "\n",
        "model.summary()"
      ],
      "metadata": {
        "colab": {
          "base_uri": "https://localhost:8080/"
        },
        "id": "WFankVpQwREr",
        "outputId": "f07dc9f6-1768-4333-fbac-36bb9d78d2d7"
      },
      "execution_count": null,
      "outputs": [
        {
          "output_type": "stream",
          "name": "stdout",
          "text": [
            "Model: \"sequential\"\n",
            "_________________________________________________________________\n",
            " Layer (type)                Output Shape              Param #   \n",
            "=================================================================\n",
            " embedding (Embedding)       (None, None, 16)          160000    \n",
            "                                                                 \n",
            " lstm (LSTM)                 (None, 8)                 800       \n",
            "                                                                 \n",
            " dense (Dense)               (None, 8)                 72        \n",
            "                                                                 \n",
            " dense_1 (Dense)             (None, 1)                 9         \n",
            "                                                                 \n",
            "=================================================================\n",
            "Total params: 160,881\n",
            "Trainable params: 160,881\n",
            "Non-trainable params: 0\n",
            "_________________________________________________________________\n"
          ]
        }
      ]
    },
    {
      "cell_type": "code",
      "source": [
        "x_val = X_train[:60000]\n",
        "y_val = y_train[:60000]\n",
        "\n",
        "partial_x_train = X_train[60000:]\n",
        "partial_y_train = y_train[60000:]\n",
        "\n",
        "print(partial_x_train.shape)\n",
        "print(partial_y_train.shape)"
      ],
      "metadata": {
        "colab": {
          "base_uri": "https://localhost:8080/"
        },
        "id": "uwpRa8FOx8yk",
        "outputId": "9e9151c5-07f6-4b7b-91b3-8f611de1934b"
      },
      "execution_count": null,
      "outputs": [
        {
          "output_type": "stream",
          "name": "stdout",
          "text": [
            "(86182, 41)\n",
            "(86182,)\n"
          ]
        }
      ]
    },
    {
      "cell_type": "code",
      "source": [
        "model.compile(optimizer='adam', loss='binary_crossentropy', metrics=['accuracy'])\n",
        "epochs = 20\n",
        "history = model.fit(partial_x_train,partial_y_train, epochs=epochs, batch_size=512, validation_data=(x_val,y_val), verbose=1)"
      ],
      "metadata": {
        "colab": {
          "base_uri": "https://localhost:8080/"
        },
        "id": "qL2UHN7NyDXB",
        "outputId": "37b9cce6-c9f3-416e-85b1-35a53cfe074b"
      },
      "execution_count": null,
      "outputs": [
        {
          "output_type": "stream",
          "name": "stdout",
          "text": [
            "Epoch 1/20\n",
            "169/169 [==============================] - 11s 20ms/step - loss: 0.5638 - accuracy: 0.7391 - val_loss: 0.3997 - val_accuracy: 0.8317\n",
            "Epoch 2/20\n",
            "169/169 [==============================] - 3s 16ms/step - loss: 0.3606 - accuracy: 0.8487 - val_loss: 0.3580 - val_accuracy: 0.8466\n",
            "Epoch 3/20\n",
            "169/169 [==============================] - 3s 16ms/step - loss: 0.3243 - accuracy: 0.8663 - val_loss: 0.3592 - val_accuracy: 0.8453\n",
            "Epoch 4/20\n",
            "169/169 [==============================] - 3s 16ms/step - loss: 0.3092 - accuracy: 0.8724 - val_loss: 0.3584 - val_accuracy: 0.8457\n",
            "Epoch 5/20\n",
            "169/169 [==============================] - 3s 16ms/step - loss: 0.2980 - accuracy: 0.8786 - val_loss: 0.3629 - val_accuracy: 0.8439\n",
            "Epoch 6/20\n",
            "169/169 [==============================] - 3s 16ms/step - loss: 0.2912 - accuracy: 0.8814 - val_loss: 0.3663 - val_accuracy: 0.8442\n",
            "Epoch 7/20\n",
            "169/169 [==============================] - 3s 16ms/step - loss: 0.2846 - accuracy: 0.8844 - val_loss: 0.3679 - val_accuracy: 0.8435\n",
            "Epoch 8/20\n",
            "169/169 [==============================] - 3s 16ms/step - loss: 0.2780 - accuracy: 0.8874 - val_loss: 0.3743 - val_accuracy: 0.8410\n",
            "Epoch 9/20\n",
            "169/169 [==============================] - 3s 16ms/step - loss: 0.2725 - accuracy: 0.8911 - val_loss: 0.3848 - val_accuracy: 0.8359\n",
            "Epoch 10/20\n",
            "169/169 [==============================] - 3s 17ms/step - loss: 0.2678 - accuracy: 0.8937 - val_loss: 0.3807 - val_accuracy: 0.8406\n",
            "Epoch 11/20\n",
            "169/169 [==============================] - 3s 16ms/step - loss: 0.2596 - accuracy: 0.8973 - val_loss: 0.3880 - val_accuracy: 0.8399\n",
            "Epoch 12/20\n",
            "169/169 [==============================] - 3s 16ms/step - loss: 0.2545 - accuracy: 0.8995 - val_loss: 0.3937 - val_accuracy: 0.8394\n",
            "Epoch 13/20\n",
            "169/169 [==============================] - 3s 16ms/step - loss: 0.2475 - accuracy: 0.9028 - val_loss: 0.3937 - val_accuracy: 0.8391\n",
            "Epoch 14/20\n",
            "169/169 [==============================] - 3s 16ms/step - loss: 0.2391 - accuracy: 0.9067 - val_loss: 0.3996 - val_accuracy: 0.8378\n",
            "Epoch 15/20\n",
            "169/169 [==============================] - 3s 16ms/step - loss: 0.2326 - accuracy: 0.9104 - val_loss: 0.4085 - val_accuracy: 0.8361\n",
            "Epoch 16/20\n",
            "169/169 [==============================] - 3s 16ms/step - loss: 0.2256 - accuracy: 0.9131 - val_loss: 0.4156 - val_accuracy: 0.8360\n",
            "Epoch 17/20\n",
            "169/169 [==============================] - 3s 16ms/step - loss: 0.2186 - accuracy: 0.9158 - val_loss: 0.4195 - val_accuracy: 0.8356\n",
            "Epoch 18/20\n",
            "169/169 [==============================] - 3s 16ms/step - loss: 0.2124 - accuracy: 0.9190 - val_loss: 0.4324 - val_accuracy: 0.8357\n",
            "Epoch 19/20\n",
            "169/169 [==============================] - 3s 16ms/step - loss: 0.2053 - accuracy: 0.9223 - val_loss: 0.4519 - val_accuracy: 0.8353\n",
            "Epoch 20/20\n",
            "169/169 [==============================] - 3s 16ms/step - loss: 0.1992 - accuracy: 0.9254 - val_loss: 0.4501 - val_accuracy: 0.8338\n"
          ]
        }
      ]
    },
    {
      "cell_type": "code",
      "source": [
        "results = model.evaluate(X_test, y_test, verbose=2)\n",
        "print(results)"
      ],
      "metadata": {
        "colab": {
          "base_uri": "https://localhost:8080/"
        },
        "id": "CWqInul0yJvI",
        "outputId": "8144aa4a-5b41-4129-f363-25d3159217fe"
      },
      "execution_count": null,
      "outputs": [
        {
          "output_type": "stream",
          "name": "stdout",
          "text": [
            "1537/1537 - 6s - loss: 0.4555 - accuracy: 0.8303 - 6s/epoch - 4ms/step\n",
            "[0.4555146396160126, 0.8302785158157349]\n"
          ]
        }
      ]
    },
    {
      "cell_type": "code",
      "source": [
        "history_dict = history.history #fitting 중 loss,accuracy 등이 매 epoch 마다 history에 저장\n",
        "print(history_dict.keys())"
      ],
      "metadata": {
        "colab": {
          "base_uri": "https://localhost:8080/"
        },
        "id": "JSRMWlrazj4N",
        "outputId": "426378c4-c8ba-4716-801e-829738cb1b61"
      },
      "execution_count": null,
      "outputs": [
        {
          "output_type": "stream",
          "name": "stdout",
          "text": [
            "dict_keys(['loss', 'accuracy', 'val_loss', 'val_accuracy'])\n"
          ]
        }
      ]
    },
    {
      "cell_type": "code",
      "source": [
        "import matplotlib.pyplot as plt\n",
        "\n",
        "acc = history_dict['accuracy']\n",
        "val_acc = history_dict['val_accuracy']\n",
        "loss = history_dict['loss']\n",
        "val_loss = history_dict['val_loss']\n",
        "\n",
        "epochs = range(1, len(acc)+1)\n",
        "\n",
        "plt.plot(epochs, loss, 'bo', label='Training loss')\n",
        "plt.plot(epochs, val_loss, 'b', label='Validation loss')\n",
        "plt.title(\"Training and validation loss\")\n",
        "plt.xlabel('Epochs')\n",
        "plt.ylabel('Loss')\n",
        "plt.legend()\n",
        "\n",
        "plt.show()"
      ],
      "metadata": {
        "colab": {
          "base_uri": "https://localhost:8080/",
          "height": 295
        },
        "id": "wSYzbYr8znDQ",
        "outputId": "165b23e6-66a0-4999-b51b-9175a9b783f8"
      },
      "execution_count": null,
      "outputs": [
        {
          "output_type": "display_data",
          "data": {
            "image/png": "[encoded data removed]",
            "text/plain": [
              "<Figure size 432x288 with 1 Axes>"
            ]
          },
          "metadata": {
            "needs_background": "light"
          }
        }
      ]
    },
    {
      "cell_type": "code",
      "source": [
        "plt.clf()\n",
        "\n",
        "plt.plot(epochs, acc, 'bo', label='Training acc')\n",
        "plt.plot(epochs, val_acc, 'b', label='Validation acc')\n",
        "plt.title(\"Training and validation accuracy\")\n",
        "plt.xlabel('Epochs')\n",
        "plt.ylabel('Accuracy')\n",
        "plt.legend()\n",
        "\n",
        "plt.show()"
      ],
      "metadata": {
        "colab": {
          "base_uri": "https://localhost:8080/",
          "height": 295
        },
        "id": "lnZ8W97jztCq",
        "outputId": "ad0c15dd-6a2b-4d9a-88a0-500a87d36e2b"
      },
      "execution_count": null,
      "outputs": [
        {
          "output_type": "display_data",
          "data": {
            "image/png": "[encoded data removed]",
            "text/plain": [
              "<Figure size 432x288 with 1 Axes>"
            ]
          },
          "metadata": {
            "needs_background": "light"
          }
        }
      ]
    },
    {
      "cell_type": "markdown",
      "source": [
        "##1-D CNN"
      ],
      "metadata": {
        "id": "iqQ33-yb_j38"
      }
    },
    {
      "cell_type": "code",
      "source": [
        "vocab_size = 10\n",
        "word_to_dim = 4\n",
        "\n",
        "model = tf.keras.Sequential()\n",
        "model.add(tf.keras.layers.Embedding(vocab_size, word_vector_dim, input_shape=(None,)))\n",
        "model.add(tf.keras.layers.Conv1D(16,7,activation='relu'))\n",
        "model.add(tf.keras.layers.MaxPooling1D(5))\n",
        "model.add(tf.keras.layers.Conv1D(16,7,activation='relu'))\n",
        "model.add(tf.keras.layers.GlobalMaxPooling1D())\n",
        "model.add(tf.keras.layers.Dense(8, activation='relu'))\n",
        "model.add(tf.keras.layers.Dense(1, activation='sigmoid'))\n",
        "\n",
        "model.summary()"
      ],
      "metadata": {
        "colab": {
          "base_uri": "https://localhost:8080/"
        },
        "id": "ixArp9Tp0ALY",
        "outputId": "0b345dc7-f77f-403c-fb0b-5b13b376bce8"
      },
      "execution_count": null,
      "outputs": [
        {
          "output_type": "stream",
          "name": "stdout",
          "text": [
            "Model: \"sequential_1\"\n",
            "_________________________________________________________________\n",
            " Layer (type)                Output Shape              Param #   \n",
            "=================================================================\n",
            " embedding_1 (Embedding)     (None, None, 16)          160       \n",
            "                                                                 \n",
            " conv1d (Conv1D)             (None, None, 16)          1808      \n",
            "                                                                 \n",
            " max_pooling1d (MaxPooling1D  (None, None, 16)         0         \n",
            " )                                                               \n",
            "                                                                 \n",
            " conv1d_1 (Conv1D)           (None, None, 16)          1808      \n",
            "                                                                 \n",
            " global_max_pooling1d (Globa  (None, 16)               0         \n",
            " lMaxPooling1D)                                                  \n",
            "                                                                 \n",
            " dense_2 (Dense)             (None, 8)                 136       \n",
            "                                                                 \n",
            " dense_3 (Dense)             (None, 1)                 9         \n",
            "                                                                 \n",
            "=================================================================\n",
            "Total params: 3,921\n",
            "Trainable params: 3,921\n",
            "Non-trainable params: 0\n",
            "_________________________________________________________________\n"
          ]
        }
      ]
    },
    {
      "cell_type": "code",
      "source": [
        "x_val = X_train[:60000]\n",
        "y_val = y_train[:60000]\n",
        "\n",
        "partial_x_train = X_train[60000:]\n",
        "partial_y_train = y_train[60000:]\n",
        "\n",
        "model.compile(optimizer='adam', loss='binary_crossentropy', metrics=['accuracy'])\n",
        "epochs = 20\n",
        "history = model.fit(partial_x_train,partial_y_train, epochs=epochs, batch_size=512, validation_data=(x_val,y_val), verbose=1)"
      ],
      "metadata": {
        "colab": {
          "base_uri": "https://localhost:8080/"
        },
        "id": "86XzwxMr0N6e",
        "outputId": "8a04cafb-7166-497c-9fa6-bb8c323e0778"
      },
      "execution_count": null,
      "outputs": [
        {
          "output_type": "stream",
          "name": "stdout",
          "text": [
            "Epoch 1/20\n",
            "169/169 [==============================] - 9s 15ms/step - loss: 0.6912 - accuracy: 0.5245 - val_loss: 0.6889 - val_accuracy: 0.5409\n",
            "Epoch 2/20\n",
            "169/169 [==============================] - 2s 12ms/step - loss: 0.6872 - accuracy: 0.5450 - val_loss: 0.6861 - val_accuracy: 0.5486\n",
            "Epoch 3/20\n",
            "169/169 [==============================] - 2s 12ms/step - loss: 0.6851 - accuracy: 0.5518 - val_loss: 0.6852 - val_accuracy: 0.5505\n",
            "Epoch 4/20\n",
            "169/169 [==============================] - 2s 13ms/step - loss: 0.6837 - accuracy: 0.5552 - val_loss: 0.6847 - val_accuracy: 0.5529\n",
            "Epoch 5/20\n",
            "169/169 [==============================] - 2s 13ms/step - loss: 0.6823 - accuracy: 0.5593 - val_loss: 0.6844 - val_accuracy: 0.5539\n",
            "Epoch 6/20\n",
            "169/169 [==============================] - 2s 13ms/step - loss: 0.6815 - accuracy: 0.5619 - val_loss: 0.6845 - val_accuracy: 0.5559\n",
            "Epoch 7/20\n",
            "169/169 [==============================] - 2s 12ms/step - loss: 0.6802 - accuracy: 0.5652 - val_loss: 0.6841 - val_accuracy: 0.5567\n",
            "Epoch 8/20\n",
            "169/169 [==============================] - 2s 13ms/step - loss: 0.6794 - accuracy: 0.5650 - val_loss: 0.6836 - val_accuracy: 0.5567\n",
            "Epoch 9/20\n",
            "169/169 [==============================] - 2s 13ms/step - loss: 0.6784 - accuracy: 0.5670 - val_loss: 0.6833 - val_accuracy: 0.5589\n",
            "Epoch 10/20\n",
            "169/169 [==============================] - 2s 12ms/step - loss: 0.6777 - accuracy: 0.5684 - val_loss: 0.6835 - val_accuracy: 0.5579\n",
            "Epoch 11/20\n",
            "169/169 [==============================] - 2s 12ms/step - loss: 0.6769 - accuracy: 0.5694 - val_loss: 0.6845 - val_accuracy: 0.5542\n",
            "Epoch 12/20\n",
            "169/169 [==============================] - 2s 13ms/step - loss: 0.6761 - accuracy: 0.5710 - val_loss: 0.6833 - val_accuracy: 0.5591\n",
            "Epoch 13/20\n",
            "169/169 [==============================] - 2s 13ms/step - loss: 0.6758 - accuracy: 0.5721 - val_loss: 0.6834 - val_accuracy: 0.5571\n",
            "Epoch 14/20\n",
            "169/169 [==============================] - 2s 13ms/step - loss: 0.6749 - accuracy: 0.5719 - val_loss: 0.6834 - val_accuracy: 0.5581\n",
            "Epoch 15/20\n",
            "169/169 [==============================] - 2s 12ms/step - loss: 0.6747 - accuracy: 0.5723 - val_loss: 0.6840 - val_accuracy: 0.5586\n",
            "Epoch 16/20\n",
            "169/169 [==============================] - 2s 13ms/step - loss: 0.6738 - accuracy: 0.5735 - val_loss: 0.6842 - val_accuracy: 0.5577\n",
            "Epoch 17/20\n",
            "169/169 [==============================] - 2s 13ms/step - loss: 0.6735 - accuracy: 0.5744 - val_loss: 0.6840 - val_accuracy: 0.5568\n",
            "Epoch 18/20\n",
            "169/169 [==============================] - 2s 13ms/step - loss: 0.6729 - accuracy: 0.5737 - val_loss: 0.6854 - val_accuracy: 0.5572\n",
            "Epoch 19/20\n",
            "169/169 [==============================] - 2s 12ms/step - loss: 0.6727 - accuracy: 0.5746 - val_loss: 0.6846 - val_accuracy: 0.5594\n",
            "Epoch 20/20\n",
            "169/169 [==============================] - 2s 12ms/step - loss: 0.6721 - accuracy: 0.5763 - val_loss: 0.6846 - val_accuracy: 0.5584\n"
          ]
        }
      ]
    },
    {
      "cell_type": "code",
      "source": [
        "results = model.evaluate(X_test, y_test, verbose=2)\n",
        "print(results)\n",
        "history_dict = history.history\n",
        "\n",
        "acc = history_dict['accuracy']\n",
        "val_acc = history_dict['val_accuracy']\n",
        "loss = history_dict['loss']\n",
        "val_loss = history_dict['val_loss']\n",
        "\n",
        "epochs = range(1, len(acc)+1)\n",
        "\n",
        "plt.plot(epochs, loss, 'bo', label='Training loss')\n",
        "plt.plot(epochs, val_loss, 'b', label='Validation loss')\n",
        "plt.title(\"Training and validation loss\")\n",
        "plt.xlabel('Epochs')\n",
        "plt.ylabel('Loss')\n",
        "plt.legend()\n",
        "\n",
        "plt.show()"
      ],
      "metadata": {
        "colab": {
          "base_uri": "https://localhost:8080/",
          "height": 330
        },
        "id": "IQvtvWKi0kbu",
        "outputId": "0461dca8-71a8-47bd-86f7-310a7208fd44"
      },
      "execution_count": null,
      "outputs": [
        {
          "output_type": "stream",
          "name": "stdout",
          "text": [
            "1537/1537 - 4s - loss: 0.6866 - accuracy: 0.5559 - 4s/epoch - 3ms/step\n",
            "[0.6865794062614441, 0.5558923482894897]\n"
          ]
        },
        {
          "output_type": "display_data",
          "data": {
            "image/png": "[encoded data removed]",
            "text/plain": [
              "<Figure size 432x288 with 1 Axes>"
            ]
          },
          "metadata": {
            "needs_background": "light"
          }
        }
      ]
    },
    {
      "cell_type": "code",
      "source": [
        "plt.clf()\n",
        "\n",
        "plt.plot(epochs, acc, 'bo', label='Training acc')\n",
        "plt.plot(epochs, val_acc, 'b', label='Validation acc')\n",
        "plt.title(\"Training and validation accuracy\")\n",
        "plt.xlabel('Epochs')\n",
        "plt.ylabel('Accuracy')\n",
        "plt.legend()\n",
        "\n",
        "plt.show()"
      ],
      "metadata": {
        "colab": {
          "base_uri": "https://localhost:8080/",
          "height": 295
        },
        "id": "Eup9LeWH0zHO",
        "outputId": "8f5e55d1-20f4-454c-a701-104ee4e67f12"
      },
      "execution_count": null,
      "outputs": [
        {
          "output_type": "display_data",
          "data": {
            "image/png": "[encoded data removed]",
            "text/plain": [
              "<Figure size 432x288 with 1 Axes>"
            ]
          },
          "metadata": {
            "needs_background": "light"
          }
        }
      ]
    },
    {
      "cell_type": "markdown",
      "source": [
        "##LSTM"
      ],
      "metadata": {
        "id": "OElM5qUg16UN"
      }
    },
    {
      "cell_type": "code",
      "source": [
        "vocab_size = 10\n",
        "word_to_dim = 4\n",
        "\n",
        "model = tf.keras.Sequential()\n",
        "model.add(tf.keras.layers.Embedding(vocab_size, word_vector_dim, input_shape=(None,)))\n",
        "model.add(tf.keras.layers.LSTM(8)) #가장 많이 쓰이는 레이어, 벡터 수 변경 가능\n",
        "model.add(tf.keras.layers.Dense(8, activation='relu'))\n",
        "model.add(tf.keras.layers.Dense(1, activation='sigmoid')) #최종 출력은 긍정/부정을 나타내는 1차원\n",
        "\n",
        "model.summary()\n",
        "\n"
      ],
      "metadata": {
        "colab": {
          "base_uri": "https://localhost:8080/"
        },
        "id": "NL53GlMs03HJ",
        "outputId": "61fb5682-5844-40f8-9fbd-e8b1153cd6d8"
      },
      "execution_count": null,
      "outputs": [
        {
          "output_type": "stream",
          "name": "stdout",
          "text": [
            "Model: \"sequential_2\"\n",
            "_________________________________________________________________\n",
            " Layer (type)                Output Shape              Param #   \n",
            "=================================================================\n",
            " embedding_2 (Embedding)     (None, None, 16)          160       \n",
            "                                                                 \n",
            " lstm_1 (LSTM)               (None, 8)                 800       \n",
            "                                                                 \n",
            " dense_4 (Dense)             (None, 8)                 72        \n",
            "                                                                 \n",
            " dense_5 (Dense)             (None, 1)                 9         \n",
            "                                                                 \n",
            "=================================================================\n",
            "Total params: 1,041\n",
            "Trainable params: 1,041\n",
            "Non-trainable params: 0\n",
            "_________________________________________________________________\n"
          ]
        }
      ]
    },
    {
      "cell_type": "code",
      "source": [
        "model.compile(optimizer='adam', loss='binary_crossentropy', metrics=['accuracy'])\n",
        "epochs = 20\n",
        "history = model.fit(partial_x_train,partial_y_train, epochs=epochs, batch_size=512, validation_data=(x_val,y_val), verbose=1)"
      ],
      "metadata": {
        "colab": {
          "base_uri": "https://localhost:8080/"
        },
        "id": "un4-CmwX1AOH",
        "outputId": "2bfab3e9-0a2d-4982-e5be-53cf10d237c9"
      },
      "execution_count": null,
      "outputs": [
        {
          "output_type": "stream",
          "name": "stdout",
          "text": [
            "Epoch 1/20\n",
            "169/169 [==============================] - 5s 19ms/step - loss: 0.6922 - accuracy: 0.5199 - val_loss: 0.6905 - val_accuracy: 0.5331\n",
            "Epoch 2/20\n",
            "169/169 [==============================] - 3s 17ms/step - loss: 0.6896 - accuracy: 0.5363 - val_loss: 0.6886 - val_accuracy: 0.5392\n",
            "Epoch 3/20\n",
            "169/169 [==============================] - 3s 16ms/step - loss: 0.6886 - accuracy: 0.5387 - val_loss: 0.6892 - val_accuracy: 0.5338\n",
            "Epoch 4/20\n",
            "169/169 [==============================] - 3s 16ms/step - loss: 0.6882 - accuracy: 0.5398 - val_loss: 0.6879 - val_accuracy: 0.5428\n",
            "Epoch 5/20\n",
            "169/169 [==============================] - 3s 16ms/step - loss: 0.6877 - accuracy: 0.5418 - val_loss: 0.6877 - val_accuracy: 0.5454\n",
            "Epoch 6/20\n",
            "169/169 [==============================] - 3s 16ms/step - loss: 0.6874 - accuracy: 0.5449 - val_loss: 0.6875 - val_accuracy: 0.5414\n",
            "Epoch 7/20\n",
            "169/169 [==============================] - 3s 16ms/step - loss: 0.6869 - accuracy: 0.5467 - val_loss: 0.6872 - val_accuracy: 0.5443\n",
            "Epoch 8/20\n",
            "169/169 [==============================] - 3s 16ms/step - loss: 0.6865 - accuracy: 0.5473 - val_loss: 0.6869 - val_accuracy: 0.5486\n",
            "Epoch 9/20\n",
            "169/169 [==============================] - 3s 16ms/step - loss: 0.6862 - accuracy: 0.5488 - val_loss: 0.6864 - val_accuracy: 0.5506\n",
            "Epoch 10/20\n",
            "169/169 [==============================] - 3s 16ms/step - loss: 0.6859 - accuracy: 0.5497 - val_loss: 0.6865 - val_accuracy: 0.5501\n",
            "Epoch 11/20\n",
            "169/169 [==============================] - 3s 16ms/step - loss: 0.6856 - accuracy: 0.5499 - val_loss: 0.6863 - val_accuracy: 0.5501\n",
            "Epoch 12/20\n",
            "169/169 [==============================] - 3s 16ms/step - loss: 0.6854 - accuracy: 0.5502 - val_loss: 0.6860 - val_accuracy: 0.5507\n",
            "Epoch 13/20\n",
            "169/169 [==============================] - 3s 16ms/step - loss: 0.6853 - accuracy: 0.5508 - val_loss: 0.6860 - val_accuracy: 0.5505\n",
            "Epoch 14/20\n",
            "169/169 [==============================] - 3s 16ms/step - loss: 0.6851 - accuracy: 0.5511 - val_loss: 0.6857 - val_accuracy: 0.5524\n",
            "Epoch 15/20\n",
            "169/169 [==============================] - 3s 15ms/step - loss: 0.6848 - accuracy: 0.5517 - val_loss: 0.6856 - val_accuracy: 0.5533\n",
            "Epoch 16/20\n",
            "169/169 [==============================] - 3s 16ms/step - loss: 0.6846 - accuracy: 0.5519 - val_loss: 0.6856 - val_accuracy: 0.5524\n",
            "Epoch 17/20\n",
            "169/169 [==============================] - 3s 16ms/step - loss: 0.6846 - accuracy: 0.5520 - val_loss: 0.6853 - val_accuracy: 0.5542\n",
            "Epoch 18/20\n",
            "169/169 [==============================] - 3s 16ms/step - loss: 0.6843 - accuracy: 0.5535 - val_loss: 0.6852 - val_accuracy: 0.5545\n",
            "Epoch 19/20\n",
            "169/169 [==============================] - 3s 16ms/step - loss: 0.6842 - accuracy: 0.5524 - val_loss: 0.6851 - val_accuracy: 0.5538\n",
            "Epoch 20/20\n",
            "169/169 [==============================] - 3s 16ms/step - loss: 0.6839 - accuracy: 0.5531 - val_loss: 0.6853 - val_accuracy: 0.5516\n"
          ]
        }
      ]
    },
    {
      "cell_type": "code",
      "source": [
        "results = model.evaluate(X_test, y_test, verbose=2)\n",
        "print(results)\n",
        "history_dict = history.history\n",
        "\n",
        "acc = history_dict['accuracy']\n",
        "val_acc = history_dict['val_accuracy']\n",
        "loss = history_dict['loss']\n",
        "val_loss = history_dict['val_loss']\n",
        "\n",
        "epochs = range(1, len(acc)+1)\n",
        "\n",
        "plt.plot(epochs, loss, 'bo', label='Training loss')\n",
        "plt.plot(epochs, val_loss, 'b', label='Validation loss')\n",
        "plt.title(\"Training and validation loss\")\n",
        "plt.xlabel('Epochs')\n",
        "plt.ylabel('Loss')\n",
        "plt.legend()\n",
        "\n",
        "plt.show()"
      ],
      "metadata": {
        "colab": {
          "base_uri": "https://localhost:8080/",
          "height": 330
        },
        "id": "RTcmGkti1Arg",
        "outputId": "8f969d01-e414-415f-8f63-9922ef05e7fd"
      },
      "execution_count": null,
      "outputs": [
        {
          "output_type": "stream",
          "name": "stdout",
          "text": [
            "1537/1537 - 8s - loss: 0.6864 - accuracy: 0.5485 - 8s/epoch - 5ms/step\n",
            "[0.6863816380500793, 0.5484874844551086]\n"
          ]
        },
        {
          "output_type": "display_data",
          "data": {
            "image/png": "[encoded data removed]",
            "text/plain": [
              "<Figure size 432x288 with 1 Axes>"
            ]
          },
          "metadata": {
            "needs_background": "light"
          }
        }
      ]
    },
    {
      "cell_type": "code",
      "source": [
        "plt.clf()\n",
        "\n",
        "plt.plot(epochs, acc, 'bo', label='Training acc')\n",
        "plt.plot(epochs, val_acc, 'b', label='Validation acc')\n",
        "plt.title(\"Training and validation accuracy\")\n",
        "plt.xlabel('Epochs')\n",
        "plt.ylabel('Accuracy')\n",
        "plt.legend()\n",
        "\n",
        "plt.show()"
      ],
      "metadata": {
        "colab": {
          "base_uri": "https://localhost:8080/",
          "height": 295
        },
        "id": "fk7W2xU61Auq",
        "outputId": "d85b751f-886c-43f4-c7b6-ca8739c7a91c"
      },
      "execution_count": null,
      "outputs": [
        {
          "output_type": "display_data",
          "data": {
            "image/png": "[encoded data removed]",
            "text/plain": [
              "<Figure size 432x288 with 1 Axes>"
            ]
          },
          "metadata": {
            "needs_background": "light"
          }
        }
      ]
    },
    {
      "cell_type": "markdown",
      "source": [
        "##MaxPooling 레이어 하나"
      ],
      "metadata": {
        "id": "re5_Bshn_2Mq"
      }
    },
    {
      "cell_type": "code",
      "source": [
        "vocab_size = 10\n",
        "word_to_dim = 4\n",
        "\n",
        "model = tf.keras.Sequential()\n",
        "model.add(tf.keras.layers.Embedding(vocab_size, word_vector_dim, input_shape=(None,)))\n",
        "model.add(tf.keras.layers.GlobalMaxPooling1D())\n",
        "model.add(tf.keras.layers.Dense(8, activation='relu'))\n",
        "model.add(tf.keras.layers.Dense(1, activation='sigmoid')) #최종 출력은 긍정/부정을 나타내는 1차원\n",
        "\n",
        "model.summary()"
      ],
      "metadata": {
        "colab": {
          "base_uri": "https://localhost:8080/"
        },
        "id": "48XNPg-W_0-z",
        "outputId": "0bf2c9ca-c7db-4f97-81b8-184bd121e1ab"
      },
      "execution_count": null,
      "outputs": [
        {
          "output_type": "stream",
          "name": "stdout",
          "text": [
            "Model: \"sequential_32\"\n",
            "_________________________________________________________________\n",
            " Layer (type)                Output Shape              Param #   \n",
            "=================================================================\n",
            " embedding_32 (Embedding)    (None, None, 300)         3000      \n",
            "                                                                 \n",
            " global_max_pooling1d_3 (Glo  (None, 300)              0         \n",
            " balMaxPooling1D)                                                \n",
            "                                                                 \n",
            " dense_38 (Dense)            (None, 8)                 2408      \n",
            "                                                                 \n",
            " dense_39 (Dense)            (None, 1)                 9         \n",
            "                                                                 \n",
            "=================================================================\n",
            "Total params: 5,417\n",
            "Trainable params: 5,417\n",
            "Non-trainable params: 0\n",
            "_________________________________________________________________\n"
          ]
        }
      ]
    },
    {
      "cell_type": "code",
      "source": [
        "model.compile(optimizer='adam', loss='binary_crossentropy', metrics=['accuracy'])\n",
        "epochs = 20\n",
        "history = model.fit(partial_x_train,partial_y_train, epochs=epochs, batch_size=512, validation_data=(x_val,y_val), verbose=1)"
      ],
      "metadata": {
        "colab": {
          "base_uri": "https://localhost:8080/"
        },
        "id": "Wuvytlb4BG0B",
        "outputId": "deaabc9e-139e-488a-ba81-782e109341af"
      },
      "execution_count": null,
      "outputs": [
        {
          "output_type": "stream",
          "name": "stdout",
          "text": [
            "Epoch 1/20\n",
            "169/169 [==============================] - 3s 16ms/step - loss: 0.6898 - accuracy: 0.5394 - val_loss: 0.6879 - val_accuracy: 0.5457\n",
            "Epoch 2/20\n",
            "169/169 [==============================] - 2s 12ms/step - loss: 0.6878 - accuracy: 0.5466 - val_loss: 0.6874 - val_accuracy: 0.5468\n",
            "Epoch 3/20\n",
            "169/169 [==============================] - 2s 12ms/step - loss: 0.6872 - accuracy: 0.5463 - val_loss: 0.6872 - val_accuracy: 0.5450\n",
            "Epoch 4/20\n",
            "169/169 [==============================] - 2s 12ms/step - loss: 0.6870 - accuracy: 0.5478 - val_loss: 0.6873 - val_accuracy: 0.5476\n",
            "Epoch 5/20\n",
            "169/169 [==============================] - 2s 12ms/step - loss: 0.6866 - accuracy: 0.5487 - val_loss: 0.6876 - val_accuracy: 0.5438\n",
            "Epoch 6/20\n",
            "169/169 [==============================] - 2s 12ms/step - loss: 0.6865 - accuracy: 0.5480 - val_loss: 0.6867 - val_accuracy: 0.5478\n",
            "Epoch 7/20\n",
            "169/169 [==============================] - 2s 12ms/step - loss: 0.6865 - accuracy: 0.5485 - val_loss: 0.6866 - val_accuracy: 0.5479\n",
            "Epoch 8/20\n",
            "169/169 [==============================] - 2s 12ms/step - loss: 0.6863 - accuracy: 0.5493 - val_loss: 0.6870 - val_accuracy: 0.5477\n",
            "Epoch 9/20\n",
            "169/169 [==============================] - 2s 12ms/step - loss: 0.6863 - accuracy: 0.5492 - val_loss: 0.6867 - val_accuracy: 0.5483\n",
            "Epoch 10/20\n",
            "169/169 [==============================] - 2s 12ms/step - loss: 0.6865 - accuracy: 0.5491 - val_loss: 0.6868 - val_accuracy: 0.5481\n",
            "Epoch 11/20\n",
            "169/169 [==============================] - 2s 12ms/step - loss: 0.6864 - accuracy: 0.5492 - val_loss: 0.6870 - val_accuracy: 0.5464\n",
            "Epoch 12/20\n",
            "169/169 [==============================] - 2s 12ms/step - loss: 0.6863 - accuracy: 0.5498 - val_loss: 0.6866 - val_accuracy: 0.5501\n",
            "Epoch 13/20\n",
            "169/169 [==============================] - 2s 12ms/step - loss: 0.6864 - accuracy: 0.5496 - val_loss: 0.6867 - val_accuracy: 0.5481\n",
            "Epoch 14/20\n",
            "169/169 [==============================] - 2s 12ms/step - loss: 0.6862 - accuracy: 0.5494 - val_loss: 0.6867 - val_accuracy: 0.5479\n",
            "Epoch 15/20\n",
            "169/169 [==============================] - 2s 12ms/step - loss: 0.6862 - accuracy: 0.5498 - val_loss: 0.6873 - val_accuracy: 0.5447\n",
            "Epoch 16/20\n",
            "169/169 [==============================] - 2s 12ms/step - loss: 0.6865 - accuracy: 0.5480 - val_loss: 0.6881 - val_accuracy: 0.5435\n",
            "Epoch 17/20\n",
            "169/169 [==============================] - 2s 12ms/step - loss: 0.6863 - accuracy: 0.5496 - val_loss: 0.6866 - val_accuracy: 0.5489\n",
            "Epoch 18/20\n",
            "169/169 [==============================] - 2s 12ms/step - loss: 0.6862 - accuracy: 0.5501 - val_loss: 0.6867 - val_accuracy: 0.5484\n",
            "Epoch 19/20\n",
            "169/169 [==============================] - 2s 11ms/step - loss: 0.6863 - accuracy: 0.5488 - val_loss: 0.6869 - val_accuracy: 0.5494\n",
            "Epoch 20/20\n",
            "169/169 [==============================] - 2s 12ms/step - loss: 0.6862 - accuracy: 0.5494 - val_loss: 0.6866 - val_accuracy: 0.5487\n"
          ]
        }
      ]
    },
    {
      "cell_type": "code",
      "source": [
        "results = model.evaluate(X_test, y_test, verbose=2)\n",
        "print(results)\n",
        "\n",
        "history_dict = history.history\n",
        "\n",
        "acc = history_dict['accuracy']\n",
        "val_acc = history_dict['val_accuracy']\n",
        "loss = history_dict['loss']\n",
        "val_loss = history_dict['val_loss']\n",
        "\n",
        "epochs = range(1, len(acc)+1)\n",
        "\n",
        "plt.plot(epochs, loss, 'bo', label='Training loss')\n",
        "plt.plot(epochs, val_loss, 'b', label='Validation loss')\n",
        "plt.title(\"Training and validation loss\")\n",
        "plt.xlabel('Epochs')\n",
        "plt.ylabel('Loss')\n",
        "plt.legend()\n",
        "\n",
        "plt.show()"
      ],
      "metadata": {
        "colab": {
          "base_uri": "https://localhost:8080/",
          "height": 330
        },
        "id": "M_bty6A1BG2r",
        "outputId": "0ed5a687-d1cd-4d86-8b48-3b0325e35e5a"
      },
      "execution_count": null,
      "outputs": [
        {
          "output_type": "stream",
          "name": "stdout",
          "text": [
            "1537/1537 - 6s - loss: 0.6876 - accuracy: 0.5440 - 6s/epoch - 4ms/step\n",
            "[0.6876235008239746, 0.5439713597297668]\n"
          ]
        },
        {
          "output_type": "display_data",
          "data": {
            "image/png": "[encoded data removed]",
            "text/plain": [
              "<Figure size 432x288 with 1 Axes>"
            ]
          },
          "metadata": {
            "needs_background": "light"
          }
        }
      ]
    },
    {
      "cell_type": "code",
      "source": [
        "plt.clf()\n",
        "\n",
        "plt.plot(epochs, acc, 'bo', label='Training acc')\n",
        "plt.plot(epochs, val_acc, 'b', label='Validation acc')\n",
        "plt.title(\"Training and validation accuracy\")\n",
        "plt.xlabel('Epochs')\n",
        "plt.ylabel('Accuracy')\n",
        "plt.legend()\n",
        "\n",
        "plt.show()"
      ],
      "metadata": {
        "colab": {
          "base_uri": "https://localhost:8080/",
          "height": 295
        },
        "id": "ta5dNNjfBG5z",
        "outputId": "376de90a-2720-4f15-9932-a15af1bc6757"
      },
      "execution_count": null,
      "outputs": [
        {
          "output_type": "display_data",
          "data": {
            "image/png": "[encoded data removed]",
            "text/plain": [
              "<Figure size 432x288 with 1 Axes>"
            ]
          },
          "metadata": {
            "needs_background": "light"
          }
        }
      ]
    },
    {
      "cell_type": "markdown",
      "source": [
        "#word2vec 임베딩 활용 후"
      ],
      "metadata": {
        "id": "8mbDmjgBBOQK"
      }
    },
    {
      "cell_type": "code",
      "source": [
        "!pip list | grep gensim"
      ],
      "metadata": {
        "colab": {
          "base_uri": "https://localhost:8080/"
        },
        "id": "bwtrfMlx1rxp",
        "outputId": "b9b92872-f240-4402-c28e-3b9110032fc3"
      },
      "execution_count": null,
      "outputs": [
        {
          "output_type": "stream",
          "name": "stdout",
          "text": [
            "gensim                        3.6.0\n"
          ]
        }
      ]
    },
    {
      "cell_type": "code",
      "source": [
        "embedding_layer = model.layers[0]\n",
        "weights = embedding_layer.get_weights()[0]\n",
        "print(weights.shape) #shape: (vocab_size, embedding_dim)"
      ],
      "metadata": {
        "colab": {
          "base_uri": "https://localhost:8080/"
        },
        "id": "RIP5V8va112T",
        "outputId": "b6fbafae-ea8e-438b-eeba-6cccc03e6587"
      },
      "execution_count": null,
      "outputs": [
        {
          "output_type": "stream",
          "name": "stdout",
          "text": [
            "(10, 16)\n"
          ]
        }
      ]
    },
    {
      "cell_type": "code",
      "source": [
        "word2vec_file_path = '/content/drive/MyDrive/aiffel/sentimental_classification/data/word2vec_2.txt'\n",
        "f = open(word2vec_file_path, 'w')\n",
        "f.write('{} {}\\n'.format(vocab_size-4,word_vector_dim)) # 몇개의 벡터를 얼마 사이즈로 기재할지 타이틀을 쓴다?\n",
        "\n",
        "vectors = model.get_weights()[0]\n",
        "for i in range(4,vocab_size): #단어 개수에서 특수문자 4개 제외하고 워드 벡터 파일에 기록\n",
        "  f.write('{} {}\\n'.format(index_to_word[i], ' '.join(map(str,list(vectors[i, :])))))\n",
        "f.close()"
      ],
      "metadata": {
        "id": "x32EvPWc294k"
      },
      "execution_count": null,
      "outputs": []
    },
    {
      "cell_type": "code",
      "source": [
        "from gensim.models.keyedvectors import Word2VecKeyedVectors\n",
        "from gensim.models import KeyedVectors\n",
        "\n",
        "word_vectors = Word2VecKeyedVectors.load_word2vec_format(word2vec_file_path, binary=False)\n",
        "\n",
        "word2vec_path = '/content/drive/MyDrive/aiffel/sentimental_classification/data/GoogleNews-vectors-negative300.bin.gz'\n",
        "word2vec = KeyedVectors.load_word2vec_format(word2vec_path, binary=True, limit=1000000) #100만개만 로드"
      ],
      "metadata": {
        "id": "E3K4rF-L3HQO"
      },
      "execution_count": null,
      "outputs": []
    },
    {
      "cell_type": "code",
      "source": [
        "vocab_size = 10000 #어휘사전 크기\n",
        "word_vector_dim = 300 #워드벡터의 차원수 \n",
        "embedding_matrix = np.random.rand(vocab_size, word_vector_dim)\n",
        "\n",
        "for i in range(4,vocab_size):\n",
        "  if index_to_word[i] in word2vec:\n",
        "    embedding_matrix[i] = word2vec[index_to_word[i]]"
      ],
      "metadata": {
        "id": "iDma4j094g_I"
      },
      "execution_count": null,
      "outputs": []
    },
    {
      "cell_type": "code",
      "source": [
        "vocab_size = 10\n",
        "word_to_dim = 4\n",
        "\n",
        "model = tf.keras.Sequential()\n",
        "model.add(tf.keras.layers.Embedding(vocab_size, word_vector_dim, input_shape=(None,)))\n",
        "model.add(tf.keras.layers.LSTM(8)) #가장 많이 쓰이는 레이어, 벡터 수 변경 가능\n",
        "model.add(tf.keras.layers.Dense(8, activation='relu'))\n",
        "model.add(tf.keras.layers.Dense(1, activation='sigmoid')) #최종 출력은 긍정/부정을 나타내는 1차원\n",
        "\n",
        "model.summary()"
      ],
      "metadata": {
        "id": "jVvWOlYh4mFs"
      },
      "execution_count": null,
      "outputs": []
    },
    {
      "cell_type": "markdown",
      "source": [
        "##LSTM"
      ],
      "metadata": {
        "id": "HEkIh-liB0We"
      }
    },
    {
      "cell_type": "code",
      "source": [
        "from tensorflow.keras.initializers import Constant\n",
        "\n",
        "vocab_size = 10000\n",
        "word_vector_dim = 300\n",
        "\n",
        "model = tf.keras.Sequential()\n",
        "model.add(tf.keras.layers.Embedding(vocab_size,word_vector_dim, embeddings_initializer=Constant(embedding_matrix), input_length=maxlen, trainable=True))\n",
        "model.add(tf.keras.layers.LSTM(32)) #가장 많이 쓰이는 레이어, 벡터 수 변경 가능\n",
        "#model.add(tf.keras.layers.Dense(32, activation='relu'))\n",
        "#model.add(tf.keras.layers.Dense(16, activation='relu'))\n",
        "model.add(tf.keras.layers.Dense(8, activation='relu'))\n",
        "model.add(tf.keras.layers.Dense(1, activation='sigmoid')) #최종 출력은 긍정/부정을 나타내는 1차원\n",
        "\n",
        "model.summary()"
      ],
      "metadata": {
        "colab": {
          "base_uri": "https://localhost:8080/"
        },
        "id": "tlPzbNFb7LWk",
        "outputId": "7c685a0e-b86c-48dd-b143-614d1699eab3"
      },
      "execution_count": null,
      "outputs": [
        {
          "output_type": "stream",
          "name": "stdout",
          "text": [
            "Model: \"sequential_51\"\n",
            "_________________________________________________________________\n",
            " Layer (type)                Output Shape              Param #   \n",
            "=================================================================\n",
            " embedding_51 (Embedding)    (None, 41, 300)           3000000   \n",
            "                                                                 \n",
            " lstm_30 (LSTM)              (None, 32)                42624     \n",
            "                                                                 \n",
            " dense_74 (Dense)            (None, 8)                 264       \n",
            "                                                                 \n",
            " dense_75 (Dense)            (None, 1)                 9         \n",
            "                                                                 \n",
            "=================================================================\n",
            "Total params: 3,042,897\n",
            "Trainable params: 3,042,897\n",
            "Non-trainable params: 0\n",
            "_________________________________________________________________\n"
          ]
        }
      ]
    },
    {
      "cell_type": "markdown",
      "source": [
        "##1-D CNN"
      ],
      "metadata": {
        "id": "_fS6ZpB1B2fk"
      }
    },
    {
      "cell_type": "code",
      "source": [
        "from tensorflow.keras.initializers import Constant\n",
        "\n",
        "vocab_size = 10000\n",
        "word_vector_dim = 300\n",
        "\n",
        "model = tf.keras.Sequential()\n",
        "model.add(tf.keras.layers.Embedding(vocab_size,word_vector_dim, embeddings_initializer=Constant(embedding_matrix), input_length=maxlen, trainable=True))\n",
        "#trainable = True : Fine-tuning\n",
        "model.add(tf.keras.layers.Conv1D(16, 7, activation='relu'))\n",
        "model.add(tf.keras.layers.MaxPooling1D(5))\n",
        "model.add(tf.keras.layers.Conv1D(16,7,activation='relu'))\n",
        "model.add(tf.keras.layers.GlobalMaxPooling1D())\n",
        "#model.add(tf.keras.layers.LSTM(8))\n",
        "model.add(tf.keras.layers.Dense(8, activation='relu'))\n",
        "model.add(tf.keras.layers.Dense(1, activation='sigmoid'))\n",
        "\n",
        "model.summary()"
      ],
      "metadata": {
        "id": "6LWSYCmP6fFv"
      },
      "execution_count": null,
      "outputs": []
    },
    {
      "cell_type": "markdown",
      "source": [
        "##1-MaxPooling"
      ],
      "metadata": {
        "id": "W_-JCGUwB_Mk"
      }
    },
    {
      "cell_type": "code",
      "source": [
        "vocab_size = 10000\n",
        "word_to_dim = 300\n",
        "\n",
        "model = tf.keras.Sequential()\n",
        "model.add(tf.keras.layers.Embedding(vocab_size, word_vector_dim, input_shape=(None,)))\n",
        "model.add(tf.keras.layers.GlobalMaxPooling1D())\n",
        "model.add(tf.keras.layers.Dense(61, activation='relu'))\n",
        "#model.add(tf.keras.layers.Dense(8, activation='relu'))\n",
        "model.add(tf.keras.layers.Dense(1, activation='sigmoid')) #최종 출력은 긍정/부정을 나타내는 1차원\n",
        "\n",
        "model.summary()"
      ],
      "metadata": {
        "colab": {
          "base_uri": "https://localhost:8080/"
        },
        "id": "_QJjSguqB9uR",
        "outputId": "fcd589f3-1797-4a78-8f0b-453e7de1af42"
      },
      "execution_count": null,
      "outputs": [
        {
          "output_type": "stream",
          "name": "stdout",
          "text": [
            "Model: \"sequential_48\"\n",
            "_________________________________________________________________\n",
            " Layer (type)                Output Shape              Param #   \n",
            "=================================================================\n",
            " embedding_48 (Embedding)    (None, None, 300)         3000000   \n",
            "                                                                 \n",
            " global_max_pooling1d_13 (Gl  (None, 300)              0         \n",
            " obalMaxPooling1D)                                               \n",
            "                                                                 \n",
            " dense_68 (Dense)            (None, 4)                 1204      \n",
            "                                                                 \n",
            " dense_69 (Dense)            (None, 1)                 5         \n",
            "                                                                 \n",
            "=================================================================\n",
            "Total params: 3,001,209\n",
            "Trainable params: 3,001,209\n",
            "Non-trainable params: 0\n",
            "_________________________________________________________________\n"
          ]
        }
      ]
    },
    {
      "cell_type": "markdown",
      "source": [
        "##Result"
      ],
      "metadata": {
        "id": "Q4GknfpsCCyG"
      }
    },
    {
      "cell_type": "code",
      "source": [
        "model.compile(optimizer='adam', loss='binary_crossentropy', metrics=['accuracy'])\n",
        "\n",
        "epochs = 10\n",
        "\n",
        "history = model.fit(partial_x_train,partial_y_train,epochs=epochs,batch_size=512,validation_data=(x_val,y_val),verbose=1)"
      ],
      "metadata": {
        "colab": {
          "base_uri": "https://localhost:8080/"
        },
        "id": "fR2zdKwZ4q4I",
        "outputId": "b387dd59-e945-432c-eb72-d6cfd4ae238b"
      },
      "execution_count": null,
      "outputs": [
        {
          "output_type": "stream",
          "name": "stdout",
          "text": [
            "Epoch 1/10\n",
            "169/169 [==============================] - 7s 31ms/step - loss: 0.5553 - accuracy: 0.7074 - val_loss: 0.4116 - val_accuracy: 0.8183\n",
            "Epoch 2/10\n",
            "169/169 [==============================] - 4s 23ms/step - loss: 0.3757 - accuracy: 0.8392 - val_loss: 0.3645 - val_accuracy: 0.8422\n",
            "Epoch 3/10\n",
            "169/169 [==============================] - 4s 23ms/step - loss: 0.3238 - accuracy: 0.8648 - val_loss: 0.3672 - val_accuracy: 0.8386\n",
            "Epoch 4/10\n",
            "169/169 [==============================] - 4s 27ms/step - loss: 0.3061 - accuracy: 0.8728 - val_loss: 0.3518 - val_accuracy: 0.8491\n",
            "Epoch 5/10\n",
            "169/169 [==============================] - 4s 23ms/step - loss: 0.2804 - accuracy: 0.8861 - val_loss: 0.3549 - val_accuracy: 0.8484\n",
            "Epoch 6/10\n",
            "169/169 [==============================] - 5s 27ms/step - loss: 0.2602 - accuracy: 0.8966 - val_loss: 0.3642 - val_accuracy: 0.8454\n",
            "Epoch 7/10\n",
            "169/169 [==============================] - 4s 23ms/step - loss: 0.2438 - accuracy: 0.9051 - val_loss: 0.3790 - val_accuracy: 0.8429\n",
            "Epoch 8/10\n",
            "169/169 [==============================] - 4s 23ms/step - loss: 0.2317 - accuracy: 0.9107 - val_loss: 0.3794 - val_accuracy: 0.8425\n",
            "Epoch 9/10\n",
            "169/169 [==============================] - 5s 27ms/step - loss: 0.2228 - accuracy: 0.9150 - val_loss: 0.3871 - val_accuracy: 0.8443\n",
            "Epoch 10/10\n",
            "169/169 [==============================] - 4s 23ms/step - loss: 0.2054 - accuracy: 0.9239 - val_loss: 0.4112 - val_accuracy: 0.8426\n"
          ]
        }
      ]
    },
    {
      "cell_type": "code",
      "source": [
        "results = model.evaluate(X_test, y_test, verbose=2)\n",
        "print(results)"
      ],
      "metadata": {
        "colab": {
          "base_uri": "https://localhost:8080/"
        },
        "id": "qU3Lpre35ArU",
        "outputId": "786a3f3d-10b8-4a0c-ae07-300bbeceef68"
      },
      "execution_count": null,
      "outputs": [
        {
          "output_type": "stream",
          "name": "stdout",
          "text": [
            "1537/1537 - 7s - loss: 0.4254 - accuracy: 0.8380 - 7s/epoch - 4ms/step\n",
            "[0.42540547251701355, 0.8380088210105896]\n"
          ]
        }
      ]
    },
    {
      "cell_type": "code",
      "source": [
        "history_dict = history.history\n",
        "\n",
        "acc = history_dict['accuracy']\n",
        "val_acc = history_dict['val_accuracy']\n",
        "loss = history_dict['loss']\n",
        "val_loss = history_dict['val_loss']\n",
        "\n",
        "epochs = range(1, len(acc)+1)\n",
        "\n",
        "plt.plot(epochs, loss, 'bo', label='Training loss')\n",
        "plt.plot(epochs, val_loss, 'b', label='Validation loss')\n",
        "plt.title(\"Training and validation loss\")\n",
        "plt.xlabel('Epochs')\n",
        "plt.ylabel('Loss')\n",
        "plt.legend()\n",
        "\n",
        "plt.show()"
      ],
      "metadata": {
        "colab": {
          "base_uri": "https://localhost:8080/",
          "height": 295
        },
        "id": "qL2jIOi95QZj",
        "outputId": "d5d6d049-ddf5-4e21-a329-66808e0f7ac2"
      },
      "execution_count": null,
      "outputs": [
        {
          "output_type": "display_data",
          "data": {
            "image/png": "[encoded data removed]",
            "text/plain": [
              "<Figure size 432x288 with 1 Axes>"
            ]
          },
          "metadata": {
            "needs_background": "light"
          }
        }
      ]
    },
    {
      "cell_type": "code",
      "source": [
        "plt.clf()\n",
        "\n",
        "plt.plot(epochs, acc, 'bo', label='Training acc')\n",
        "plt.plot(epochs, val_acc, 'b', label='Validation acc')\n",
        "plt.title(\"Training and validation accuracy\")\n",
        "plt.xlabel('Epochs')\n",
        "plt.ylabel('Accuracy')\n",
        "plt.legend()\n",
        "\n",
        "plt.show()"
      ],
      "metadata": {
        "colab": {
          "base_uri": "https://localhost:8080/",
          "height": 295
        },
        "id": "WYbhuf0T5fFs",
        "outputId": "479c61cb-73c3-4496-dd19-33ac2dc0703b"
      },
      "execution_count": null,
      "outputs": [
        {
          "output_type": "display_data",
          "data": {
            "image/png": "[encoded data removed]",
            "text/plain": [
              "<Figure size 432x288 with 1 Axes>"
            ]
          },
          "metadata": {
            "needs_background": "light"
          }
        }
      ]
    },
    {
      "cell_type": "markdown",
      "source": [
        "##회고\n",
        "1. 한국어 word2vec 임베딩을 활용해서 accuracy는 높였으나 오버피팅은 거의 그대로\n",
        "2. 마지막 result는 LSTM 이고 다른 모델들도 결과는 비슷했다.(최악은 MaxPooling 레이어 1개 들어간 모델)\n",
        "3. NLP에 대해 잘은 모르지만 한국어가 영어보다 훈련하기 어렵지 않을까 생각해본다."
      ],
      "metadata": {
        "id": "eEyQchM3Glyw"
      }
    }
  ]
}