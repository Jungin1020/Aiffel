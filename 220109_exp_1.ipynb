{
  "nbformat": 4,
  "nbformat_minor": 0,
  "metadata": {
    "colab": {
      "name": "220109_exp_1.ipynb",
      "provenance": [],
      "authorship_tag": "ABX9TyM30VKqWb61ttRhxcxGSKBH",
      "include_colab_link": true
    },
    "kernelspec": {
      "name": "python3",
      "display_name": "Python 3"
    },
    "language_info": {
      "name": "python"
    }
  },
  "cells": [
    {
      "cell_type": "markdown",
      "metadata": {
        "id": "view-in-github",
        "colab_type": "text"
      },
      "source": [
        "<a href=\"https://colab.research.google.com/github/Jungin1020/Aiffel_exp/blob/main/220109_exp_1.ipynb\" target=\"_parent\"><img src=\"https://colab.research.google.com/assets/colab-badge.svg\" alt=\"Open In Colab\"/></a>"
      ]
    },
    {
      "cell_type": "code",
      "execution_count": 1,
      "metadata": {
        "id": "f2WYCjAgIJrQ"
      },
      "outputs": [],
      "source": [
        "import tensorflow as tf\n",
        "from tensorflow import keras\n",
        "\n",
        "import numpy as np\n",
        "import matplotlib.pyplot as plt"
      ]
    },
    {
      "cell_type": "code",
      "source": [
        "from google.colab import drive\n",
        "drive.mount('/content/drive')\n",
        "\n",
        "from PIL import Image\n",
        "import glob\n",
        "\n",
        "from skimage import color"
      ],
      "metadata": {
        "colab": {
          "base_uri": "https://localhost:8080/"
        },
        "id": "bU9d6ckwJU4g",
        "outputId": "cabb8a24-183d-4585-c62c-1781725e97b7"
      },
      "execution_count": 23,
      "outputs": [
        {
          "output_type": "stream",
          "name": "stdout",
          "text": [
            "Drive already mounted at /content/drive; to attempt to forcibly remount, call drive.mount(\"/content/drive\", force_remount=True).\n"
          ]
        }
      ]
    },
    {
      "cell_type": "code",
      "source": [
        "def resize_images(img_path):\n",
        "  images = glob.glob(img_path + '/*.jpg')\n",
        "\n",
        "  print(len(images), 'images to be resized.')\n",
        "\n",
        "  target_size = (28,28)\n",
        "  for img in images:\n",
        "    old_img = Image.open(img)\n",
        "    new_img = old_img.resize(target_size,Image.ANTIALIAS)\n",
        "    new_img.save(img,\"JPEG\")\n",
        "\n",
        "  print(len(images), 'images resized.')\n",
        "\n",
        "\n",
        "image_dir_path = '/content/drive/MyDrive/aiffel/rock_scissor_paper/rock'\n",
        "resize_images(image_dir_path)\n",
        "\n",
        "print('Rock images resizing is done.')"
      ],
      "metadata": {
        "colab": {
          "base_uri": "https://localhost:8080/"
        },
        "id": "ynL6BzLGMeFQ",
        "outputId": "22380dff-8f20-466f-a4bf-e7b088a52b94"
      },
      "execution_count": 107,
      "outputs": [
        {
          "output_type": "stream",
          "name": "stdout",
          "text": [
            "600 images to be resized.\n",
            "600 images resized.\n",
            "Rock images resizing is done.\n"
          ]
        }
      ]
    },
    {
      "cell_type": "code",
      "source": [
        "image_dir_path = '/content/drive/MyDrive/aiffel/rock_scissor_paper/scissor'\n",
        "resize_images(image_dir_path)\n",
        "\n",
        "print('Scissor images resizing is done.')"
      ],
      "metadata": {
        "colab": {
          "base_uri": "https://localhost:8080/"
        },
        "id": "_Fb_B4YPPmY7",
        "outputId": "ada1a1f3-dfb7-4122-decf-c84e454fea01"
      },
      "execution_count": 108,
      "outputs": [
        {
          "output_type": "stream",
          "name": "stdout",
          "text": [
            "600 images to be resized.\n",
            "600 images resized.\n",
            "Scissor images resizing is done.\n"
          ]
        }
      ]
    },
    {
      "cell_type": "code",
      "source": [
        "image_dir_path = '/content/drive/MyDrive/aiffel/rock_scissor_paper/paper'\n",
        "resize_images(image_dir_path)\n",
        "\n",
        "print('Paper images resizing is done.')"
      ],
      "metadata": {
        "colab": {
          "base_uri": "https://localhost:8080/"
        },
        "id": "3GdNqozfP7TV",
        "outputId": "ab0161fb-8c06-4332-945d-79d00a8f8b3c"
      },
      "execution_count": 109,
      "outputs": [
        {
          "output_type": "stream",
          "name": "stdout",
          "text": [
            "600 images to be resized.\n",
            "600 images resized.\n",
            "Paper images resizing is done.\n"
          ]
        }
      ]
    },
    {
      "cell_type": "code",
      "source": [
        "def load_data(img_path, number_of_data = 1800):\n",
        "  img_size = 28\n",
        "  color = 3 #흑백이미지라 1을 넣었는데 오류나서 3으로 바꿈\n",
        "  imgs = np.zeros(number_of_data*img_size*img_size*color,dtype=np.int32).reshape(number_of_data,img_size,img_size,color)\n",
        "  labels = np.zeros(number_of_data,dtype=np.int32) #int32가 뭐여...\n",
        "\n",
        "  idx = 0\n",
        "  for file in glob.iglob(img_path + '/rock/*.jpg'):\n",
        "    img = np.array(Image.open(file),dtype=np.int32)\n",
        "    imgs[idx,:,:,:] = img\n",
        "    labels[idx] = 0 # 바위 : 0\n",
        "    idx = idx+1\n",
        "\n",
        "  \n",
        "  for file in glob.iglob(img_path + '/scissor/*.jpg'):\n",
        "    img = np.array(Image.open(file),dtype=np.int32)\n",
        "    imgs[idx,:,:,:] = img\n",
        "    labels[idx] = 1 # 가위 : 1\n",
        "    idx = idx+1\n",
        "    \n",
        "  \n",
        "  for file in glob.iglob(img_path + '/paper/*.jpg'):\n",
        "    img = np.array(Image.open(file),dtype=np.int32)\n",
        "    imgs[idx,:,:,:] = img\n",
        "    labels[idx] = 2 # 보 : 2\n",
        "    idx = idx+1\n",
        "    \n",
        "\n",
        "  print('Amount of train data is', idx)\n",
        "  return imgs, labels\n",
        "\n",
        "image_dir_path = '/content/drive/MyDrive/aiffel/rock_scissor_paper/'\n",
        "(x_train, y_train) = load_data(image_dir_path)\n",
        "x_train_norm = x_train/255.0\n",
        "\n",
        "print('x_train shape: {}'.format(x_train.shape))\n",
        "print('y_train shape: {}'.format(y_train.shape))\n"
      ],
      "metadata": {
        "colab": {
          "base_uri": "https://localhost:8080/"
        },
        "id": "7N-Ybo0RQQ7Q",
        "outputId": "bf16642b-c309-4112-8bc8-23a762cc23ee"
      },
      "execution_count": 110,
      "outputs": [
        {
          "output_type": "stream",
          "name": "stdout",
          "text": [
            "Amount of train data is 1800\n",
            "x_train shape: (1800, 28, 28, 3)\n",
            "y_train shape: (1800,)\n"
          ]
        }
      ]
    },
    {
      "cell_type": "code",
      "source": [
        "plt.imshow(x_train[0])\n",
        "print('라벨: ',y_train[0])"
      ],
      "metadata": {
        "colab": {
          "base_uri": "https://localhost:8080/",
          "height": 282
        },
        "id": "GOmcGOUsVuke",
        "outputId": "e0cc3823-299c-4062-e2a3-5363176193cc"
      },
      "execution_count": 111,
      "outputs": [
        {
          "output_type": "stream",
          "name": "stdout",
          "text": [
            "라벨:  0\n"
          ]
        },
        {
          "output_type": "display_data",
          "data": {
            "image/png": "[encoded data removed]",
            "text/plain": [
              "<Figure size 432x288 with 1 Axes>"
            ]
          },
          "metadata": {
            "needs_background": "light"
          }
        }
      ]
    },
    {
      "cell_type": "code",
      "source": [
        "\n",
        "model=keras.models.Sequential()\n",
        "model.add(keras.layers.Conv2D(16,(3,3),activation='relu', input_shape=(28,28,3)))\n",
        "\n",
        "model.add(keras.layers.MaxPool2D(2,2))\n",
        "model.add(keras.layers.Conv2D(32,(3,3),activation='relu'))\n",
        "model.add(keras.layers.MaxPooling2D((2,2)))\n",
        "model.add(keras.layers.Conv2D(64,(3,3),activation='relu'))\n",
        "model.add(keras.layers.MaxPooling2D((2,2)))\n",
        "model.add(keras.layers.Flatten())\n",
        "model.add(keras.layers.Dense(64, activation='relu'))\n",
        "\n",
        "model.add(keras.layers.Dense(10, activation='softmax'))\n",
        "\n",
        "print('Model에 추가된 Layer 개수: ', len(model.layers))\n",
        "\n",
        "\n",
        "model.summary()"
      ],
      "metadata": {
        "colab": {
          "base_uri": "https://localhost:8080/"
        },
        "id": "ZKnceBQwWD73",
        "outputId": "be82390e-7fb6-4cff-9aa0-ab0bc9a8ea37"
      },
      "execution_count": 112,
      "outputs": [
        {
          "output_type": "stream",
          "name": "stdout",
          "text": [
            "Model에 추가된 Layer 개수:  9\n",
            "Model: \"sequential_12\"\n",
            "_________________________________________________________________\n",
            " Layer (type)                Output Shape              Param #   \n",
            "=================================================================\n",
            " conv2d_29 (Conv2D)          (None, 26, 26, 16)        448       \n",
            "                                                                 \n",
            " max_pooling2d_29 (MaxPoolin  (None, 13, 13, 16)       0         \n",
            " g2D)                                                            \n",
            "                                                                 \n",
            " conv2d_30 (Conv2D)          (None, 11, 11, 32)        4640      \n",
            "                                                                 \n",
            " max_pooling2d_30 (MaxPoolin  (None, 5, 5, 32)         0         \n",
            " g2D)                                                            \n",
            "                                                                 \n",
            " conv2d_31 (Conv2D)          (None, 3, 3, 64)          18496     \n",
            "                                                                 \n",
            " max_pooling2d_31 (MaxPoolin  (None, 1, 1, 64)         0         \n",
            " g2D)                                                            \n",
            "                                                                 \n",
            " flatten_12 (Flatten)        (None, 64)                0         \n",
            "                                                                 \n",
            " dense_24 (Dense)            (None, 64)                4160      \n",
            "                                                                 \n",
            " dense_25 (Dense)            (None, 10)                650       \n",
            "                                                                 \n",
            "=================================================================\n",
            "Total params: 28,394\n",
            "Trainable params: 28,394\n",
            "Non-trainable params: 0\n",
            "_________________________________________________________________\n"
          ]
        }
      ]
    },
    {
      "cell_type": "code",
      "source": [
        "model.compile(optimizer = 'adam', loss='sparse_categorical_crossentropy', metrics=['accuracy'])\n",
        "model.fit(x_train_norm, y_train, epochs=80)"
      ],
      "metadata": {
        "colab": {
          "base_uri": "https://localhost:8080/"
        },
        "id": "7PIk02iEXo4V",
        "outputId": "d7490027-f832-43a6-e72e-d5ae7ad4b61e"
      },
      "execution_count": 117,
      "outputs": [
        {
          "output_type": "stream",
          "name": "stdout",
          "text": [
            "Epoch 1/80\n",
            "57/57 [==============================] - 2s 24ms/step - loss: 0.0303 - accuracy: 0.9906\n",
            "Epoch 2/80\n",
            "57/57 [==============================] - 1s 25ms/step - loss: 9.5739e-04 - accuracy: 1.0000\n",
            "Epoch 3/80\n",
            "57/57 [==============================] - 1s 24ms/step - loss: 1.9517e-04 - accuracy: 1.0000\n",
            "Epoch 4/80\n",
            "57/57 [==============================] - 1s 24ms/step - loss: 1.3476e-04 - accuracy: 1.0000\n",
            "Epoch 5/80\n",
            "57/57 [==============================] - 1s 25ms/step - loss: 1.2332e-04 - accuracy: 1.0000\n",
            "Epoch 6/80\n",
            "57/57 [==============================] - 1s 24ms/step - loss: 1.0641e-04 - accuracy: 1.0000\n",
            "Epoch 7/80\n",
            "57/57 [==============================] - 1s 25ms/step - loss: 9.6938e-05 - accuracy: 1.0000\n",
            "Epoch 8/80\n",
            "57/57 [==============================] - 1s 25ms/step - loss: 8.9372e-05 - accuracy: 1.0000\n",
            "Epoch 9/80\n",
            "57/57 [==============================] - 1s 24ms/step - loss: 8.1513e-05 - accuracy: 1.0000\n",
            "Epoch 10/80\n",
            "57/57 [==============================] - 1s 24ms/step - loss: 7.7149e-05 - accuracy: 1.0000\n",
            "Epoch 11/80\n",
            "57/57 [==============================] - 1s 25ms/step - loss: 7.1741e-05 - accuracy: 1.0000\n",
            "Epoch 12/80\n",
            "57/57 [==============================] - 1s 24ms/step - loss: 6.8376e-05 - accuracy: 1.0000\n",
            "Epoch 13/80\n",
            "57/57 [==============================] - 1s 24ms/step - loss: 6.5445e-05 - accuracy: 1.0000\n",
            "Epoch 14/80\n",
            "57/57 [==============================] - 1s 24ms/step - loss: 6.0937e-05 - accuracy: 1.0000\n",
            "Epoch 15/80\n",
            "57/57 [==============================] - 1s 25ms/step - loss: 5.6452e-05 - accuracy: 1.0000\n",
            "Epoch 16/80\n",
            "57/57 [==============================] - 1s 24ms/step - loss: 5.2732e-05 - accuracy: 1.0000\n",
            "Epoch 17/80\n",
            "57/57 [==============================] - 1s 24ms/step - loss: 4.8682e-05 - accuracy: 1.0000\n",
            "Epoch 18/80\n",
            "57/57 [==============================] - 1s 24ms/step - loss: 4.7325e-05 - accuracy: 1.0000\n",
            "Epoch 19/80\n",
            "57/57 [==============================] - 1s 24ms/step - loss: 4.6002e-05 - accuracy: 1.0000\n",
            "Epoch 20/80\n",
            "57/57 [==============================] - 1s 24ms/step - loss: 4.3499e-05 - accuracy: 1.0000\n",
            "Epoch 21/80\n",
            "57/57 [==============================] - 1s 24ms/step - loss: 4.2798e-05 - accuracy: 1.0000\n",
            "Epoch 22/80\n",
            "57/57 [==============================] - 1s 24ms/step - loss: 3.9214e-05 - accuracy: 1.0000\n",
            "Epoch 23/80\n",
            "57/57 [==============================] - 1s 25ms/step - loss: 3.7706e-05 - accuracy: 1.0000\n",
            "Epoch 24/80\n",
            "57/57 [==============================] - 1s 24ms/step - loss: 3.5391e-05 - accuracy: 1.0000\n",
            "Epoch 25/80\n",
            "57/57 [==============================] - 1s 24ms/step - loss: 3.5364e-05 - accuracy: 1.0000\n",
            "Epoch 26/80\n",
            "57/57 [==============================] - 1s 24ms/step - loss: 3.3595e-05 - accuracy: 1.0000\n",
            "Epoch 27/80\n",
            "57/57 [==============================] - 1s 24ms/step - loss: 3.0795e-05 - accuracy: 1.0000\n",
            "Epoch 28/80\n",
            "57/57 [==============================] - 1s 24ms/step - loss: 2.8720e-05 - accuracy: 1.0000\n",
            "Epoch 29/80\n",
            "57/57 [==============================] - 1s 24ms/step - loss: 2.8863e-05 - accuracy: 1.0000\n",
            "Epoch 30/80\n",
            "57/57 [==============================] - 1s 24ms/step - loss: 2.6420e-05 - accuracy: 1.0000\n",
            "Epoch 31/80\n",
            "57/57 [==============================] - 1s 24ms/step - loss: 2.6480e-05 - accuracy: 1.0000\n",
            "Epoch 32/80\n",
            "57/57 [==============================] - 1s 24ms/step - loss: 2.5114e-05 - accuracy: 1.0000\n",
            "Epoch 33/80\n",
            "57/57 [==============================] - 1s 24ms/step - loss: 2.5076e-05 - accuracy: 1.0000\n",
            "Epoch 34/80\n",
            "57/57 [==============================] - 1s 24ms/step - loss: 2.2639e-05 - accuracy: 1.0000\n",
            "Epoch 35/80\n",
            "57/57 [==============================] - 1s 23ms/step - loss: 2.2097e-05 - accuracy: 1.0000\n",
            "Epoch 36/80\n",
            "57/57 [==============================] - 1s 23ms/step - loss: 2.0815e-05 - accuracy: 1.0000\n",
            "Epoch 37/80\n",
            "57/57 [==============================] - 1s 24ms/step - loss: 2.0838e-05 - accuracy: 1.0000\n",
            "Epoch 38/80\n",
            "57/57 [==============================] - 1s 25ms/step - loss: 2.0038e-05 - accuracy: 1.0000\n",
            "Epoch 39/80\n",
            "57/57 [==============================] - 1s 24ms/step - loss: 1.9503e-05 - accuracy: 1.0000\n",
            "Epoch 40/80\n",
            "57/57 [==============================] - 1s 24ms/step - loss: 1.8303e-05 - accuracy: 1.0000\n",
            "Epoch 41/80\n",
            "57/57 [==============================] - 1s 24ms/step - loss: 1.8536e-05 - accuracy: 1.0000\n",
            "Epoch 42/80\n",
            "57/57 [==============================] - 1s 24ms/step - loss: 1.7209e-05 - accuracy: 1.0000\n",
            "Epoch 43/80\n",
            "57/57 [==============================] - 1s 23ms/step - loss: 1.6636e-05 - accuracy: 1.0000\n",
            "Epoch 44/80\n",
            "57/57 [==============================] - 1s 24ms/step - loss: 1.5797e-05 - accuracy: 1.0000\n",
            "Epoch 45/80\n",
            "57/57 [==============================] - 1s 24ms/step - loss: 1.5448e-05 - accuracy: 1.0000\n",
            "Epoch 46/80\n",
            "57/57 [==============================] - 1s 26ms/step - loss: 1.4791e-05 - accuracy: 1.0000\n",
            "Epoch 47/80\n",
            "57/57 [==============================] - 1s 24ms/step - loss: 1.3919e-05 - accuracy: 1.0000\n",
            "Epoch 48/80\n",
            "57/57 [==============================] - 1s 24ms/step - loss: 1.3488e-05 - accuracy: 1.0000\n",
            "Epoch 49/80\n",
            "57/57 [==============================] - 1s 24ms/step - loss: 1.3050e-05 - accuracy: 1.0000\n",
            "Epoch 50/80\n",
            "57/57 [==============================] - 1s 24ms/step - loss: 1.2646e-05 - accuracy: 1.0000\n",
            "Epoch 51/80\n",
            "57/57 [==============================] - 1s 24ms/step - loss: 1.2059e-05 - accuracy: 1.0000\n",
            "Epoch 52/80\n",
            "57/57 [==============================] - 1s 25ms/step - loss: 1.1562e-05 - accuracy: 1.0000\n",
            "Epoch 53/80\n",
            "57/57 [==============================] - 1s 24ms/step - loss: 1.1410e-05 - accuracy: 1.0000\n",
            "Epoch 54/80\n",
            "57/57 [==============================] - 1s 24ms/step - loss: 1.1396e-05 - accuracy: 1.0000\n",
            "Epoch 55/80\n",
            "57/57 [==============================] - 1s 25ms/step - loss: 1.1167e-05 - accuracy: 1.0000\n",
            "Epoch 56/80\n",
            "57/57 [==============================] - 1s 23ms/step - loss: 1.0372e-05 - accuracy: 1.0000\n",
            "Epoch 57/80\n",
            "57/57 [==============================] - 1s 23ms/step - loss: 9.8809e-06 - accuracy: 1.0000\n",
            "Epoch 58/80\n",
            "57/57 [==============================] - 1s 23ms/step - loss: 9.7493e-06 - accuracy: 1.0000\n",
            "Epoch 59/80\n",
            "57/57 [==============================] - 1s 23ms/step - loss: 9.1720e-06 - accuracy: 1.0000\n",
            "Epoch 60/80\n",
            "57/57 [==============================] - 1s 23ms/step - loss: 8.8344e-06 - accuracy: 1.0000\n",
            "Epoch 61/80\n",
            "57/57 [==============================] - 1s 24ms/step - loss: 8.7418e-06 - accuracy: 1.0000\n",
            "Epoch 62/80\n",
            "57/57 [==============================] - 1s 24ms/step - loss: 9.1692e-06 - accuracy: 1.0000\n",
            "Epoch 63/80\n",
            "57/57 [==============================] - 1s 24ms/step - loss: 8.2471e-06 - accuracy: 1.0000\n",
            "Epoch 64/80\n",
            "57/57 [==============================] - 1s 23ms/step - loss: 8.1204e-06 - accuracy: 1.0000\n",
            "Epoch 65/80\n",
            "57/57 [==============================] - 1s 24ms/step - loss: 7.6760e-06 - accuracy: 1.0000\n",
            "Epoch 66/80\n",
            "57/57 [==============================] - 1s 23ms/step - loss: 7.4269e-06 - accuracy: 1.0000\n",
            "Epoch 67/80\n",
            "57/57 [==============================] - 1s 23ms/step - loss: 7.1670e-06 - accuracy: 1.0000\n",
            "Epoch 68/80\n",
            "57/57 [==============================] - 1s 23ms/step - loss: 6.8361e-06 - accuracy: 1.0000\n",
            "Epoch 69/80\n",
            "57/57 [==============================] - 1s 24ms/step - loss: 6.6529e-06 - accuracy: 1.0000\n",
            "Epoch 70/80\n",
            "57/57 [==============================] - 1s 24ms/step - loss: 6.5540e-06 - accuracy: 1.0000\n",
            "Epoch 71/80\n",
            "57/57 [==============================] - 1s 24ms/step - loss: 6.4036e-06 - accuracy: 1.0000\n",
            "Epoch 72/80\n",
            "57/57 [==============================] - 1s 23ms/step - loss: 6.1252e-06 - accuracy: 1.0000\n",
            "Epoch 73/80\n",
            "57/57 [==============================] - 1s 23ms/step - loss: 6.1670e-06 - accuracy: 1.0000\n",
            "Epoch 74/80\n",
            "57/57 [==============================] - 1s 23ms/step - loss: 5.6936e-06 - accuracy: 1.0000\n",
            "Epoch 75/80\n",
            "57/57 [==============================] - 1s 25ms/step - loss: 5.4922e-06 - accuracy: 1.0000\n",
            "Epoch 76/80\n",
            "57/57 [==============================] - 1s 24ms/step - loss: 5.6815e-06 - accuracy: 1.0000\n",
            "Epoch 77/80\n",
            "57/57 [==============================] - 1s 26ms/step - loss: 5.3477e-06 - accuracy: 1.0000\n",
            "Epoch 78/80\n",
            "57/57 [==============================] - 1s 25ms/step - loss: 5.0484e-06 - accuracy: 1.0000\n",
            "Epoch 79/80\n",
            "57/57 [==============================] - 1s 24ms/step - loss: 4.9971e-06 - accuracy: 1.0000\n",
            "Epoch 80/80\n",
            "57/57 [==============================] - 1s 24ms/step - loss: 4.6826e-06 - accuracy: 1.0000\n"
          ]
        },
        {
          "output_type": "execute_result",
          "data": {
            "text/plain": [
              "<keras.callbacks.History at 0x7f8be5443190>"
            ]
          },
          "metadata": {},
          "execution_count": 117
        }
      ]
    },
    {
      "cell_type": "code",
      "source": [
        "# 테스트 데이터 준비\n",
        "\n",
        "def resize_images(img_path):\n",
        "  images = glob.glob(img_path + '/*.jpg')\n",
        "\n",
        "  print(len(images), 'images to be resized.')\n",
        "\n",
        "  target_size = (28,28)\n",
        "  for img in images:\n",
        "    old_img = Image.open(img)\n",
        "    new_img = old_img.resize(target_size,Image.ANTIALIAS)\n",
        "    new_img.save(img,\"JPEG\")\n",
        "\n",
        "  print(len(images), 'images resized.')\n",
        "\n",
        "\n",
        "image_dir_path = '/content/drive/MyDrive/aiffel/rock_scissor_paper/rock_scissor_paper_test/rock'\n",
        "resize_images(image_dir_path)\n",
        "\n",
        "print('Rock test images resizing is done.')\n",
        "\n",
        "image_dir_path = '/content/drive/MyDrive/aiffel/rock_scissor_paper/rock_scissor_paper_test/scissor'\n",
        "resize_images(image_dir_path)\n",
        "\n",
        "print('Scissor test images resizing is done.')\n",
        "\n",
        "image_dir_path = '/content/drive/MyDrive/aiffel/rock_scissor_paper/rock_scissor_paper_test/paper'\n",
        "resize_images(image_dir_path)\n",
        "\n",
        "print('Paper test images resizing is done.')"
      ],
      "metadata": {
        "colab": {
          "base_uri": "https://localhost:8080/"
        },
        "id": "5WC9SPRtXxV8",
        "outputId": "44b47b40-ff21-4160-98e2-cef920f4bda8"
      },
      "execution_count": 118,
      "outputs": [
        {
          "output_type": "stream",
          "name": "stdout",
          "text": [
            "100 images to be resized.\n",
            "100 images resized.\n",
            "Rock test images resizing is done.\n",
            "100 images to be resized.\n",
            "100 images resized.\n",
            "Scissor test images resizing is done.\n",
            "100 images to be resized.\n",
            "100 images resized.\n",
            "Paper test images resizing is done.\n"
          ]
        }
      ]
    },
    {
      "cell_type": "code",
      "source": [
        "def load_data(img_path, number_of_data = 300):\n",
        "  img_size = 28\n",
        "  color = 3\n",
        "  imgs = np.zeros(number_of_data*img_size*img_size*color,dtype=np.int32).reshape(number_of_data,img_size,img_size,color)\n",
        "  labels = np.zeros(number_of_data,dtype=np.int32) \n",
        "\n",
        "  idx = 0\n",
        "  for file in glob.iglob(img_path + '/rock/*.jpg'):\n",
        "    img = np.array(Image.open(file),dtype=np.int32)\n",
        "    imgs[idx,:,:,:] = img\n",
        "    labels[idx] = 0 # 바위 : 0\n",
        "    idx = idx+1\n",
        "\n",
        "  \n",
        "  for file in glob.iglob(img_path + '/scissor/*.jpg'):\n",
        "    img = np.array(Image.open(file),dtype=np.int32)\n",
        "    imgs[idx,:,:,:] = img\n",
        "    labels[idx] = 1 # 가위 : 1\n",
        "    idx = idx+1\n",
        "    \n",
        "  \n",
        "  for file in glob.iglob(img_path + '/paper/*.jpg'):\n",
        "    img = np.array(Image.open(file),dtype=np.int32)\n",
        "    imgs[idx,:,:,:] = img\n",
        "    labels[idx] = 2 # 보 : 2\n",
        "    idx = idx+1\n",
        "    \n",
        "\n",
        "  print('Amount of train data is', idx)\n",
        "  return imgs, labels\n",
        "\n",
        "image_dir_path = '/content/drive/MyDrive/aiffel/rock_scissor_paper/rock_scissor_paper_test/'\n",
        "(x_test, y_test) = load_data(image_dir_path)\n",
        "x_test_norm = x_test/255.0\n",
        "\n",
        "print('x_train shape: {}'.format(x_test.shape))\n",
        "print('y_train shape: {}'.format(y_test.shape))\n"
      ],
      "metadata": {
        "colab": {
          "base_uri": "https://localhost:8080/"
        },
        "id": "jHv9fXu2egb0",
        "outputId": "9bfac82d-506f-42a5-fe97-a24cb2b972cf"
      },
      "execution_count": 119,
      "outputs": [
        {
          "output_type": "stream",
          "name": "stdout",
          "text": [
            "Amount of train data is 300\n",
            "x_train shape: (300, 28, 28, 3)\n",
            "y_train shape: (300,)\n"
          ]
        }
      ]
    },
    {
      "cell_type": "code",
      "source": [
        "test_loss, test_accuracy = model.evaluate(x_test_norm,y_test, verbose=2)\n",
        "print('test_loss: {}'.format(test_loss))\n",
        "print('test_accuracy: {}'.format(test_accuracy))"
      ],
      "metadata": {
        "colab": {
          "base_uri": "https://localhost:8080/"
        },
        "id": "MM8dyUddffTV",
        "outputId": "9784a028-b43f-4140-90e7-5ed1ccc93a4f"
      },
      "execution_count": 120,
      "outputs": [
        {
          "output_type": "stream",
          "name": "stdout",
          "text": [
            "10/10 - 0s - loss: 5.9302 - accuracy: 0.7133 - 271ms/epoch - 27ms/step\n",
            "test_loss: 5.930184841156006\n",
            "test_accuracy: 0.7133333086967468\n"
          ]
        }
      ]
    }
  ]
}